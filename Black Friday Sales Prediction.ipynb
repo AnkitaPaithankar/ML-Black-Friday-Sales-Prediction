{
 "cells": [
  {
   "cell_type": "code",
   "execution_count": 567,
   "metadata": {},
   "outputs": [],
   "source": [
    "import numpy as np\n",
    "import pandas as pd\n",
    "import matplotlib.pyplot as plt\n",
    "%matplotlib inline\n",
    "import seaborn as sns\n",
    "\n",
    "import warnings\n",
    "warnings.filterwarnings(\"ignore\")\n",
    "\n",
    "train=pd.read_csv(\"train.csv\")\n",
    "test=pd.read_csv(\"test.csv\")\n"
   ]
  },
  {
   "cell_type": "code",
   "execution_count": 568,
   "metadata": {},
   "outputs": [],
   "source": [
    "from sklearn.model_selection import train_test_split,KFold,StratifiedKFold,GridSearchCV,RandomizedSearchCV,cross_val_score\n",
    "from sklearn.ensemble import RandomForestClassifier,BaggingClassifier,AdaBoostClassifier,GradientBoostingClassifier,RandomForestRegressor,BaggingRegressor,AdaBoostRegressor,GradientBoostingRegressor\n",
    "from sklearn.linear_model import LinearRegression,LogisticRegression,Lasso, Ridge\n",
    "from sklearn.tree import DecisionTreeClassifier,DecisionTreeRegressor\n",
    "from sklearn.naive_bayes import GaussianNB\n",
    "from sklearn.neighbors import KNeighborsClassifier,KNeighborsRegressor\n",
    "import sklearn.metrics as metrics\n",
    "from sklearn.metrics import r2_score,roc_auc_score,classification_report,mean_squared_error,accuracy_score,confusion_matrix"
   ]
  },
  {
   "cell_type": "code",
   "execution_count": 569,
   "metadata": {},
   "outputs": [
    {
     "data": {
      "text/html": [
       "<div>\n",
       "<style scoped>\n",
       "    .dataframe tbody tr th:only-of-type {\n",
       "        vertical-align: middle;\n",
       "    }\n",
       "\n",
       "    .dataframe tbody tr th {\n",
       "        vertical-align: top;\n",
       "    }\n",
       "\n",
       "    .dataframe thead th {\n",
       "        text-align: right;\n",
       "    }\n",
       "</style>\n",
       "<table border=\"1\" class=\"dataframe\">\n",
       "  <thead>\n",
       "    <tr style=\"text-align: right;\">\n",
       "      <th></th>\n",
       "      <th>User_ID</th>\n",
       "      <th>Product_ID</th>\n",
       "      <th>Gender</th>\n",
       "      <th>Age</th>\n",
       "      <th>Occupation</th>\n",
       "      <th>City_Category</th>\n",
       "      <th>Stay_In_Current_City_Years</th>\n",
       "      <th>Marital_Status</th>\n",
       "      <th>Product_Category_1</th>\n",
       "      <th>Product_Category_2</th>\n",
       "      <th>Product_Category_3</th>\n",
       "      <th>Purchase</th>\n",
       "    </tr>\n",
       "  </thead>\n",
       "  <tbody>\n",
       "    <tr>\n",
       "      <th>0</th>\n",
       "      <td>1000001</td>\n",
       "      <td>P00069042</td>\n",
       "      <td>F</td>\n",
       "      <td>0-17</td>\n",
       "      <td>10</td>\n",
       "      <td>A</td>\n",
       "      <td>2</td>\n",
       "      <td>0</td>\n",
       "      <td>3</td>\n",
       "      <td>NaN</td>\n",
       "      <td>NaN</td>\n",
       "      <td>8370</td>\n",
       "    </tr>\n",
       "    <tr>\n",
       "      <th>1</th>\n",
       "      <td>1000001</td>\n",
       "      <td>P00248942</td>\n",
       "      <td>F</td>\n",
       "      <td>0-17</td>\n",
       "      <td>10</td>\n",
       "      <td>A</td>\n",
       "      <td>2</td>\n",
       "      <td>0</td>\n",
       "      <td>1</td>\n",
       "      <td>6.0</td>\n",
       "      <td>14.0</td>\n",
       "      <td>15200</td>\n",
       "    </tr>\n",
       "    <tr>\n",
       "      <th>2</th>\n",
       "      <td>1000001</td>\n",
       "      <td>P00087842</td>\n",
       "      <td>F</td>\n",
       "      <td>0-17</td>\n",
       "      <td>10</td>\n",
       "      <td>A</td>\n",
       "      <td>2</td>\n",
       "      <td>0</td>\n",
       "      <td>12</td>\n",
       "      <td>NaN</td>\n",
       "      <td>NaN</td>\n",
       "      <td>1422</td>\n",
       "    </tr>\n",
       "    <tr>\n",
       "      <th>3</th>\n",
       "      <td>1000001</td>\n",
       "      <td>P00085442</td>\n",
       "      <td>F</td>\n",
       "      <td>0-17</td>\n",
       "      <td>10</td>\n",
       "      <td>A</td>\n",
       "      <td>2</td>\n",
       "      <td>0</td>\n",
       "      <td>12</td>\n",
       "      <td>14.0</td>\n",
       "      <td>NaN</td>\n",
       "      <td>1057</td>\n",
       "    </tr>\n",
       "    <tr>\n",
       "      <th>4</th>\n",
       "      <td>1000002</td>\n",
       "      <td>P00285442</td>\n",
       "      <td>M</td>\n",
       "      <td>55+</td>\n",
       "      <td>16</td>\n",
       "      <td>C</td>\n",
       "      <td>4+</td>\n",
       "      <td>0</td>\n",
       "      <td>8</td>\n",
       "      <td>NaN</td>\n",
       "      <td>NaN</td>\n",
       "      <td>7969</td>\n",
       "    </tr>\n",
       "  </tbody>\n",
       "</table>\n",
       "</div>"
      ],
      "text/plain": [
       "   User_ID Product_ID Gender   Age  Occupation City_Category  \\\n",
       "0  1000001  P00069042      F  0-17          10             A   \n",
       "1  1000001  P00248942      F  0-17          10             A   \n",
       "2  1000001  P00087842      F  0-17          10             A   \n",
       "3  1000001  P00085442      F  0-17          10             A   \n",
       "4  1000002  P00285442      M   55+          16             C   \n",
       "\n",
       "  Stay_In_Current_City_Years  Marital_Status  Product_Category_1  \\\n",
       "0                          2               0                   3   \n",
       "1                          2               0                   1   \n",
       "2                          2               0                  12   \n",
       "3                          2               0                  12   \n",
       "4                         4+               0                   8   \n",
       "\n",
       "   Product_Category_2  Product_Category_3  Purchase  \n",
       "0                 NaN                 NaN      8370  \n",
       "1                 6.0                14.0     15200  \n",
       "2                 NaN                 NaN      1422  \n",
       "3                14.0                 NaN      1057  \n",
       "4                 NaN                 NaN      7969  "
      ]
     },
     "execution_count": 569,
     "metadata": {},
     "output_type": "execute_result"
    }
   ],
   "source": [
    "train.head()"
   ]
  },
  {
   "cell_type": "code",
   "execution_count": 570,
   "metadata": {},
   "outputs": [],
   "source": [
    "train_cpy=train.copy()\n",
    "test_cpy=test.copy()"
   ]
  },
  {
   "cell_type": "code",
   "execution_count": 571,
   "metadata": {},
   "outputs": [
    {
     "data": {
      "text/plain": [
       "(550068, 12)"
      ]
     },
     "execution_count": 571,
     "metadata": {},
     "output_type": "execute_result"
    }
   ],
   "source": [
    "train.shape"
   ]
  },
  {
   "cell_type": "code",
   "execution_count": 572,
   "metadata": {
    "scrolled": true
   },
   "outputs": [
    {
     "name": "stdout",
     "output_type": "stream",
     "text": [
      "<class 'pandas.core.frame.DataFrame'>\n",
      "RangeIndex: 550068 entries, 0 to 550067\n",
      "Data columns (total 12 columns):\n",
      "User_ID                       550068 non-null int64\n",
      "Product_ID                    550068 non-null object\n",
      "Gender                        550068 non-null object\n",
      "Age                           550068 non-null object\n",
      "Occupation                    550068 non-null int64\n",
      "City_Category                 550068 non-null object\n",
      "Stay_In_Current_City_Years    550068 non-null object\n",
      "Marital_Status                550068 non-null int64\n",
      "Product_Category_1            550068 non-null int64\n",
      "Product_Category_2            376430 non-null float64\n",
      "Product_Category_3            166821 non-null float64\n",
      "Purchase                      550068 non-null int64\n",
      "dtypes: float64(2), int64(5), object(5)\n",
      "memory usage: 50.4+ MB\n"
     ]
    }
   ],
   "source": [
    "train.info()"
   ]
  },
  {
   "cell_type": "code",
   "execution_count": 573,
   "metadata": {},
   "outputs": [
    {
     "data": {
      "text/plain": [
       "3631"
      ]
     },
     "execution_count": 573,
     "metadata": {},
     "output_type": "execute_result"
    }
   ],
   "source": [
    "train.Product_ID.nunique()"
   ]
  },
  {
   "cell_type": "code",
   "execution_count": 574,
   "metadata": {},
   "outputs": [
    {
     "data": {
      "text/plain": [
       "5891"
      ]
     },
     "execution_count": 574,
     "metadata": {},
     "output_type": "execute_result"
    }
   ],
   "source": [
    "train.User_ID.nunique()"
   ]
  },
  {
   "cell_type": "code",
   "execution_count": 575,
   "metadata": {},
   "outputs": [
    {
     "data": {
      "text/plain": [
       "Index(['Gender', 'Age', 'City_Category', 'Stay_In_Current_City_Years'], dtype='object')"
      ]
     },
     "execution_count": 575,
     "metadata": {},
     "output_type": "execute_result"
    }
   ],
   "source": [
    "train_cat=train.select_dtypes(include='object')\n",
    "train_cat.drop(['Product_ID'],axis=1,inplace=True)\n",
    "train_cat.columns"
   ]
  },
  {
   "cell_type": "code",
   "execution_count": 576,
   "metadata": {},
   "outputs": [
    {
     "data": {
      "image/png": "[encoded data removed]",
      "text/plain": [
       "<Figure size 432x288 with 1 Axes>"
      ]
     },
     "metadata": {
      "needs_background": "light"
     },
     "output_type": "display_data"
    },
    {
     "data": {
      "image/png": "[encoded data removed]",
      "text/plain": [
       "<Figure size 432x288 with 1 Axes>"
      ]
     },
     "metadata": {
      "needs_background": "light"
     },
     "output_type": "display_data"
    },
    {
     "data": {
      "image/png": "[encoded data removed]",
      "text/plain": [
       "<Figure size 432x288 with 1 Axes>"
      ]
     },
     "metadata": {
      "needs_background": "light"
     },
     "output_type": "display_data"
    },
    {
     "data": {
      "image/png": "[encoded data removed]",
      "text/plain": [
       "<Figure size 432x288 with 1 Axes>"
      ]
     },
     "metadata": {
      "needs_background": "light"
     },
     "output_type": "display_data"
    }
   ],
   "source": [
    "for i in train_cat.columns:\n",
    "    train[i].value_counts().plot.bar()\n",
    "    plt.title('{0}'.format(i))\n",
    "    plt.show()"
   ]
  },
  {
   "cell_type": "markdown",
   "metadata": {},
   "source": [
    "we can say higher number of males purchase.\n",
    "\n",
    "Maximum buyers are in the age group 18-45.\n",
    "\n",
    "City category B type has max buyers than C and least A.\n",
    "\n",
    "The ones new in the city are heavy buyers."
   ]
  },
  {
   "cell_type": "code",
   "execution_count": 577,
   "metadata": {},
   "outputs": [
    {
     "data": {
      "text/plain": [
       "Index(['Occupation', 'Marital_Status', 'Product_Category_1',\n",
       "       'Product_Category_2', 'Product_Category_3', 'Purchase'],\n",
       "      dtype='object')"
      ]
     },
     "execution_count": 577,
     "metadata": {},
     "output_type": "execute_result"
    }
   ],
   "source": [
    "train_numeric=train.select_dtypes(include=['int64','float64'])\n",
    "train_numeric.drop(['User_ID'],axis=1,inplace=True)\n",
    "train_numeric.columns"
   ]
  },
  {
   "cell_type": "code",
   "execution_count": 578,
   "metadata": {},
   "outputs": [
    {
     "data": {
      "image/png": "[encoded data removed]",
      "text/plain": [
       "<Figure size 432x288 with 1 Axes>"
      ]
     },
     "metadata": {
      "needs_background": "light"
     },
     "output_type": "display_data"
    },
    {
     "data": {
      "image/png": "[encoded data removed]",
      "text/plain": [
       "<Figure size 432x288 with 1 Axes>"
      ]
     },
     "metadata": {
      "needs_background": "light"
     },
     "output_type": "display_data"
    },
    {
     "data": {
      "image/png": "[encoded data removed]",
      "text/plain": [
       "<Figure size 432x288 with 1 Axes>"
      ]
     },
     "metadata": {
      "needs_background": "light"
     },
     "output_type": "display_data"
    },
    {
     "data": {
      "image/png": "[encoded data removed]",
      "text/plain": [
       "<Figure size 432x288 with 1 Axes>"
      ]
     },
     "metadata": {
      "needs_background": "light"
     },
     "output_type": "display_data"
    },
    {
     "data": {
      "image/png": "[encoded data removed]",
      "text/plain": [
       "<Figure size 432x288 with 1 Axes>"
      ]
     },
     "metadata": {
      "needs_background": "light"
     },
     "output_type": "display_data"
    },
    {
     "data": {
      "image/png": "[encoded data removed]",
      "text/plain": [
       "<Figure size 432x288 with 1 Axes>"
      ]
     },
     "metadata": {
      "needs_background": "light"
     },
     "output_type": "display_data"
    }
   ],
   "source": [
    "for i in train_numeric.columns:\n",
    "    plt.hist(train[i])\n",
    "    plt.title('{0}'.format(i))\n",
    "    plt.show()"
   ]
  },
  {
   "cell_type": "code",
   "execution_count": 275,
   "metadata": {},
   "outputs": [
    {
     "data": {
      "text/html": [
       "<div>\n",
       "<style scoped>\n",
       "    .dataframe tbody tr th:only-of-type {\n",
       "        vertical-align: middle;\n",
       "    }\n",
       "\n",
       "    .dataframe tbody tr th {\n",
       "        vertical-align: top;\n",
       "    }\n",
       "\n",
       "    .dataframe thead th {\n",
       "        text-align: right;\n",
       "    }\n",
       "</style>\n",
       "<table border=\"1\" class=\"dataframe\">\n",
       "  <thead>\n",
       "    <tr style=\"text-align: right;\">\n",
       "      <th></th>\n",
       "      <th>Occupation</th>\n",
       "      <th>Marital_Status</th>\n",
       "      <th>Product_Category_1</th>\n",
       "      <th>Product_Category_2</th>\n",
       "      <th>Product_Category_3</th>\n",
       "      <th>Purchase</th>\n",
       "    </tr>\n",
       "  </thead>\n",
       "  <tbody>\n",
       "    <tr>\n",
       "      <th>Occupation</th>\n",
       "      <td>1.000000</td>\n",
       "      <td>0.024280</td>\n",
       "      <td>-0.007618</td>\n",
       "      <td>-0.000384</td>\n",
       "      <td>0.013263</td>\n",
       "      <td>0.020833</td>\n",
       "    </tr>\n",
       "    <tr>\n",
       "      <th>Marital_Status</th>\n",
       "      <td>0.024280</td>\n",
       "      <td>1.000000</td>\n",
       "      <td>0.019888</td>\n",
       "      <td>0.015138</td>\n",
       "      <td>0.019473</td>\n",
       "      <td>-0.000463</td>\n",
       "    </tr>\n",
       "    <tr>\n",
       "      <th>Product_Category_1</th>\n",
       "      <td>-0.007618</td>\n",
       "      <td>0.019888</td>\n",
       "      <td>1.000000</td>\n",
       "      <td>0.540583</td>\n",
       "      <td>0.229678</td>\n",
       "      <td>-0.343703</td>\n",
       "    </tr>\n",
       "    <tr>\n",
       "      <th>Product_Category_2</th>\n",
       "      <td>-0.000384</td>\n",
       "      <td>0.015138</td>\n",
       "      <td>0.540583</td>\n",
       "      <td>1.000000</td>\n",
       "      <td>0.543649</td>\n",
       "      <td>-0.209918</td>\n",
       "    </tr>\n",
       "    <tr>\n",
       "      <th>Product_Category_3</th>\n",
       "      <td>0.013263</td>\n",
       "      <td>0.019473</td>\n",
       "      <td>0.229678</td>\n",
       "      <td>0.543649</td>\n",
       "      <td>1.000000</td>\n",
       "      <td>-0.022006</td>\n",
       "    </tr>\n",
       "    <tr>\n",
       "      <th>Purchase</th>\n",
       "      <td>0.020833</td>\n",
       "      <td>-0.000463</td>\n",
       "      <td>-0.343703</td>\n",
       "      <td>-0.209918</td>\n",
       "      <td>-0.022006</td>\n",
       "      <td>1.000000</td>\n",
       "    </tr>\n",
       "  </tbody>\n",
       "</table>\n",
       "</div>"
      ],
      "text/plain": [
       "                    Occupation  Marital_Status  Product_Category_1  \\\n",
       "Occupation            1.000000        0.024280           -0.007618   \n",
       "Marital_Status        0.024280        1.000000            0.019888   \n",
       "Product_Category_1   -0.007618        0.019888            1.000000   \n",
       "Product_Category_2   -0.000384        0.015138            0.540583   \n",
       "Product_Category_3    0.013263        0.019473            0.229678   \n",
       "Purchase              0.020833       -0.000463           -0.343703   \n",
       "\n",
       "                    Product_Category_2  Product_Category_3  Purchase  \n",
       "Occupation                   -0.000384            0.013263  0.020833  \n",
       "Marital_Status                0.015138            0.019473 -0.000463  \n",
       "Product_Category_1            0.540583            0.229678 -0.343703  \n",
       "Product_Category_2            1.000000            0.543649 -0.209918  \n",
       "Product_Category_3            0.543649            1.000000 -0.022006  \n",
       "Purchase                     -0.209918           -0.022006  1.000000  "
      ]
     },
     "execution_count": 275,
     "metadata": {},
     "output_type": "execute_result"
    }
   ],
   "source": [
    "train_numeric.corr()"
   ]
  },
  {
   "cell_type": "code",
   "execution_count": 276,
   "metadata": {},
   "outputs": [
    {
     "data": {
      "image/png": "[encoded data removed]",
      "text/plain": [
       "<Figure size 432x288 with 1 Axes>"
      ]
     },
     "metadata": {
      "needs_background": "light"
     },
     "output_type": "display_data"
    }
   ],
   "source": [
    "# bar plot with default statistic=mean\n",
    "sns.barplot(x='Gender', y='Purchase', data=train)\n",
    "plt.show()\n",
    "\n",
    "# though majorly males shop but the purchase amount is quite close"
   ]
  },
  {
   "cell_type": "code",
   "execution_count": 277,
   "metadata": {},
   "outputs": [
    {
     "data": {
      "image/png": "[encoded data removed]",
      "text/plain": [
       "<Figure size 432x288 with 1 Axes>"
      ]
     },
     "metadata": {
      "needs_background": "light"
     },
     "output_type": "display_data"
    }
   ],
   "source": [
    "# bar plot with default statistic=mean\n",
    "sns.barplot(x='Age', y='Purchase', data=train)\n",
    "plt.show()\n",
    "\n",
    "# purchase amount is same for almost all age groups"
   ]
  },
  {
   "cell_type": "code",
   "execution_count": 278,
   "metadata": {},
   "outputs": [
    {
     "data": {
      "image/png": "[encoded data removed]",
      "text/plain": [
       "<Figure size 432x288 with 1 Axes>"
      ]
     },
     "metadata": {
      "needs_background": "light"
     },
     "output_type": "display_data"
    }
   ],
   "source": [
    "# bar plot with default statistic=mean\n",
    "sns.barplot(x='City_Category', y='Purchase', data=train)\n",
    "plt.show()\n",
    "\n",
    "# purchase amount is higher for C"
   ]
  },
  {
   "cell_type": "code",
   "execution_count": 279,
   "metadata": {},
   "outputs": [
    {
     "data": {
      "image/png": "[encoded data removed]",
      "text/plain": [
       "<Figure size 432x288 with 1 Axes>"
      ]
     },
     "metadata": {
      "needs_background": "light"
     },
     "output_type": "display_data"
    }
   ],
   "source": [
    "# bar plot with default statistic=mean\n",
    "sns.barplot(x='Stay_In_Current_City_Years', y='Purchase', data=train)\n",
    "plt.show()\n",
    "\n",
    "# amount nearly same for all groups"
   ]
  },
  {
   "cell_type": "code",
   "execution_count": 280,
   "metadata": {},
   "outputs": [
    {
     "data": {
      "image/png": "[encoded data removed]",
      "text/plain": [
       "<Figure size 432x288 with 1 Axes>"
      ]
     },
     "metadata": {
      "needs_background": "light"
     },
     "output_type": "display_data"
    }
   ],
   "source": [
    "# bar plot with default statistic=mean\n",
    "sns.barplot(x='Marital_Status', y='Purchase', data=train)\n",
    "plt.show()\n",
    "\n",
    "# amount nearly same for all groups"
   ]
  },
  {
   "cell_type": "code",
   "execution_count": 579,
   "metadata": {},
   "outputs": [],
   "source": [
    "train[\"Product_Category_1_Count\"] = train.groupby(['Product_Category_1'])['Product_Category_1'].transform('count')\n",
    "pc1_count_dict = train.groupby(['Product_Category_1']).size().to_dict()\n",
    "test['Product_Category_1_Count'] = test['Product_Category_1'].apply(lambda x:pc1_count_dict.get(x,0))\n",
    "\n",
    "train[\"Product_Category_2_Count\"] = train.groupby(['Product_Category_2'])['Product_Category_2'].transform('count')\n",
    "pc2_count_dict = train.groupby(['Product_Category_2']).size().to_dict()\n",
    "test['Product_Category_2_Count'] = test['Product_Category_2'].apply(lambda x:pc2_count_dict.get(x,0))\n",
    "\n",
    "train[\"Product_Category_3_Count\"] = train.groupby(['Product_Category_3'])['Product_Category_3'].transform('count')\n",
    "pc3_count_dict = train.groupby(['Product_Category_3']).size().to_dict()\n",
    "test['Product_Category_3_Count'] = test['Product_Category_3'].apply(lambda x:pc3_count_dict.get(x,0))\n",
    "\n",
    "train[\"User_ID_Count\"] = train.groupby(['User_ID'])['User_ID'].transform('count')\n",
    "userID_count_dict = train.groupby(['User_ID']).size().to_dict()\n",
    "test['User_ID_Count'] = test['User_ID'].apply(lambda x:userID_count_dict.get(x,0))\n",
    "\n",
    "train[\"Product_ID_Count\"] = train.groupby(['Product_ID'])['Product_ID'].transform('count')\n",
    "productID_count_dict = train.groupby(['Product_ID']).size().to_dict()\n",
    "test['Product_ID_Count'] = test['Product_ID'].apply(lambda x:productID_count_dict.get(x,0))"
   ]
  },
  {
   "cell_type": "code",
   "execution_count": 580,
   "metadata": {},
   "outputs": [],
   "source": [
    "train[\"User_ID_MinPrice\"] = train.groupby(['User_ID'])['Purchase'].transform('min')\n",
    "userID_min_dict = train.groupby(['User_ID'])['Purchase'].min().to_dict()\n",
    "test['User_ID_MinPrice'] = test['User_ID'].apply(lambda x:userID_min_dict.get(x,0))\n",
    "\n",
    "train[\"User_ID_MaxPrice\"] = train.groupby(['User_ID'])['Purchase'].transform('max')\n",
    "userID_max_dict = train.groupby(['User_ID'])['Purchase'].max().to_dict()\n",
    "test['User_ID_MaxPrice'] = test['User_ID'].apply(lambda x:userID_max_dict.get(x,0))\n",
    "\n",
    "train[\"User_ID_MeanPrice\"] = train.groupby(['User_ID'])['Purchase'].transform('mean')\n",
    "userID_mean_dict = train.groupby(['User_ID'])['Purchase'].mean().to_dict()\n",
    "test['User_ID_MeanPrice'] = test['User_ID'].apply(lambda x:userID_mean_dict.get(x,0))\n",
    "\n",
    "\n",
    "train[\"Product_ID_MinPrice\"] = train.groupby(['Product_ID'])['Purchase'].transform('min')\n",
    "productID_min_dict = train.groupby(['Product_ID'])['Purchase'].min().to_dict()\n",
    "test['Product_ID_MinPrice'] = test['Product_ID'].apply(lambda x:productID_min_dict.get(x,0))\n",
    "\n",
    "train[\"Product_ID_MaxPrice\"] = train.groupby(['Product_ID'])['Purchase'].transform('max')\n",
    "productID_max_dict = train.groupby(['Product_ID'])['Purchase'].max().to_dict()\n",
    "test['Product_ID_MaxPrice'] = test['Product_ID'].apply(lambda x:productID_max_dict.get(x,0))\n",
    "\n",
    "train[\"Product_ID_MeanPrice\"] = train.groupby(['Product_ID'])['Purchase'].transform('mean')\n",
    "productID_mean_dict = train.groupby(['Product_ID'])['Purchase'].mean().to_dict()\n",
    "test['Product_ID_MeanPrice'] = test['Product_ID'].apply(lambda x:productID_mean_dict.get(x,0))\n"
   ]
  },
  {
   "cell_type": "code",
   "execution_count": 581,
   "metadata": {},
   "outputs": [],
   "source": [
    "userID_25p_dict = train.groupby(['User_ID'])['Purchase'].apply(lambda x:np.percentile(x,25)).to_dict()\n",
    "train['User_ID_25PercPrice'] = train['User_ID'].apply(lambda x:userID_25p_dict.get(x,0))\n",
    "test['User_ID_25PercPrice'] = test['User_ID'].apply(lambda x:userID_25p_dict.get(x,0))\n",
    "\n",
    "userID_75p_dict = train.groupby(['User_ID'])['Purchase'].apply(lambda x:np.percentile(x,75)).to_dict()\n",
    "train['User_ID_75PercPrice'] = train['User_ID'].apply(lambda x:userID_75p_dict.get(x,0))\n",
    "test['User_ID_75PercPrice'] = test['User_ID'].apply(lambda x:userID_75p_dict.get(x,0))\n",
    "\n",
    "productID_25p_dict = train.groupby(['Product_ID'])['Purchase'].apply(lambda x:np.percentile(x,25)).to_dict()\n",
    "train['Product_ID_25PercPrice'] = train['Product_ID'].apply(lambda x:productID_25p_dict.get(x,0))\n",
    "test['Product_ID_25PercPrice'] = test['Product_ID'].apply(lambda x:productID_25p_dict.get(x,0))\n",
    "\n",
    "productID_75p_dict = train.groupby(['Product_ID'])['Purchase'].apply(lambda x:np.percentile(x,75)).to_dict()\n",
    "train['Product_ID_75PercPrice'] = train['Product_ID'].apply(lambda x:productID_75p_dict.get(x,0))\n",
    "test['Product_ID_75PercPrice'] = test['Product_ID'].apply(lambda x:productID_75p_dict.get(x,0))\n"
   ]
  },
  {
   "cell_type": "code",
   "execution_count": 582,
   "metadata": {},
   "outputs": [
    {
     "data": {
      "text/plain": [
       "User_ID                        0.00\n",
       "Product_ID                     0.00\n",
       "Gender                         0.00\n",
       "Age                            0.00\n",
       "Occupation                     0.00\n",
       "City_Category                  0.00\n",
       "Stay_In_Current_City_Years     0.00\n",
       "Marital_Status                 0.00\n",
       "Product_Category_1             0.00\n",
       "Product_Category_2            31.57\n",
       "Product_Category_3            69.67\n",
       "Purchase                       0.00\n",
       "Product_Category_1_Count       0.00\n",
       "Product_Category_2_Count      31.57\n",
       "Product_Category_3_Count      69.67\n",
       "User_ID_Count                  0.00\n",
       "Product_ID_Count               0.00\n",
       "User_ID_MinPrice               0.00\n",
       "User_ID_MaxPrice               0.00\n",
       "User_ID_MeanPrice              0.00\n",
       "Product_ID_MinPrice            0.00\n",
       "Product_ID_MaxPrice            0.00\n",
       "Product_ID_MeanPrice           0.00\n",
       "User_ID_25PercPrice            0.00\n",
       "User_ID_75PercPrice            0.00\n",
       "Product_ID_25PercPrice         0.00\n",
       "Product_ID_75PercPrice         0.00\n",
       "dtype: float64"
      ]
     },
     "execution_count": 582,
     "metadata": {},
     "output_type": "execute_result"
    }
   ],
   "source": [
    "round((train.isnull().sum()/len(train.index))*100,2)"
   ]
  },
  {
   "cell_type": "code",
   "execution_count": 583,
   "metadata": {},
   "outputs": [
    {
     "data": {
      "text/plain": [
       "User_ID                        0.00\n",
       "Product_ID                     0.00\n",
       "Gender                         0.00\n",
       "Age                            0.00\n",
       "Occupation                     0.00\n",
       "City_Category                  0.00\n",
       "Stay_In_Current_City_Years     0.00\n",
       "Marital_Status                 0.00\n",
       "Product_Category_1             0.00\n",
       "Product_Category_2            30.97\n",
       "Product_Category_3            69.59\n",
       "Product_Category_1_Count       0.00\n",
       "Product_Category_2_Count       0.00\n",
       "Product_Category_3_Count       0.00\n",
       "User_ID_Count                  0.00\n",
       "Product_ID_Count               0.00\n",
       "User_ID_MinPrice               0.00\n",
       "User_ID_MaxPrice               0.00\n",
       "User_ID_MeanPrice              0.00\n",
       "Product_ID_MinPrice            0.00\n",
       "Product_ID_MaxPrice            0.00\n",
       "Product_ID_MeanPrice           0.00\n",
       "User_ID_25PercPrice            0.00\n",
       "User_ID_75PercPrice            0.00\n",
       "Product_ID_25PercPrice         0.00\n",
       "Product_ID_75PercPrice         0.00\n",
       "dtype: float64"
      ]
     },
     "execution_count": 583,
     "metadata": {},
     "output_type": "execute_result"
    }
   ],
   "source": [
    "round((test.isnull().sum()/len(test.index))*100,2)"
   ]
  },
  {
   "cell_type": "code",
   "execution_count": 584,
   "metadata": {},
   "outputs": [
    {
     "name": "stdout",
     "output_type": "stream",
     "text": [
      "<class 'pandas.core.frame.DataFrame'>\n",
      "RangeIndex: 550068 entries, 0 to 550067\n",
      "Data columns (total 27 columns):\n",
      "User_ID                       550068 non-null int64\n",
      "Product_ID                    550068 non-null object\n",
      "Gender                        550068 non-null object\n",
      "Age                           550068 non-null object\n",
      "Occupation                    550068 non-null int64\n",
      "City_Category                 550068 non-null object\n",
      "Stay_In_Current_City_Years    550068 non-null object\n",
      "Marital_Status                550068 non-null int64\n",
      "Product_Category_1            550068 non-null int64\n",
      "Product_Category_2            376430 non-null float64\n",
      "Product_Category_3            166821 non-null float64\n",
      "Purchase                      550068 non-null int64\n",
      "Product_Category_1_Count      550068 non-null int64\n",
      "Product_Category_2_Count      376430 non-null float64\n",
      "Product_Category_3_Count      166821 non-null float64\n",
      "User_ID_Count                 550068 non-null int64\n",
      "Product_ID_Count              550068 non-null int64\n",
      "User_ID_MinPrice              550068 non-null int64\n",
      "User_ID_MaxPrice              550068 non-null int64\n",
      "User_ID_MeanPrice             550068 non-null float64\n",
      "Product_ID_MinPrice           550068 non-null int64\n",
      "Product_ID_MaxPrice           550068 non-null int64\n",
      "Product_ID_MeanPrice          550068 non-null float64\n",
      "User_ID_25PercPrice           550068 non-null float64\n",
      "User_ID_75PercPrice           550068 non-null float64\n",
      "Product_ID_25PercPrice        550068 non-null float64\n",
      "Product_ID_75PercPrice        550068 non-null float64\n",
      "dtypes: float64(10), int64(12), object(5)\n",
      "memory usage: 113.3+ MB\n"
     ]
    }
   ],
   "source": [
    "train.info()"
   ]
  },
  {
   "cell_type": "code",
   "execution_count": 585,
   "metadata": {},
   "outputs": [],
   "source": [
    "from sklearn.preprocessing import LabelEncoder\n",
    "le=LabelEncoder()\n",
    "\n",
    "train['Age']=le.fit_transform(train['Age'])\n",
    "test['Age']=le.fit_transform(test['Age'])\n",
    "\n",
    "train['City_Category']=le.fit_transform(train['City_Category'])\n",
    "test['City_Category']=le.fit_transform(test['City_Category'])\n",
    "\n",
    "train['Stay_In_Current_City_Years']=le.fit_transform(train['Stay_In_Current_City_Years'])\n",
    "test['Stay_In_Current_City_Years']=le.fit_transform(test['Stay_In_Current_City_Years'])\n",
    "\n",
    "# train['Gender']=train['Gender'].map({'M':1, 'F':0})\n",
    "# test['Gender']=test['Gender'].map({'M':1, 'F':0})"
   ]
  },
  {
   "cell_type": "code",
   "execution_count": 586,
   "metadata": {},
   "outputs": [
    {
     "data": {
      "text/html": [
       "<div>\n",
       "<style scoped>\n",
       "    .dataframe tbody tr th:only-of-type {\n",
       "        vertical-align: middle;\n",
       "    }\n",
       "\n",
       "    .dataframe tbody tr th {\n",
       "        vertical-align: top;\n",
       "    }\n",
       "\n",
       "    .dataframe thead th {\n",
       "        text-align: right;\n",
       "    }\n",
       "</style>\n",
       "<table border=\"1\" class=\"dataframe\">\n",
       "  <thead>\n",
       "    <tr style=\"text-align: right;\">\n",
       "      <th></th>\n",
       "      <th>User_ID</th>\n",
       "      <th>Product_ID</th>\n",
       "      <th>Gender</th>\n",
       "      <th>Age</th>\n",
       "      <th>Occupation</th>\n",
       "      <th>City_Category</th>\n",
       "      <th>Stay_In_Current_City_Years</th>\n",
       "      <th>Marital_Status</th>\n",
       "      <th>Product_Category_1</th>\n",
       "      <th>Product_Category_2</th>\n",
       "      <th>Product_Category_3</th>\n",
       "      <th>Purchase</th>\n",
       "      <th>Product_Category_1_Count</th>\n",
       "      <th>Product_Category_2_Count</th>\n",
       "      <th>Product_Category_3_Count</th>\n",
       "      <th>User_ID_Count</th>\n",
       "      <th>Product_ID_Count</th>\n",
       "      <th>User_ID_MinPrice</th>\n",
       "      <th>User_ID_MaxPrice</th>\n",
       "      <th>User_ID_MeanPrice</th>\n",
       "      <th>Product_ID_MinPrice</th>\n",
       "      <th>Product_ID_MaxPrice</th>\n",
       "      <th>Product_ID_MeanPrice</th>\n",
       "      <th>User_ID_25PercPrice</th>\n",
       "      <th>User_ID_75PercPrice</th>\n",
       "      <th>Product_ID_25PercPrice</th>\n",
       "      <th>Product_ID_75PercPrice</th>\n",
       "    </tr>\n",
       "  </thead>\n",
       "  <tbody>\n",
       "    <tr>\n",
       "      <th>0</th>\n",
       "      <td>1000001</td>\n",
       "      <td>P00069042</td>\n",
       "      <td>F</td>\n",
       "      <td>0</td>\n",
       "      <td>10</td>\n",
       "      <td>0</td>\n",
       "      <td>2</td>\n",
       "      <td>0</td>\n",
       "      <td>3</td>\n",
       "      <td>NaN</td>\n",
       "      <td>NaN</td>\n",
       "      <td>8370</td>\n",
       "      <td>20213</td>\n",
       "      <td>NaN</td>\n",
       "      <td>NaN</td>\n",
       "      <td>35</td>\n",
       "      <td>227</td>\n",
       "      <td>612</td>\n",
       "      <td>19219</td>\n",
       "      <td>9545.514286</td>\n",
       "      <td>2648</td>\n",
       "      <td>13716</td>\n",
       "      <td>11870.863436</td>\n",
       "      <td>7884.50</td>\n",
       "      <td>12305.5</td>\n",
       "      <td>10804.00</td>\n",
       "      <td>13475.50</td>\n",
       "    </tr>\n",
       "    <tr>\n",
       "      <th>1</th>\n",
       "      <td>1000001</td>\n",
       "      <td>P00248942</td>\n",
       "      <td>F</td>\n",
       "      <td>0</td>\n",
       "      <td>10</td>\n",
       "      <td>0</td>\n",
       "      <td>2</td>\n",
       "      <td>0</td>\n",
       "      <td>1</td>\n",
       "      <td>6.0</td>\n",
       "      <td>14.0</td>\n",
       "      <td>15200</td>\n",
       "      <td>140378</td>\n",
       "      <td>16466.0</td>\n",
       "      <td>18428.0</td>\n",
       "      <td>35</td>\n",
       "      <td>581</td>\n",
       "      <td>612</td>\n",
       "      <td>19219</td>\n",
       "      <td>9545.514286</td>\n",
       "      <td>3880</td>\n",
       "      <td>19701</td>\n",
       "      <td>16304.030981</td>\n",
       "      <td>7884.50</td>\n",
       "      <td>12305.5</td>\n",
       "      <td>15312.00</td>\n",
       "      <td>19264.00</td>\n",
       "    </tr>\n",
       "    <tr>\n",
       "      <th>2</th>\n",
       "      <td>1000001</td>\n",
       "      <td>P00087842</td>\n",
       "      <td>F</td>\n",
       "      <td>0</td>\n",
       "      <td>10</td>\n",
       "      <td>0</td>\n",
       "      <td>2</td>\n",
       "      <td>0</td>\n",
       "      <td>12</td>\n",
       "      <td>NaN</td>\n",
       "      <td>NaN</td>\n",
       "      <td>1422</td>\n",
       "      <td>3947</td>\n",
       "      <td>NaN</td>\n",
       "      <td>NaN</td>\n",
       "      <td>35</td>\n",
       "      <td>102</td>\n",
       "      <td>612</td>\n",
       "      <td>19219</td>\n",
       "      <td>9545.514286</td>\n",
       "      <td>343</td>\n",
       "      <td>1776</td>\n",
       "      <td>1237.892157</td>\n",
       "      <td>7884.50</td>\n",
       "      <td>12305.5</td>\n",
       "      <td>1043.75</td>\n",
       "      <td>1423.75</td>\n",
       "    </tr>\n",
       "    <tr>\n",
       "      <th>3</th>\n",
       "      <td>1000001</td>\n",
       "      <td>P00085442</td>\n",
       "      <td>F</td>\n",
       "      <td>0</td>\n",
       "      <td>10</td>\n",
       "      <td>0</td>\n",
       "      <td>2</td>\n",
       "      <td>0</td>\n",
       "      <td>12</td>\n",
       "      <td>14.0</td>\n",
       "      <td>NaN</td>\n",
       "      <td>1057</td>\n",
       "      <td>3947</td>\n",
       "      <td>55108.0</td>\n",
       "      <td>NaN</td>\n",
       "      <td>35</td>\n",
       "      <td>341</td>\n",
       "      <td>612</td>\n",
       "      <td>19219</td>\n",
       "      <td>9545.514286</td>\n",
       "      <td>365</td>\n",
       "      <td>1778</td>\n",
       "      <td>1455.140762</td>\n",
       "      <td>7884.50</td>\n",
       "      <td>12305.5</td>\n",
       "      <td>1378.00</td>\n",
       "      <td>1736.00</td>\n",
       "    </tr>\n",
       "    <tr>\n",
       "      <th>4</th>\n",
       "      <td>1000002</td>\n",
       "      <td>P00285442</td>\n",
       "      <td>M</td>\n",
       "      <td>6</td>\n",
       "      <td>16</td>\n",
       "      <td>2</td>\n",
       "      <td>4</td>\n",
       "      <td>0</td>\n",
       "      <td>8</td>\n",
       "      <td>NaN</td>\n",
       "      <td>NaN</td>\n",
       "      <td>7969</td>\n",
       "      <td>113925</td>\n",
       "      <td>NaN</td>\n",
       "      <td>NaN</td>\n",
       "      <td>77</td>\n",
       "      <td>203</td>\n",
       "      <td>119</td>\n",
       "      <td>20657</td>\n",
       "      <td>10525.610390</td>\n",
       "      <td>3920</td>\n",
       "      <td>10073</td>\n",
       "      <td>7692.763547</td>\n",
       "      <td>7818.00</td>\n",
       "      <td>11973.0</td>\n",
       "      <td>6174.50</td>\n",
       "      <td>8082.50</td>\n",
       "    </tr>\n",
       "    <tr>\n",
       "      <th>5</th>\n",
       "      <td>1000003</td>\n",
       "      <td>P00193542</td>\n",
       "      <td>M</td>\n",
       "      <td>2</td>\n",
       "      <td>15</td>\n",
       "      <td>0</td>\n",
       "      <td>3</td>\n",
       "      <td>0</td>\n",
       "      <td>1</td>\n",
       "      <td>2.0</td>\n",
       "      <td>NaN</td>\n",
       "      <td>15227</td>\n",
       "      <td>140378</td>\n",
       "      <td>49217.0</td>\n",
       "      <td>NaN</td>\n",
       "      <td>29</td>\n",
       "      <td>615</td>\n",
       "      <td>3646</td>\n",
       "      <td>19631</td>\n",
       "      <td>11780.517241</td>\n",
       "      <td>3828</td>\n",
       "      <td>19698</td>\n",
       "      <td>14318.772358</td>\n",
       "      <td>6953.00</td>\n",
       "      <td>15592.0</td>\n",
       "      <td>11722.50</td>\n",
       "      <td>15821.00</td>\n",
       "    </tr>\n",
       "    <tr>\n",
       "      <th>6</th>\n",
       "      <td>1000004</td>\n",
       "      <td>P00184942</td>\n",
       "      <td>M</td>\n",
       "      <td>4</td>\n",
       "      <td>7</td>\n",
       "      <td>1</td>\n",
       "      <td>2</td>\n",
       "      <td>1</td>\n",
       "      <td>1</td>\n",
       "      <td>8.0</td>\n",
       "      <td>17.0</td>\n",
       "      <td>19215</td>\n",
       "      <td>140378</td>\n",
       "      <td>64088.0</td>\n",
       "      <td>16702.0</td>\n",
       "      <td>14</td>\n",
       "      <td>1440</td>\n",
       "      <td>481</td>\n",
       "      <td>19693</td>\n",
       "      <td>14747.714286</td>\n",
       "      <td>3809</td>\n",
       "      <td>19707</td>\n",
       "      <td>16899.227083</td>\n",
       "      <td>15488.50</td>\n",
       "      <td>19087.0</td>\n",
       "      <td>15421.25</td>\n",
       "      <td>19362.00</td>\n",
       "    </tr>\n",
       "    <tr>\n",
       "      <th>7</th>\n",
       "      <td>1000004</td>\n",
       "      <td>P00346142</td>\n",
       "      <td>M</td>\n",
       "      <td>4</td>\n",
       "      <td>7</td>\n",
       "      <td>1</td>\n",
       "      <td>2</td>\n",
       "      <td>1</td>\n",
       "      <td>1</td>\n",
       "      <td>15.0</td>\n",
       "      <td>NaN</td>\n",
       "      <td>15854</td>\n",
       "      <td>140378</td>\n",
       "      <td>37855.0</td>\n",
       "      <td>NaN</td>\n",
       "      <td>14</td>\n",
       "      <td>593</td>\n",
       "      <td>481</td>\n",
       "      <td>19693</td>\n",
       "      <td>14747.714286</td>\n",
       "      <td>3847</td>\n",
       "      <td>19698</td>\n",
       "      <td>14169.618887</td>\n",
       "      <td>15488.50</td>\n",
       "      <td>19087.0</td>\n",
       "      <td>11730.00</td>\n",
       "      <td>15837.00</td>\n",
       "    </tr>\n",
       "    <tr>\n",
       "      <th>8</th>\n",
       "      <td>1000004</td>\n",
       "      <td>P0097242</td>\n",
       "      <td>M</td>\n",
       "      <td>4</td>\n",
       "      <td>7</td>\n",
       "      <td>1</td>\n",
       "      <td>2</td>\n",
       "      <td>1</td>\n",
       "      <td>1</td>\n",
       "      <td>16.0</td>\n",
       "      <td>NaN</td>\n",
       "      <td>15686</td>\n",
       "      <td>140378</td>\n",
       "      <td>43255.0</td>\n",
       "      <td>NaN</td>\n",
       "      <td>14</td>\n",
       "      <td>912</td>\n",
       "      <td>481</td>\n",
       "      <td>19693</td>\n",
       "      <td>14747.714286</td>\n",
       "      <td>3936</td>\n",
       "      <td>19708</td>\n",
       "      <td>15947.346491</td>\n",
       "      <td>15488.50</td>\n",
       "      <td>19087.0</td>\n",
       "      <td>15263.25</td>\n",
       "      <td>19178.75</td>\n",
       "    </tr>\n",
       "    <tr>\n",
       "      <th>9</th>\n",
       "      <td>1000005</td>\n",
       "      <td>P00274942</td>\n",
       "      <td>M</td>\n",
       "      <td>2</td>\n",
       "      <td>20</td>\n",
       "      <td>0</td>\n",
       "      <td>1</td>\n",
       "      <td>1</td>\n",
       "      <td>8</td>\n",
       "      <td>NaN</td>\n",
       "      <td>NaN</td>\n",
       "      <td>7871</td>\n",
       "      <td>113925</td>\n",
       "      <td>NaN</td>\n",
       "      <td>NaN</td>\n",
       "      <td>106</td>\n",
       "      <td>793</td>\n",
       "      <td>1938</td>\n",
       "      <td>21021</td>\n",
       "      <td>7745.292453</td>\n",
       "      <td>1940</td>\n",
       "      <td>10082</td>\n",
       "      <td>8068.920555</td>\n",
       "      <td>4551.75</td>\n",
       "      <td>8823.0</td>\n",
       "      <td>7762.00</td>\n",
       "      <td>9844.00</td>\n",
       "    </tr>\n",
       "  </tbody>\n",
       "</table>\n",
       "</div>"
      ],
      "text/plain": [
       "   User_ID Product_ID Gender  Age  Occupation  City_Category  \\\n",
       "0  1000001  P00069042      F    0          10              0   \n",
       "1  1000001  P00248942      F    0          10              0   \n",
       "2  1000001  P00087842      F    0          10              0   \n",
       "3  1000001  P00085442      F    0          10              0   \n",
       "4  1000002  P00285442      M    6          16              2   \n",
       "5  1000003  P00193542      M    2          15              0   \n",
       "6  1000004  P00184942      M    4           7              1   \n",
       "7  1000004  P00346142      M    4           7              1   \n",
       "8  1000004   P0097242      M    4           7              1   \n",
       "9  1000005  P00274942      M    2          20              0   \n",
       "\n",
       "   Stay_In_Current_City_Years  Marital_Status  Product_Category_1  \\\n",
       "0                           2               0                   3   \n",
       "1                           2               0                   1   \n",
       "2                           2               0                  12   \n",
       "3                           2               0                  12   \n",
       "4                           4               0                   8   \n",
       "5                           3               0                   1   \n",
       "6                           2               1                   1   \n",
       "7                           2               1                   1   \n",
       "8                           2               1                   1   \n",
       "9                           1               1                   8   \n",
       "\n",
       "   Product_Category_2  Product_Category_3  Purchase  Product_Category_1_Count  \\\n",
       "0                 NaN                 NaN      8370                     20213   \n",
       "1                 6.0                14.0     15200                    140378   \n",
       "2                 NaN                 NaN      1422                      3947   \n",
       "3                14.0                 NaN      1057                      3947   \n",
       "4                 NaN                 NaN      7969                    113925   \n",
       "5                 2.0                 NaN     15227                    140378   \n",
       "6                 8.0                17.0     19215                    140378   \n",
       "7                15.0                 NaN     15854                    140378   \n",
       "8                16.0                 NaN     15686                    140378   \n",
       "9                 NaN                 NaN      7871                    113925   \n",
       "\n",
       "   Product_Category_2_Count  Product_Category_3_Count  User_ID_Count  \\\n",
       "0                       NaN                       NaN             35   \n",
       "1                   16466.0                   18428.0             35   \n",
       "2                       NaN                       NaN             35   \n",
       "3                   55108.0                       NaN             35   \n",
       "4                       NaN                       NaN             77   \n",
       "5                   49217.0                       NaN             29   \n",
       "6                   64088.0                   16702.0             14   \n",
       "7                   37855.0                       NaN             14   \n",
       "8                   43255.0                       NaN             14   \n",
       "9                       NaN                       NaN            106   \n",
       "\n",
       "   Product_ID_Count  User_ID_MinPrice  User_ID_MaxPrice  User_ID_MeanPrice  \\\n",
       "0               227               612             19219        9545.514286   \n",
       "1               581               612             19219        9545.514286   \n",
       "2               102               612             19219        9545.514286   \n",
       "3               341               612             19219        9545.514286   \n",
       "4               203               119             20657       10525.610390   \n",
       "5               615              3646             19631       11780.517241   \n",
       "6              1440               481             19693       14747.714286   \n",
       "7               593               481             19693       14747.714286   \n",
       "8               912               481             19693       14747.714286   \n",
       "9               793              1938             21021        7745.292453   \n",
       "\n",
       "   Product_ID_MinPrice  Product_ID_MaxPrice  Product_ID_MeanPrice  \\\n",
       "0                 2648                13716          11870.863436   \n",
       "1                 3880                19701          16304.030981   \n",
       "2                  343                 1776           1237.892157   \n",
       "3                  365                 1778           1455.140762   \n",
       "4                 3920                10073           7692.763547   \n",
       "5                 3828                19698          14318.772358   \n",
       "6                 3809                19707          16899.227083   \n",
       "7                 3847                19698          14169.618887   \n",
       "8                 3936                19708          15947.346491   \n",
       "9                 1940                10082           8068.920555   \n",
       "\n",
       "   User_ID_25PercPrice  User_ID_75PercPrice  Product_ID_25PercPrice  \\\n",
       "0              7884.50              12305.5                10804.00   \n",
       "1              7884.50              12305.5                15312.00   \n",
       "2              7884.50              12305.5                 1043.75   \n",
       "3              7884.50              12305.5                 1378.00   \n",
       "4              7818.00              11973.0                 6174.50   \n",
       "5              6953.00              15592.0                11722.50   \n",
       "6             15488.50              19087.0                15421.25   \n",
       "7             15488.50              19087.0                11730.00   \n",
       "8             15488.50              19087.0                15263.25   \n",
       "9              4551.75               8823.0                 7762.00   \n",
       "\n",
       "   Product_ID_75PercPrice  \n",
       "0                13475.50  \n",
       "1                19264.00  \n",
       "2                 1423.75  \n",
       "3                 1736.00  \n",
       "4                 8082.50  \n",
       "5                15821.00  \n",
       "6                19362.00  \n",
       "7                15837.00  \n",
       "8                19178.75  \n",
       "9                 9844.00  "
      ]
     },
     "execution_count": 586,
     "metadata": {},
     "output_type": "execute_result"
    }
   ],
   "source": [
    "pd.set_option('display.max_columns', 100)\n",
    "train.head(10)"
   ]
  },
  {
   "cell_type": "code",
   "execution_count": 587,
   "metadata": {},
   "outputs": [],
   "source": [
    "train['Gender']=train['Gender'].map({'M':1, 'F':0})\n",
    "test['Gender']=test['Gender'].map({'M':1, 'F':0})"
   ]
  },
  {
   "cell_type": "code",
   "execution_count": 588,
   "metadata": {},
   "outputs": [
    {
     "data": {
      "text/html": [
       "<div>\n",
       "<style scoped>\n",
       "    .dataframe tbody tr th:only-of-type {\n",
       "        vertical-align: middle;\n",
       "    }\n",
       "\n",
       "    .dataframe tbody tr th {\n",
       "        vertical-align: top;\n",
       "    }\n",
       "\n",
       "    .dataframe thead th {\n",
       "        text-align: right;\n",
       "    }\n",
       "</style>\n",
       "<table border=\"1\" class=\"dataframe\">\n",
       "  <thead>\n",
       "    <tr style=\"text-align: right;\">\n",
       "      <th></th>\n",
       "      <th>User_ID</th>\n",
       "      <th>Product_ID</th>\n",
       "      <th>Gender</th>\n",
       "      <th>Age</th>\n",
       "      <th>Occupation</th>\n",
       "      <th>City_Category</th>\n",
       "      <th>Stay_In_Current_City_Years</th>\n",
       "      <th>Marital_Status</th>\n",
       "      <th>Product_Category_1</th>\n",
       "      <th>Product_Category_2</th>\n",
       "      <th>Product_Category_3</th>\n",
       "      <th>Purchase</th>\n",
       "      <th>Product_Category_1_Count</th>\n",
       "      <th>Product_Category_2_Count</th>\n",
       "      <th>Product_Category_3_Count</th>\n",
       "      <th>User_ID_Count</th>\n",
       "      <th>Product_ID_Count</th>\n",
       "      <th>User_ID_MinPrice</th>\n",
       "      <th>User_ID_MaxPrice</th>\n",
       "      <th>User_ID_MeanPrice</th>\n",
       "      <th>Product_ID_MinPrice</th>\n",
       "      <th>Product_ID_MaxPrice</th>\n",
       "      <th>Product_ID_MeanPrice</th>\n",
       "      <th>User_ID_25PercPrice</th>\n",
       "      <th>User_ID_75PercPrice</th>\n",
       "      <th>Product_ID_25PercPrice</th>\n",
       "      <th>Product_ID_75PercPrice</th>\n",
       "    </tr>\n",
       "  </thead>\n",
       "  <tbody>\n",
       "    <tr>\n",
       "      <th>0</th>\n",
       "      <td>1000001</td>\n",
       "      <td>P00069042</td>\n",
       "      <td>0</td>\n",
       "      <td>0</td>\n",
       "      <td>10</td>\n",
       "      <td>0</td>\n",
       "      <td>2</td>\n",
       "      <td>0</td>\n",
       "      <td>3</td>\n",
       "      <td>NaN</td>\n",
       "      <td>NaN</td>\n",
       "      <td>8370</td>\n",
       "      <td>20213</td>\n",
       "      <td>NaN</td>\n",
       "      <td>NaN</td>\n",
       "      <td>35</td>\n",
       "      <td>227</td>\n",
       "      <td>612</td>\n",
       "      <td>19219</td>\n",
       "      <td>9545.514286</td>\n",
       "      <td>2648</td>\n",
       "      <td>13716</td>\n",
       "      <td>11870.863436</td>\n",
       "      <td>7884.5</td>\n",
       "      <td>12305.5</td>\n",
       "      <td>10804.00</td>\n",
       "      <td>13475.50</td>\n",
       "    </tr>\n",
       "    <tr>\n",
       "      <th>1</th>\n",
       "      <td>1000001</td>\n",
       "      <td>P00248942</td>\n",
       "      <td>0</td>\n",
       "      <td>0</td>\n",
       "      <td>10</td>\n",
       "      <td>0</td>\n",
       "      <td>2</td>\n",
       "      <td>0</td>\n",
       "      <td>1</td>\n",
       "      <td>6.0</td>\n",
       "      <td>14.0</td>\n",
       "      <td>15200</td>\n",
       "      <td>140378</td>\n",
       "      <td>16466.0</td>\n",
       "      <td>18428.0</td>\n",
       "      <td>35</td>\n",
       "      <td>581</td>\n",
       "      <td>612</td>\n",
       "      <td>19219</td>\n",
       "      <td>9545.514286</td>\n",
       "      <td>3880</td>\n",
       "      <td>19701</td>\n",
       "      <td>16304.030981</td>\n",
       "      <td>7884.5</td>\n",
       "      <td>12305.5</td>\n",
       "      <td>15312.00</td>\n",
       "      <td>19264.00</td>\n",
       "    </tr>\n",
       "    <tr>\n",
       "      <th>2</th>\n",
       "      <td>1000001</td>\n",
       "      <td>P00087842</td>\n",
       "      <td>0</td>\n",
       "      <td>0</td>\n",
       "      <td>10</td>\n",
       "      <td>0</td>\n",
       "      <td>2</td>\n",
       "      <td>0</td>\n",
       "      <td>12</td>\n",
       "      <td>NaN</td>\n",
       "      <td>NaN</td>\n",
       "      <td>1422</td>\n",
       "      <td>3947</td>\n",
       "      <td>NaN</td>\n",
       "      <td>NaN</td>\n",
       "      <td>35</td>\n",
       "      <td>102</td>\n",
       "      <td>612</td>\n",
       "      <td>19219</td>\n",
       "      <td>9545.514286</td>\n",
       "      <td>343</td>\n",
       "      <td>1776</td>\n",
       "      <td>1237.892157</td>\n",
       "      <td>7884.5</td>\n",
       "      <td>12305.5</td>\n",
       "      <td>1043.75</td>\n",
       "      <td>1423.75</td>\n",
       "    </tr>\n",
       "    <tr>\n",
       "      <th>3</th>\n",
       "      <td>1000001</td>\n",
       "      <td>P00085442</td>\n",
       "      <td>0</td>\n",
       "      <td>0</td>\n",
       "      <td>10</td>\n",
       "      <td>0</td>\n",
       "      <td>2</td>\n",
       "      <td>0</td>\n",
       "      <td>12</td>\n",
       "      <td>14.0</td>\n",
       "      <td>NaN</td>\n",
       "      <td>1057</td>\n",
       "      <td>3947</td>\n",
       "      <td>55108.0</td>\n",
       "      <td>NaN</td>\n",
       "      <td>35</td>\n",
       "      <td>341</td>\n",
       "      <td>612</td>\n",
       "      <td>19219</td>\n",
       "      <td>9545.514286</td>\n",
       "      <td>365</td>\n",
       "      <td>1778</td>\n",
       "      <td>1455.140762</td>\n",
       "      <td>7884.5</td>\n",
       "      <td>12305.5</td>\n",
       "      <td>1378.00</td>\n",
       "      <td>1736.00</td>\n",
       "    </tr>\n",
       "    <tr>\n",
       "      <th>4</th>\n",
       "      <td>1000002</td>\n",
       "      <td>P00285442</td>\n",
       "      <td>1</td>\n",
       "      <td>6</td>\n",
       "      <td>16</td>\n",
       "      <td>2</td>\n",
       "      <td>4</td>\n",
       "      <td>0</td>\n",
       "      <td>8</td>\n",
       "      <td>NaN</td>\n",
       "      <td>NaN</td>\n",
       "      <td>7969</td>\n",
       "      <td>113925</td>\n",
       "      <td>NaN</td>\n",
       "      <td>NaN</td>\n",
       "      <td>77</td>\n",
       "      <td>203</td>\n",
       "      <td>119</td>\n",
       "      <td>20657</td>\n",
       "      <td>10525.610390</td>\n",
       "      <td>3920</td>\n",
       "      <td>10073</td>\n",
       "      <td>7692.763547</td>\n",
       "      <td>7818.0</td>\n",
       "      <td>11973.0</td>\n",
       "      <td>6174.50</td>\n",
       "      <td>8082.50</td>\n",
       "    </tr>\n",
       "  </tbody>\n",
       "</table>\n",
       "</div>"
      ],
      "text/plain": [
       "   User_ID Product_ID  Gender  Age  Occupation  City_Category  \\\n",
       "0  1000001  P00069042       0    0          10              0   \n",
       "1  1000001  P00248942       0    0          10              0   \n",
       "2  1000001  P00087842       0    0          10              0   \n",
       "3  1000001  P00085442       0    0          10              0   \n",
       "4  1000002  P00285442       1    6          16              2   \n",
       "\n",
       "   Stay_In_Current_City_Years  Marital_Status  Product_Category_1  \\\n",
       "0                           2               0                   3   \n",
       "1                           2               0                   1   \n",
       "2                           2               0                  12   \n",
       "3                           2               0                  12   \n",
       "4                           4               0                   8   \n",
       "\n",
       "   Product_Category_2  Product_Category_3  Purchase  Product_Category_1_Count  \\\n",
       "0                 NaN                 NaN      8370                     20213   \n",
       "1                 6.0                14.0     15200                    140378   \n",
       "2                 NaN                 NaN      1422                      3947   \n",
       "3                14.0                 NaN      1057                      3947   \n",
       "4                 NaN                 NaN      7969                    113925   \n",
       "\n",
       "   Product_Category_2_Count  Product_Category_3_Count  User_ID_Count  \\\n",
       "0                       NaN                       NaN             35   \n",
       "1                   16466.0                   18428.0             35   \n",
       "2                       NaN                       NaN             35   \n",
       "3                   55108.0                       NaN             35   \n",
       "4                       NaN                       NaN             77   \n",
       "\n",
       "   Product_ID_Count  User_ID_MinPrice  User_ID_MaxPrice  User_ID_MeanPrice  \\\n",
       "0               227               612             19219        9545.514286   \n",
       "1               581               612             19219        9545.514286   \n",
       "2               102               612             19219        9545.514286   \n",
       "3               341               612             19219        9545.514286   \n",
       "4               203               119             20657       10525.610390   \n",
       "\n",
       "   Product_ID_MinPrice  Product_ID_MaxPrice  Product_ID_MeanPrice  \\\n",
       "0                 2648                13716          11870.863436   \n",
       "1                 3880                19701          16304.030981   \n",
       "2                  343                 1776           1237.892157   \n",
       "3                  365                 1778           1455.140762   \n",
       "4                 3920                10073           7692.763547   \n",
       "\n",
       "   User_ID_25PercPrice  User_ID_75PercPrice  Product_ID_25PercPrice  \\\n",
       "0               7884.5              12305.5                10804.00   \n",
       "1               7884.5              12305.5                15312.00   \n",
       "2               7884.5              12305.5                 1043.75   \n",
       "3               7884.5              12305.5                 1378.00   \n",
       "4               7818.0              11973.0                 6174.50   \n",
       "\n",
       "   Product_ID_75PercPrice  \n",
       "0                13475.50  \n",
       "1                19264.00  \n",
       "2                 1423.75  \n",
       "3                 1736.00  \n",
       "4                 8082.50  "
      ]
     },
     "execution_count": 588,
     "metadata": {},
     "output_type": "execute_result"
    }
   ],
   "source": [
    "train.head()"
   ]
  },
  {
   "cell_type": "code",
   "execution_count": 589,
   "metadata": {},
   "outputs": [],
   "source": [
    "#filling missing values in product categories 2 & 3 by by any constant number say 0\n",
    "train['Product_Category_2']=train['Product_Category_2'].fillna(0)\n",
    "test['Product_Category_2']=test['Product_Category_2'].fillna(0)\n",
    "\n",
    "train['Product_Category_3']=train['Product_Category_3'].fillna(0)\n",
    "test['Product_Category_3']=test['Product_Category_3'].fillna(0)\n",
    "\n",
    "train['Product_Category_2_Count']=train['Product_Category_2_Count'].fillna(0)\n",
    "test['Product_Category_2_Count']=test['Product_Category_2_Count'].fillna(0)\n",
    "\n",
    "train['Product_Category_3_Count']=train['Product_Category_3_Count'].fillna(0)\n",
    "test['Product_Category_3_Count']=test['Product_Category_3_Count'].fillna(0)"
   ]
  },
  {
   "cell_type": "code",
   "execution_count": 590,
   "metadata": {},
   "outputs": [
    {
     "data": {
      "text/plain": [
       "User_ID                       0.0\n",
       "Product_ID                    0.0\n",
       "Gender                        0.0\n",
       "Age                           0.0\n",
       "Occupation                    0.0\n",
       "City_Category                 0.0\n",
       "Stay_In_Current_City_Years    0.0\n",
       "Marital_Status                0.0\n",
       "Product_Category_1            0.0\n",
       "Product_Category_2            0.0\n",
       "Product_Category_3            0.0\n",
       "Product_Category_1_Count      0.0\n",
       "Product_Category_2_Count      0.0\n",
       "Product_Category_3_Count      0.0\n",
       "User_ID_Count                 0.0\n",
       "Product_ID_Count              0.0\n",
       "User_ID_MinPrice              0.0\n",
       "User_ID_MaxPrice              0.0\n",
       "User_ID_MeanPrice             0.0\n",
       "Product_ID_MinPrice           0.0\n",
       "Product_ID_MaxPrice           0.0\n",
       "Product_ID_MeanPrice          0.0\n",
       "User_ID_25PercPrice           0.0\n",
       "User_ID_75PercPrice           0.0\n",
       "Product_ID_25PercPrice        0.0\n",
       "Product_ID_75PercPrice        0.0\n",
       "dtype: float64"
      ]
     },
     "execution_count": 590,
     "metadata": {},
     "output_type": "execute_result"
    }
   ],
   "source": [
    "round((test.isnull().sum()/len(test.index))*100,2)"
   ]
  },
  {
   "cell_type": "code",
   "execution_count": 591,
   "metadata": {},
   "outputs": [],
   "source": [
    "train=train.drop(['User_ID','Product_ID'],axis=1)\n",
    "test=test.drop(['User_ID','Product_ID'],axis=1)"
   ]
  },
  {
   "cell_type": "code",
   "execution_count": 592,
   "metadata": {},
   "outputs": [
    {
     "data": {
      "text/html": [
       "<div>\n",
       "<style scoped>\n",
       "    .dataframe tbody tr th:only-of-type {\n",
       "        vertical-align: middle;\n",
       "    }\n",
       "\n",
       "    .dataframe tbody tr th {\n",
       "        vertical-align: top;\n",
       "    }\n",
       "\n",
       "    .dataframe thead th {\n",
       "        text-align: right;\n",
       "    }\n",
       "</style>\n",
       "<table border=\"1\" class=\"dataframe\">\n",
       "  <thead>\n",
       "    <tr style=\"text-align: right;\">\n",
       "      <th></th>\n",
       "      <th>Gender</th>\n",
       "      <th>Age</th>\n",
       "      <th>Occupation</th>\n",
       "      <th>City_Category</th>\n",
       "      <th>Stay_In_Current_City_Years</th>\n",
       "      <th>Marital_Status</th>\n",
       "      <th>Product_Category_1</th>\n",
       "      <th>Product_Category_2</th>\n",
       "      <th>Product_Category_3</th>\n",
       "      <th>Purchase</th>\n",
       "      <th>Product_Category_1_Count</th>\n",
       "      <th>Product_Category_2_Count</th>\n",
       "      <th>Product_Category_3_Count</th>\n",
       "      <th>User_ID_Count</th>\n",
       "      <th>Product_ID_Count</th>\n",
       "      <th>User_ID_MinPrice</th>\n",
       "      <th>User_ID_MaxPrice</th>\n",
       "      <th>User_ID_MeanPrice</th>\n",
       "      <th>Product_ID_MinPrice</th>\n",
       "      <th>Product_ID_MaxPrice</th>\n",
       "      <th>Product_ID_MeanPrice</th>\n",
       "      <th>User_ID_25PercPrice</th>\n",
       "      <th>User_ID_75PercPrice</th>\n",
       "      <th>Product_ID_25PercPrice</th>\n",
       "      <th>Product_ID_75PercPrice</th>\n",
       "    </tr>\n",
       "  </thead>\n",
       "  <tbody>\n",
       "    <tr>\n",
       "      <th>0</th>\n",
       "      <td>0</td>\n",
       "      <td>0</td>\n",
       "      <td>10</td>\n",
       "      <td>0</td>\n",
       "      <td>2</td>\n",
       "      <td>0</td>\n",
       "      <td>3</td>\n",
       "      <td>0.0</td>\n",
       "      <td>0.0</td>\n",
       "      <td>8370</td>\n",
       "      <td>20213</td>\n",
       "      <td>0.0</td>\n",
       "      <td>0.0</td>\n",
       "      <td>35</td>\n",
       "      <td>227</td>\n",
       "      <td>612</td>\n",
       "      <td>19219</td>\n",
       "      <td>9545.514286</td>\n",
       "      <td>2648</td>\n",
       "      <td>13716</td>\n",
       "      <td>11870.863436</td>\n",
       "      <td>7884.5</td>\n",
       "      <td>12305.5</td>\n",
       "      <td>10804.00</td>\n",
       "      <td>13475.50</td>\n",
       "    </tr>\n",
       "    <tr>\n",
       "      <th>1</th>\n",
       "      <td>0</td>\n",
       "      <td>0</td>\n",
       "      <td>10</td>\n",
       "      <td>0</td>\n",
       "      <td>2</td>\n",
       "      <td>0</td>\n",
       "      <td>1</td>\n",
       "      <td>6.0</td>\n",
       "      <td>14.0</td>\n",
       "      <td>15200</td>\n",
       "      <td>140378</td>\n",
       "      <td>16466.0</td>\n",
       "      <td>18428.0</td>\n",
       "      <td>35</td>\n",
       "      <td>581</td>\n",
       "      <td>612</td>\n",
       "      <td>19219</td>\n",
       "      <td>9545.514286</td>\n",
       "      <td>3880</td>\n",
       "      <td>19701</td>\n",
       "      <td>16304.030981</td>\n",
       "      <td>7884.5</td>\n",
       "      <td>12305.5</td>\n",
       "      <td>15312.00</td>\n",
       "      <td>19264.00</td>\n",
       "    </tr>\n",
       "    <tr>\n",
       "      <th>2</th>\n",
       "      <td>0</td>\n",
       "      <td>0</td>\n",
       "      <td>10</td>\n",
       "      <td>0</td>\n",
       "      <td>2</td>\n",
       "      <td>0</td>\n",
       "      <td>12</td>\n",
       "      <td>0.0</td>\n",
       "      <td>0.0</td>\n",
       "      <td>1422</td>\n",
       "      <td>3947</td>\n",
       "      <td>0.0</td>\n",
       "      <td>0.0</td>\n",
       "      <td>35</td>\n",
       "      <td>102</td>\n",
       "      <td>612</td>\n",
       "      <td>19219</td>\n",
       "      <td>9545.514286</td>\n",
       "      <td>343</td>\n",
       "      <td>1776</td>\n",
       "      <td>1237.892157</td>\n",
       "      <td>7884.5</td>\n",
       "      <td>12305.5</td>\n",
       "      <td>1043.75</td>\n",
       "      <td>1423.75</td>\n",
       "    </tr>\n",
       "    <tr>\n",
       "      <th>3</th>\n",
       "      <td>0</td>\n",
       "      <td>0</td>\n",
       "      <td>10</td>\n",
       "      <td>0</td>\n",
       "      <td>2</td>\n",
       "      <td>0</td>\n",
       "      <td>12</td>\n",
       "      <td>14.0</td>\n",
       "      <td>0.0</td>\n",
       "      <td>1057</td>\n",
       "      <td>3947</td>\n",
       "      <td>55108.0</td>\n",
       "      <td>0.0</td>\n",
       "      <td>35</td>\n",
       "      <td>341</td>\n",
       "      <td>612</td>\n",
       "      <td>19219</td>\n",
       "      <td>9545.514286</td>\n",
       "      <td>365</td>\n",
       "      <td>1778</td>\n",
       "      <td>1455.140762</td>\n",
       "      <td>7884.5</td>\n",
       "      <td>12305.5</td>\n",
       "      <td>1378.00</td>\n",
       "      <td>1736.00</td>\n",
       "    </tr>\n",
       "    <tr>\n",
       "      <th>4</th>\n",
       "      <td>1</td>\n",
       "      <td>6</td>\n",
       "      <td>16</td>\n",
       "      <td>2</td>\n",
       "      <td>4</td>\n",
       "      <td>0</td>\n",
       "      <td>8</td>\n",
       "      <td>0.0</td>\n",
       "      <td>0.0</td>\n",
       "      <td>7969</td>\n",
       "      <td>113925</td>\n",
       "      <td>0.0</td>\n",
       "      <td>0.0</td>\n",
       "      <td>77</td>\n",
       "      <td>203</td>\n",
       "      <td>119</td>\n",
       "      <td>20657</td>\n",
       "      <td>10525.610390</td>\n",
       "      <td>3920</td>\n",
       "      <td>10073</td>\n",
       "      <td>7692.763547</td>\n",
       "      <td>7818.0</td>\n",
       "      <td>11973.0</td>\n",
       "      <td>6174.50</td>\n",
       "      <td>8082.50</td>\n",
       "    </tr>\n",
       "  </tbody>\n",
       "</table>\n",
       "</div>"
      ],
      "text/plain": [
       "   Gender  Age  Occupation  City_Category  Stay_In_Current_City_Years  \\\n",
       "0       0    0          10              0                           2   \n",
       "1       0    0          10              0                           2   \n",
       "2       0    0          10              0                           2   \n",
       "3       0    0          10              0                           2   \n",
       "4       1    6          16              2                           4   \n",
       "\n",
       "   Marital_Status  Product_Category_1  Product_Category_2  Product_Category_3  \\\n",
       "0               0                   3                 0.0                 0.0   \n",
       "1               0                   1                 6.0                14.0   \n",
       "2               0                  12                 0.0                 0.0   \n",
       "3               0                  12                14.0                 0.0   \n",
       "4               0                   8                 0.0                 0.0   \n",
       "\n",
       "   Purchase  Product_Category_1_Count  Product_Category_2_Count  \\\n",
       "0      8370                     20213                       0.0   \n",
       "1     15200                    140378                   16466.0   \n",
       "2      1422                      3947                       0.0   \n",
       "3      1057                      3947                   55108.0   \n",
       "4      7969                    113925                       0.0   \n",
       "\n",
       "   Product_Category_3_Count  User_ID_Count  Product_ID_Count  \\\n",
       "0                       0.0             35               227   \n",
       "1                   18428.0             35               581   \n",
       "2                       0.0             35               102   \n",
       "3                       0.0             35               341   \n",
       "4                       0.0             77               203   \n",
       "\n",
       "   User_ID_MinPrice  User_ID_MaxPrice  User_ID_MeanPrice  Product_ID_MinPrice  \\\n",
       "0               612             19219        9545.514286                 2648   \n",
       "1               612             19219        9545.514286                 3880   \n",
       "2               612             19219        9545.514286                  343   \n",
       "3               612             19219        9545.514286                  365   \n",
       "4               119             20657       10525.610390                 3920   \n",
       "\n",
       "   Product_ID_MaxPrice  Product_ID_MeanPrice  User_ID_25PercPrice  \\\n",
       "0                13716          11870.863436               7884.5   \n",
       "1                19701          16304.030981               7884.5   \n",
       "2                 1776           1237.892157               7884.5   \n",
       "3                 1778           1455.140762               7884.5   \n",
       "4                10073           7692.763547               7818.0   \n",
       "\n",
       "   User_ID_75PercPrice  Product_ID_25PercPrice  Product_ID_75PercPrice  \n",
       "0              12305.5                10804.00                13475.50  \n",
       "1              12305.5                15312.00                19264.00  \n",
       "2              12305.5                 1043.75                 1423.75  \n",
       "3              12305.5                 1378.00                 1736.00  \n",
       "4              11973.0                 6174.50                 8082.50  "
      ]
     },
     "execution_count": 592,
     "metadata": {},
     "output_type": "execute_result"
    }
   ],
   "source": [
    "train.head()"
   ]
  },
  {
   "cell_type": "code",
   "execution_count": 593,
   "metadata": {},
   "outputs": [],
   "source": [
    "q1 = train['Purchase'].quantile(0.25)\n",
    "q3 = train['Purchase'].quantile(0.75)\n",
    "iqr = q3-q1 #Interquartile range\n",
    "fence_low  = q1-1.5*iqr\n",
    "fence_high = q3+1.5*iqr\n",
    "train = train[(train['Purchase'] > fence_low) & (train['Purchase'] < fence_high)]"
   ]
  },
  {
   "cell_type": "code",
   "execution_count": 411,
   "metadata": {},
   "outputs": [],
   "source": [
    "# plt.figure(figsize=(20, 10))\n",
    "# sns.pairplot(train)\n",
    "# plt.show()"
   ]
  },
  {
   "cell_type": "code",
   "execution_count": 412,
   "metadata": {},
   "outputs": [],
   "source": [
    "# from sklearn.model_selection import train_test_split\n",
    "# df_train, df_test=train_test_split(train, train_size=0.7, test_size=0.3, random_state=100)"
   ]
  },
  {
   "cell_type": "code",
   "execution_count": null,
   "metadata": {},
   "outputs": [],
   "source": []
  },
  {
   "cell_type": "code",
   "execution_count": 594,
   "metadata": {},
   "outputs": [],
   "source": [
    "# #set seed for same results everytime\n",
    "# seed=0\n",
    "# import sklearn.ensemble as ensemble\n",
    "# import sklearn.metrics as metrics\n",
    "\n",
    "# X=df_train.drop('Purchase',1)\n",
    "# y=df_train['Purchase']\n",
    "\n",
    "# X_t=df_test.drop('Purchase',1)\n",
    "# y_t=df_test['Purchase']\n",
    "X=train.drop('Purchase',1)\n",
    "y=train['Purchase']\n",
    "\n",
    "# X_t=df_test.drop('Purchase',1)\n",
    "# y_t=df_test['Purchase']\n",
    "# X_train, X_test, y_train, y_test = train_test_split(X,y, test_size = 0.2, random_state =1)\n",
    "\n",
    "# #declare the models\n",
    "\n",
    "# rf=RandomForestClassifier()\n",
    "# adb=ensemble.AdaBoostClassifier()\n",
    "# bgc=ensemble.BaggingClassifier()\n",
    "# gnb = GaussianNB()\n",
    "# knn=KNeighborsClassifier()\n",
    "# dt = DecisionTreeClassifier()\n",
    "# bgcl_lr = BaggingClassifier(base_estimator=lr, random_state=0)\n",
    "\n",
    "# # ,ab_rf,ab_dt,ab_nb,ab_lr,bgcl_lr\n",
    "\n",
    "# models=[rf,adb,bgc,gnb,knn,dt,bgcl_lr]\n",
    "# sctr,scte,auc,ps,rs,acc=[],[],[],[],[],[]\n",
    "# def ens(X_train,X_test, y_train, y_test):\n",
    "#     for model in models:\n",
    "#             model.fit(X_train, y_train)\n",
    "#             y_test_pred = model.predict(X_test)\n",
    "#             y_test_pred_new=model.predict_proba(X_test)\n",
    "#             y_test_pred_new=y_test_pred_new[:,1]\n",
    "#             train_score=model.score(X_train,y_train)\n",
    "#             test_score=model.score(X_test,y_test)\n",
    "#             p_score=metrics.precision_score(y_test,y_test_pred)\n",
    "#             r_score=metrics.recall_score(y_test,y_test_pred)\n",
    "#             accr=metrics.accuracy_score(y_test,y_test_pred)\n",
    "#             ac=metrics.roc_auc_score(y_test,y_test_pred_new)\n",
    "            \n",
    "#             sctr.append(train_score)\n",
    "#             scte.append(test_score)\n",
    "#             ps.append(p_score)\n",
    "#             rs.append(r_score)\n",
    "#             auc.append(ac)\n",
    "#             acc.append(accr)\n",
    "#     return sctr,scte,auc,ps,rs,acc\n",
    "\n",
    "# ens(X_train,X_test, y_train, y_test)\n",
    "# # 'ab_rf','ab_dt','ab_nb','ab_lr','bgcl_lr'\n",
    "# ensemble=pd.DataFrame({'names':['Random Forest','Ada boost','Bagging',\n",
    "#                                 'Naive-Bayes','KNN','Decistion Tree',\n",
    "#                                 'bagged LR'],\n",
    "#                        'auc_score':auc,'training':sctr,'testing':scte,'precision':ps,'recall':rs,'accuracy':acc})\n",
    "# ensemble=ensemble.sort_values(by='auc_score',ascending=False).reset_index(drop=True)\n",
    "# ensemble"
   ]
  },
  {
   "cell_type": "code",
   "execution_count": 32,
   "metadata": {},
   "outputs": [],
   "source": [
    "from sklearn.ensemble import RandomForestRegressor\n"
   ]
  },
  {
   "cell_type": "code",
   "execution_count": 146,
   "metadata": {},
   "outputs": [],
   "source": [
    "# Create the parameter grid based on the results of random search \n",
    "param_grid = {\n",
    "'max_depth': [10], 'max_features': [10], 'min_samples_leaf': [100], \n",
    "'min_samples_split': [200], 'n_estimators': [200]\n",
    "}\n",
    "# Create a based model\n",
    "rf = RandomForestRegressor()\n",
    "# Instantiate the grid search model\n",
    "grid_search = GridSearchCV(estimator = rf, param_grid = param_grid, \n",
    "                          cv = 3, n_jobs = -1,verbose = 1)"
   ]
  },
  {
   "cell_type": "code",
   "execution_count": 147,
   "metadata": {},
   "outputs": [
    {
     "name": "stdout",
     "output_type": "stream",
     "text": [
      "Fitting 3 folds for each of 1 candidates, totalling 3 fits\n"
     ]
    },
    {
     "name": "stderr",
     "output_type": "stream",
     "text": [
      "[Parallel(n_jobs=-1)]: Using backend LokyBackend with 4 concurrent workers.\n",
      "[Parallel(n_jobs=-1)]: Done   3 out of   3 | elapsed:  5.3min finished\n"
     ]
    },
    {
     "data": {
      "text/plain": [
       "GridSearchCV(cv=3, error_score='raise-deprecating',\n",
       "       estimator=RandomForestRegressor(bootstrap=True, criterion='mse', max_depth=None,\n",
       "           max_features='auto', max_leaf_nodes=None,\n",
       "           min_impurity_decrease=0.0, min_impurity_split=None,\n",
       "           min_samples_leaf=1, min_samples_split=2,\n",
       "           min_weight_fraction_leaf=0.0, n_estimators='warn', n_jobs=None,\n",
       "           oob_score=False, random_state=None, verbose=0, warm_start=False),\n",
       "       fit_params=None, iid='warn', n_jobs=-1,\n",
       "       param_grid={'max_depth': [10], 'max_features': [10], 'min_samples_leaf': [100], 'min_samples_split': [200], 'n_estimators': [200]},\n",
       "       pre_dispatch='2*n_jobs', refit=True, return_train_score='warn',\n",
       "       scoring=None, verbose=1)"
      ]
     },
     "execution_count": 147,
     "metadata": {},
     "output_type": "execute_result"
    }
   ],
   "source": [
    "# Fit the grid search to the data\n",
    "grid_search.fit(X, y)"
   ]
  },
  {
   "cell_type": "code",
   "execution_count": null,
   "metadata": {},
   "outputs": [],
   "source": []
  },
  {
   "cell_type": "code",
   "execution_count": 396,
   "metadata": {},
   "outputs": [],
   "source": [
    "# printing the optimal accuracy score and hyperparameters\n",
    "# print('We can get accuracy of',grid_search.best_score_,'using',grid_search.best_params_)\n",
    "# We can get accuracy of 0.6598673565353703 using {'max_depth': 10, 'max_features': 10, 'min_samples_leaf': 100, 'min_samples_split': 200, 'n_estimators': 200}"
   ]
  },
  {
   "cell_type": "code",
   "execution_count": 397,
   "metadata": {},
   "outputs": [],
   "source": [
    "# # plotting accuracies with max_depth\n",
    "# plt.figure()\n",
    "# plt.plot(scores[\"param_max_depth\"], \n",
    "#          scores[\"mean_train_score\"], \n",
    "#          label=\"training accuracy\")\n",
    "# plt.plot(scores[\"param_max_depth\"], \n",
    "#          scores[\"mean_test_score\"], \n",
    "#          label=\"test accuracy\")\n",
    "# plt.xlabel(\"max_depth\")\n",
    "# plt.ylabel(\"Accuracy\")\n",
    "# plt.legend()\n",
    "# plt.show()\n"
   ]
  },
  {
   "cell_type": "code",
   "execution_count": null,
   "metadata": {},
   "outputs": [],
   "source": []
  },
  {
   "cell_type": "code",
   "execution_count": null,
   "metadata": {},
   "outputs": [],
   "source": []
  },
  {
   "cell_type": "code",
   "execution_count": null,
   "metadata": {},
   "outputs": [],
   "source": []
  },
  {
   "cell_type": "code",
   "execution_count": 148,
   "metadata": {},
   "outputs": [],
   "source": [
    "y_test_pred_rf=grid_search.predict(X_t)"
   ]
  },
  {
   "cell_type": "code",
   "execution_count": 150,
   "metadata": {},
   "outputs": [
    {
     "name": "stdout",
     "output_type": "stream",
     "text": [
      "Final rmse value is = 2934.221665005424\n"
     ]
    }
   ],
   "source": [
    "from sklearn.metrics import mean_squared_error\n",
    "mean_squared_error=mean_squared_error(y_t,y_test_pred_rf)\n",
    "print(\"Final rmse value is =\",np.sqrt(mean_squared_error))"
   ]
  },
  {
   "cell_type": "code",
   "execution_count": 152,
   "metadata": {},
   "outputs": [],
   "source": [
    "y_test_pred=grid_search.predict(test)"
   ]
  },
  {
   "cell_type": "code",
   "execution_count": 153,
   "metadata": {},
   "outputs": [],
   "source": [
    "finalpred=pd.concat([test_cpy['User_ID'],test_cpy['Product_ID'],pd.DataFrame(y_test_pred,columns=['Purchase'])],1)\n",
    "finalpred.to_csv(\"RF.csv\",index=False)"
   ]
  },
  {
   "cell_type": "code",
   "execution_count": null,
   "metadata": {},
   "outputs": [],
   "source": []
  },
  {
   "cell_type": "code",
   "execution_count": null,
   "metadata": {},
   "outputs": [],
   "source": []
  },
  {
   "cell_type": "code",
   "execution_count": null,
   "metadata": {},
   "outputs": [],
   "source": []
  },
  {
   "cell_type": "code",
   "execution_count": null,
   "metadata": {},
   "outputs": [],
   "source": []
  },
  {
   "cell_type": "code",
   "execution_count": null,
   "metadata": {},
   "outputs": [],
   "source": []
  },
  {
   "cell_type": "code",
   "execution_count": null,
   "metadata": {},
   "outputs": [],
   "source": []
  },
  {
   "cell_type": "code",
   "execution_count": null,
   "metadata": {},
   "outputs": [],
   "source": []
  },
  {
   "cell_type": "markdown",
   "metadata": {},
   "source": [
    "### XGBOOST "
   ]
  },
  {
   "cell_type": "code",
   "execution_count": 403,
   "metadata": {},
   "outputs": [],
   "source": [
    "import xgboost as xgb \n",
    "from xgboost.sklearn import XGBRegressor"
   ]
  },
  {
   "cell_type": "code",
   "execution_count": 404,
   "metadata": {},
   "outputs": [],
   "source": [
    "params = {}\n",
    "params[\"eta\"] = 0.03\n",
    "params[\"min_child_weight\"] = 10\n",
    "params[\"subsample\"] = 0.8\n",
    "params[\"colsample_bytree\"] = 0.7\n",
    "params[\"max_depth\"] = 10\n",
    "params[\"seed\"] = 0\n",
    "plst = list(params.items())\n",
    "num_rounds = 1100"
   ]
  },
  {
   "cell_type": "code",
   "execution_count": 405,
   "metadata": {},
   "outputs": [],
   "source": [
    "xgb=XGBRegressor()"
   ]
  },
  {
   "cell_type": "code",
   "execution_count": null,
   "metadata": {},
   "outputs": [],
   "source": []
  },
  {
   "cell_type": "code",
   "execution_count": 406,
   "metadata": {},
   "outputs": [
    {
     "ename": "ValueError",
     "evalue": "DataFrame.dtypes for data must be int, float or bool.\n                Did not expect the data types in fields Product_ID",
     "output_type": "error",
     "traceback": [
      "\u001b[1;31m---------------------------------------------------------------------------\u001b[0m",
      "\u001b[1;31mValueError\u001b[0m                                Traceback (most recent call last)",
      "\u001b[1;32m<ipython-input-406-b75cb9491cb9>\u001b[0m in \u001b[0;36m<module>\u001b[1;34m\u001b[0m\n\u001b[1;32m----> 1\u001b[1;33m \u001b[0mxgb\u001b[0m\u001b[1;33m.\u001b[0m\u001b[0mfit\u001b[0m\u001b[1;33m(\u001b[0m\u001b[0mX\u001b[0m\u001b[1;33m,\u001b[0m\u001b[0my\u001b[0m\u001b[1;33m)\u001b[0m\u001b[1;33m\u001b[0m\u001b[1;33m\u001b[0m\u001b[0m\n\u001b[0m\u001b[0;32m      2\u001b[0m \u001b[0my_test_pred_xgb\u001b[0m\u001b[1;33m=\u001b[0m\u001b[0mxgb\u001b[0m\u001b[1;33m.\u001b[0m\u001b[0mpredict\u001b[0m\u001b[1;33m(\u001b[0m\u001b[0mX_t\u001b[0m\u001b[1;33m)\u001b[0m\u001b[1;33m\u001b[0m\u001b[1;33m\u001b[0m\u001b[0m\n",
      "\u001b[1;32m~\\Anaconda3\\lib\\site-packages\\xgboost\\sklearn.py\u001b[0m in \u001b[0;36mfit\u001b[1;34m(self, X, y, sample_weight, base_margin, eval_set, eval_metric, early_stopping_rounds, verbose, xgb_model, sample_weight_eval_set, callbacks)\u001b[0m\n\u001b[0;32m    502\u001b[0m                                 \u001b[0mbase_margin\u001b[0m\u001b[1;33m=\u001b[0m\u001b[0mbase_margin\u001b[0m\u001b[1;33m,\u001b[0m\u001b[1;33m\u001b[0m\u001b[1;33m\u001b[0m\u001b[0m\n\u001b[0;32m    503\u001b[0m                                 \u001b[0mmissing\u001b[0m\u001b[1;33m=\u001b[0m\u001b[0mself\u001b[0m\u001b[1;33m.\u001b[0m\u001b[0mmissing\u001b[0m\u001b[1;33m,\u001b[0m\u001b[1;33m\u001b[0m\u001b[1;33m\u001b[0m\u001b[0m\n\u001b[1;32m--> 504\u001b[1;33m                                 nthread=self.n_jobs)\n\u001b[0m\u001b[0;32m    505\u001b[0m \u001b[1;33m\u001b[0m\u001b[0m\n\u001b[0;32m    506\u001b[0m         \u001b[0mevals_result\u001b[0m \u001b[1;33m=\u001b[0m \u001b[1;33m{\u001b[0m\u001b[1;33m}\u001b[0m\u001b[1;33m\u001b[0m\u001b[1;33m\u001b[0m\u001b[0m\n",
      "\u001b[1;32m~\\Anaconda3\\lib\\site-packages\\xgboost\\core.py\u001b[0m in \u001b[0;36m__init__\u001b[1;34m(self, data, label, weight, base_margin, missing, silent, feature_names, feature_types, nthread)\u001b[0m\n\u001b[0;32m    518\u001b[0m \u001b[1;33m\u001b[0m\u001b[0m\n\u001b[0;32m    519\u001b[0m         data, feature_names, feature_types = _convert_dataframes(\n\u001b[1;32m--> 520\u001b[1;33m             \u001b[0mdata\u001b[0m\u001b[1;33m,\u001b[0m \u001b[0mfeature_names\u001b[0m\u001b[1;33m,\u001b[0m \u001b[0mfeature_types\u001b[0m\u001b[1;33m\u001b[0m\u001b[1;33m\u001b[0m\u001b[0m\n\u001b[0m\u001b[0;32m    521\u001b[0m         )\n\u001b[0;32m    522\u001b[0m         \u001b[0mmissing\u001b[0m \u001b[1;33m=\u001b[0m \u001b[0mmissing\u001b[0m \u001b[1;32mif\u001b[0m \u001b[0mmissing\u001b[0m \u001b[1;32mis\u001b[0m \u001b[1;32mnot\u001b[0m \u001b[1;32mNone\u001b[0m \u001b[1;32melse\u001b[0m \u001b[0mnp\u001b[0m\u001b[1;33m.\u001b[0m\u001b[0mnan\u001b[0m\u001b[1;33m\u001b[0m\u001b[1;33m\u001b[0m\u001b[0m\n",
      "\u001b[1;32m~\\Anaconda3\\lib\\site-packages\\xgboost\\core.py\u001b[0m in \u001b[0;36m_convert_dataframes\u001b[1;34m(data, feature_names, feature_types, meta, meta_type)\u001b[0m\n\u001b[0;32m    418\u001b[0m                                                             \u001b[0mfeature_types\u001b[0m\u001b[1;33m,\u001b[0m\u001b[1;33m\u001b[0m\u001b[1;33m\u001b[0m\u001b[0m\n\u001b[0;32m    419\u001b[0m                                                             \u001b[0mmeta\u001b[0m\u001b[1;33m,\u001b[0m\u001b[1;33m\u001b[0m\u001b[1;33m\u001b[0m\u001b[0m\n\u001b[1;32m--> 420\u001b[1;33m                                                             meta_type)\n\u001b[0m\u001b[0;32m    421\u001b[0m \u001b[1;33m\u001b[0m\u001b[0m\n\u001b[0;32m    422\u001b[0m     data, feature_names, feature_types = _maybe_dt_data(data,\n",
      "\u001b[1;32m~\\Anaconda3\\lib\\site-packages\\xgboost\\core.py\u001b[0m in \u001b[0;36m_maybe_pandas_data\u001b[1;34m(data, feature_names, feature_types, meta, meta_type)\u001b[0m\n\u001b[0;32m    292\u001b[0m         msg = \"\"\"DataFrame.dtypes for data must be int, float or bool.\n\u001b[0;32m    293\u001b[0m                 Did not expect the data types in fields \"\"\"\n\u001b[1;32m--> 294\u001b[1;33m         \u001b[1;32mraise\u001b[0m \u001b[0mValueError\u001b[0m\u001b[1;33m(\u001b[0m\u001b[0mmsg\u001b[0m \u001b[1;33m+\u001b[0m \u001b[1;34m', '\u001b[0m\u001b[1;33m.\u001b[0m\u001b[0mjoin\u001b[0m\u001b[1;33m(\u001b[0m\u001b[0mbad_fields\u001b[0m\u001b[1;33m)\u001b[0m\u001b[1;33m)\u001b[0m\u001b[1;33m\u001b[0m\u001b[1;33m\u001b[0m\u001b[0m\n\u001b[0m\u001b[0;32m    295\u001b[0m \u001b[1;33m\u001b[0m\u001b[0m\n\u001b[0;32m    296\u001b[0m     \u001b[1;32mif\u001b[0m \u001b[0mfeature_names\u001b[0m \u001b[1;32mis\u001b[0m \u001b[1;32mNone\u001b[0m \u001b[1;32mand\u001b[0m \u001b[0mmeta\u001b[0m \u001b[1;32mis\u001b[0m \u001b[1;32mNone\u001b[0m\u001b[1;33m:\u001b[0m\u001b[1;33m\u001b[0m\u001b[1;33m\u001b[0m\u001b[0m\n",
      "\u001b[1;31mValueError\u001b[0m: DataFrame.dtypes for data must be int, float or bool.\n                Did not expect the data types in fields Product_ID"
     ]
    }
   ],
   "source": [
    "xgb.fit(X,y)\n",
    "y_test_pred_xgb=xgb.predict(X_t)"
   ]
  },
  {
   "cell_type": "code",
   "execution_count": 407,
   "metadata": {},
   "outputs": [],
   "source": [
    "from sklearn.metrics import mean_squared_error\n",
    "mean_squared_error=mean_squared_error(y_t,y_test_pred_xgb)"
   ]
  },
  {
   "cell_type": "code",
   "execution_count": 319,
   "metadata": {},
   "outputs": [
    {
     "name": "stdout",
     "output_type": "stream",
     "text": [
      "Final rmse value is = 2422.3768401174416\n"
     ]
    }
   ],
   "source": [
    "print(\"Final rmse value is =\",np.sqrt(mean_squared_error))"
   ]
  },
  {
   "cell_type": "code",
   "execution_count": 320,
   "metadata": {},
   "outputs": [],
   "source": [
    "y_test_pred_x=xgb.predict(test)"
   ]
  },
  {
   "cell_type": "code",
   "execution_count": 321,
   "metadata": {},
   "outputs": [],
   "source": [
    "finalpred=pd.concat([test_cpy['User_ID'],test_cpy['Product_ID'],pd.DataFrame(y_test_pred_x,columns=['Purchase'])],1)\n",
    "finalpred.to_csv(\"xgb.csv\",index=False)"
   ]
  },
  {
   "cell_type": "markdown",
   "metadata": {},
   "source": [
    "### Decision Tree Regressor"
   ]
  },
  {
   "cell_type": "code",
   "execution_count": 87,
   "metadata": {},
   "outputs": [],
   "source": [
    "from sklearn.tree import DecisionTreeRegressor\n",
    "\n",
    "dt=DecisionTreeRegressor()\n"
   ]
  },
  {
   "cell_type": "code",
   "execution_count": 88,
   "metadata": {},
   "outputs": [
    {
     "data": {
      "text/plain": [
       "DecisionTreeRegressor(criterion='mse', max_depth=None, max_features=None,\n",
       "           max_leaf_nodes=None, min_impurity_decrease=0.0,\n",
       "           min_impurity_split=None, min_samples_leaf=1,\n",
       "           min_samples_split=2, min_weight_fraction_leaf=0.0,\n",
       "           presort=False, random_state=None, splitter='best')"
      ]
     },
     "execution_count": 88,
     "metadata": {},
     "output_type": "execute_result"
    }
   ],
   "source": [
    "dt.fit(X,y)"
   ]
  },
  {
   "cell_type": "code",
   "execution_count": 89,
   "metadata": {},
   "outputs": [],
   "source": [
    "y_test_pred_dt=dt.predict(X_t)"
   ]
  },
  {
   "cell_type": "code",
   "execution_count": 91,
   "metadata": {},
   "outputs": [
    {
     "name": "stdout",
     "output_type": "stream",
     "text": [
      "Final rmse value is = 3505.2541793983273\n"
     ]
    }
   ],
   "source": [
    "from sklearn.metrics import mean_squared_error\n",
    "mean_squared_error=mean_squared_error(y_t,y_test_pred_dt)\n",
    "print(\"Final rmse value is =\",np.sqrt(mean_squared_error))"
   ]
  },
  {
   "cell_type": "code",
   "execution_count": null,
   "metadata": {},
   "outputs": [],
   "source": []
  },
  {
   "cell_type": "code",
   "execution_count": 103,
   "metadata": {},
   "outputs": [],
   "source": [
    "from sklearn.model_selection import GridSearchCV"
   ]
  },
  {
   "cell_type": "code",
   "execution_count": 104,
   "metadata": {},
   "outputs": [],
   "source": [
    "xgb1 = XGBRegressor()\n",
    "parameters = {'nthread':[4], #when use hyperthread, xgboost may become slower\n",
    "              'objective':['reg:linear'],\n",
    "              'learning_rate': [.03, 0.05, .07], #so called `eta` value\n",
    "              'max_depth': [5, 6, 7],\n",
    "              'min_child_weight': [4],\n",
    "              'silent': [1],\n",
    "              'subsample': [0.7],\n",
    "              'colsample_bytree': [0.7],\n",
    "              'n_estimators': [500]}"
   ]
  },
  {
   "cell_type": "code",
   "execution_count": 105,
   "metadata": {},
   "outputs": [
    {
     "name": "stdout",
     "output_type": "stream",
     "text": [
      "Fitting 2 folds for each of 9 candidates, totalling 18 fits\n"
     ]
    },
    {
     "name": "stderr",
     "output_type": "stream",
     "text": [
      "[Parallel(n_jobs=5)]: Using backend LokyBackend with 5 concurrent workers.\n",
      "[Parallel(n_jobs=5)]: Done  18 out of  18 | elapsed: 30.5min finished\n"
     ]
    },
    {
     "name": "stdout",
     "output_type": "stream",
     "text": [
      "[14:22:22] WARNING: C:/Users/Administrator/workspace/xgboost-win64_release_1.1.0/src/objective/regression_obj.cu:170: reg:linear is now deprecated in favor of reg:squarederror.\n",
      "[14:22:23] WARNING: C:\\Users\\Administrator\\workspace\\xgboost-win64_release_1.1.0\\src\\learner.cc:480: \n",
      "Parameters: { silent } might not be used.\n",
      "\n",
      "  This may not be accurate due to some parameters are only used in language bindings but\n",
      "  passed down to XGBoost core.  Or some parameters are not used but slip through this\n",
      "  verification. Please open an issue if you find above cases.\n",
      "\n",
      "\n",
      "[14:28:03] WARNING: C:/Users/Administrator/workspace/xgboost-win64_release_1.1.0/src/objective/regression_obj.cu:170: reg:linear is now deprecated in favor of reg:squarederror.\n",
      "0.6880324969190342\n",
      "{'colsample_bytree': 0.7, 'learning_rate': 0.07, 'max_depth': 7, 'min_child_weight': 4, 'n_estimators': 500, 'nthread': 4, 'objective': 'reg:linear', 'silent': 1, 'subsample': 0.7}\n"
     ]
    }
   ],
   "source": [
    "xgb_grid = GridSearchCV(xgb1,\n",
    "                        parameters,\n",
    "                        cv = 2,\n",
    "                        n_jobs = 5,\n",
    "                        verbose=True)\n",
    "\n",
    "xgb_grid.fit(X,y)\n",
    "\n",
    "print(xgb_grid.best_score_)\n",
    "print(xgb_grid.best_params_)"
   ]
  },
  {
   "cell_type": "code",
   "execution_count": 129,
   "metadata": {},
   "outputs": [],
   "source": [
    "params={'colsample_bytree': [0.7], 'learning_rate': [0.0005], 'max_depth': [9], 'min_child_weight': [4],\n",
    "        'n_estimators': [100],'objective': ['reg:linear'], 'subsample': [0.7]}"
   ]
  },
  {
   "cell_type": "code",
   "execution_count": 130,
   "metadata": {},
   "outputs": [
    {
     "name": "stdout",
     "output_type": "stream",
     "text": [
      "Fitting 2 folds for each of 1 candidates, totalling 2 fits\n"
     ]
    },
    {
     "name": "stderr",
     "output_type": "stream",
     "text": [
      "[Parallel(n_jobs=5)]: Using backend LokyBackend with 5 concurrent workers.\n",
      "[Parallel(n_jobs=5)]: Done   2 out of   2 | elapsed:  1.1min remaining:    0.0s\n",
      "[Parallel(n_jobs=5)]: Done   2 out of   2 | elapsed:  1.1min finished\n"
     ]
    },
    {
     "name": "stdout",
     "output_type": "stream",
     "text": [
      "[16:04:06] WARNING: C:/Users/Administrator/workspace/xgboost-win64_release_1.1.0/src/objective/regression_obj.cu:170: reg:linear is now deprecated in favor of reg:squarederror.\n",
      "[16:05:32] WARNING: C:/Users/Administrator/workspace/xgboost-win64_release_1.1.0/src/objective/regression_obj.cu:170: reg:linear is now deprecated in favor of reg:squarederror.\n"
     ]
    },
    {
     "data": {
      "text/plain": [
       "GridSearchCV(cv=2, error_score='raise-deprecating',\n",
       "       estimator=XGBRegressor(base_score=None, booster=None, colsample_bylevel=None,\n",
       "       colsample_bynode=None, colsample_bytree=None, gamma=None,\n",
       "       gpu_id=None, importance_type='gain', interaction_constraints=None,\n",
       "       learning_rate=None, max_delta_step=None, max_depth=None,\n",
       "       min_child_we..._pos_weight=None, subsample=None,\n",
       "       tree_method=None, validate_parameters=None, verbosity=None),\n",
       "       fit_params=None, iid='warn', n_jobs=5,\n",
       "       param_grid={'colsample_bytree': [0.7], 'learning_rate': [0.0005], 'max_depth': [9], 'min_child_weight': [4], 'n_estimators': [100], 'objective': ['reg:linear'], 'subsample': [0.7]},\n",
       "       pre_dispatch='2*n_jobs', refit=True, return_train_score='warn',\n",
       "       scoring=None, verbose=True)"
      ]
     },
     "execution_count": 130,
     "metadata": {},
     "output_type": "execute_result"
    }
   ],
   "source": [
    "xgb_grid = GridSearchCV(xgb1,\n",
    "                        params,\n",
    "                        cv = 2,\n",
    "                        n_jobs = 5,\n",
    "                        verbose=True)\n",
    "\n",
    "xgb_grid.fit(X,y)"
   ]
  },
  {
   "cell_type": "code",
   "execution_count": 131,
   "metadata": {},
   "outputs": [],
   "source": [
    "y_test_pred_xgb1=xgb.predict(X_t)"
   ]
  },
  {
   "cell_type": "code",
   "execution_count": 132,
   "metadata": {},
   "outputs": [
    {
     "name": "stdout",
     "output_type": "stream",
     "text": [
      "Final rmse value is = 2823.3864772111156\n"
     ]
    }
   ],
   "source": [
    "from sklearn.metrics import mean_squared_error\n",
    "mean_squared_error=mean_squared_error(y_t,y_test_pred_xgb1)\n",
    "print(\"Final rmse value is =\",np.sqrt(mean_squared_error))"
   ]
  },
  {
   "cell_type": "markdown",
   "metadata": {},
   "source": [
    "### Light GBM"
   ]
  },
  {
   "cell_type": "code",
   "execution_count": 452,
   "metadata": {},
   "outputs": [],
   "source": [
    "import lightgbm as lgb"
   ]
  },
  {
   "cell_type": "code",
   "execution_count": 399,
   "metadata": {},
   "outputs": [],
   "source": [
    "lgbm=lgb.LGBMRegressor()"
   ]
  },
  {
   "cell_type": "code",
   "execution_count": 400,
   "metadata": {},
   "outputs": [],
   "source": [
    "# params={'colsample_bytree': [0.7], 'learning_rate': [0.07], 'max_depth': [15], 'min_child_weight': [4],\n",
    "#         'n_estimators': [100], 'subsample': [0.5]}\n",
    "\n",
    "params={'num_leaves':[200], 'objective':['regression'],'max_depth':[15],'learning_rate':[.1],'max_bin':[200]}"
   ]
  },
  {
   "cell_type": "code",
   "execution_count": 401,
   "metadata": {},
   "outputs": [],
   "source": [
    "model = GridSearchCV(lgbm,\n",
    "                        params,\n",
    "                        cv = 3,\n",
    "                        n_jobs = 5,\n",
    "                        verbose=True)\n",
    "\n"
   ]
  },
  {
   "cell_type": "code",
   "execution_count": 402,
   "metadata": {},
   "outputs": [
    {
     "name": "stdout",
     "output_type": "stream",
     "text": [
      "Fitting 3 folds for each of 1 candidates, totalling 3 fits\n"
     ]
    },
    {
     "name": "stderr",
     "output_type": "stream",
     "text": [
      "[Parallel(n_jobs=5)]: Using backend LokyBackend with 5 concurrent workers.\n"
     ]
    },
    {
     "ename": "ValueError",
     "evalue": "DataFrame.dtypes for data must be int, float or bool.\nDid not expect the data types in the following fields: Product_ID",
     "output_type": "error",
     "traceback": [
      "\u001b[1;31m---------------------------------------------------------------------------\u001b[0m",
      "\u001b[1;31m_RemoteTraceback\u001b[0m                          Traceback (most recent call last)",
      "\u001b[1;31m_RemoteTraceback\u001b[0m: \n\"\"\"\nTraceback (most recent call last):\n  File \"C:\\Users\\Ankita Paithankar\\Anaconda3\\lib\\site-packages\\sklearn\\externals\\joblib\\externals\\loky\\process_executor.py\", line 418, in _process_worker\n    r = call_item()\n  File \"C:\\Users\\Ankita Paithankar\\Anaconda3\\lib\\site-packages\\sklearn\\externals\\joblib\\externals\\loky\\process_executor.py\", line 272, in __call__\n    return self.fn(*self.args, **self.kwargs)\n  File \"C:\\Users\\Ankita Paithankar\\Anaconda3\\lib\\site-packages\\sklearn\\externals\\joblib\\_parallel_backends.py\", line 567, in __call__\n    return self.func(*args, **kwargs)\n  File \"C:\\Users\\Ankita Paithankar\\Anaconda3\\lib\\site-packages\\sklearn\\externals\\joblib\\parallel.py\", line 225, in __call__\n    for func, args, kwargs in self.items]\n  File \"C:\\Users\\Ankita Paithankar\\Anaconda3\\lib\\site-packages\\sklearn\\externals\\joblib\\parallel.py\", line 225, in <listcomp>\n    for func, args, kwargs in self.items]\n  File \"C:\\Users\\Ankita Paithankar\\Anaconda3\\lib\\site-packages\\sklearn\\model_selection\\_validation.py\", line 530, in _fit_and_score\n    estimator.fit(X_train, y_train, **fit_params)\n  File \"C:\\Users\\Ankita Paithankar\\Anaconda3\\lib\\site-packages\\lightgbm\\sklearn.py\", line 743, in fit\n    callbacks=callbacks)\n  File \"C:\\Users\\Ankita Paithankar\\Anaconda3\\lib\\site-packages\\lightgbm\\sklearn.py\", line 600, in fit\n    callbacks=callbacks)\n  File \"C:\\Users\\Ankita Paithankar\\Anaconda3\\lib\\site-packages\\lightgbm\\engine.py\", line 228, in train\n    booster = Booster(params=params, train_set=train_set)\n  File \"C:\\Users\\Ankita Paithankar\\Anaconda3\\lib\\site-packages\\lightgbm\\basic.py\", line 1714, in __init__\n    train_set.construct().handle,\n  File \"C:\\Users\\Ankita Paithankar\\Anaconda3\\lib\\site-packages\\lightgbm\\basic.py\", line 1085, in construct\n    categorical_feature=self.categorical_feature, params=self.params)\n  File \"C:\\Users\\Ankita Paithankar\\Anaconda3\\lib\\site-packages\\lightgbm\\basic.py\", line 830, in _lazy_init\n    self.pandas_categorical)\n  File \"C:\\Users\\Ankita Paithankar\\Anaconda3\\lib\\site-packages\\lightgbm\\basic.py\", line 344, in _data_from_pandas\n    + ', '.join(data.columns[bad_indices]))\nValueError: DataFrame.dtypes for data must be int, float or bool.\nDid not expect the data types in the following fields: Product_ID\n\"\"\"",
      "\nThe above exception was the direct cause of the following exception:\n",
      "\u001b[1;31mValueError\u001b[0m                                Traceback (most recent call last)",
      "\u001b[1;32m<ipython-input-402-4c1a2828403e>\u001b[0m in \u001b[0;36m<module>\u001b[1;34m\u001b[0m\n\u001b[1;32m----> 1\u001b[1;33m \u001b[0mmodel\u001b[0m\u001b[1;33m.\u001b[0m\u001b[0mfit\u001b[0m\u001b[1;33m(\u001b[0m\u001b[0mX\u001b[0m\u001b[1;33m,\u001b[0m\u001b[0my\u001b[0m\u001b[1;33m)\u001b[0m\u001b[1;33m\u001b[0m\u001b[1;33m\u001b[0m\u001b[0m\n\u001b[0m",
      "\u001b[1;32m~\\Anaconda3\\lib\\site-packages\\sklearn\\model_selection\\_search.py\u001b[0m in \u001b[0;36mfit\u001b[1;34m(self, X, y, groups, **fit_params)\u001b[0m\n\u001b[0;32m    721\u001b[0m                 \u001b[1;32mreturn\u001b[0m \u001b[0mresults_container\u001b[0m\u001b[1;33m[\u001b[0m\u001b[1;36m0\u001b[0m\u001b[1;33m]\u001b[0m\u001b[1;33m\u001b[0m\u001b[1;33m\u001b[0m\u001b[0m\n\u001b[0;32m    722\u001b[0m \u001b[1;33m\u001b[0m\u001b[0m\n\u001b[1;32m--> 723\u001b[1;33m             \u001b[0mself\u001b[0m\u001b[1;33m.\u001b[0m\u001b[0m_run_search\u001b[0m\u001b[1;33m(\u001b[0m\u001b[0mevaluate_candidates\u001b[0m\u001b[1;33m)\u001b[0m\u001b[1;33m\u001b[0m\u001b[1;33m\u001b[0m\u001b[0m\n\u001b[0m\u001b[0;32m    724\u001b[0m \u001b[1;33m\u001b[0m\u001b[0m\n\u001b[0;32m    725\u001b[0m         \u001b[0mresults\u001b[0m \u001b[1;33m=\u001b[0m \u001b[0mresults_container\u001b[0m\u001b[1;33m[\u001b[0m\u001b[1;36m0\u001b[0m\u001b[1;33m]\u001b[0m\u001b[1;33m\u001b[0m\u001b[1;33m\u001b[0m\u001b[0m\n",
      "\u001b[1;32m~\\Anaconda3\\lib\\site-packages\\sklearn\\model_selection\\_search.py\u001b[0m in \u001b[0;36m_run_search\u001b[1;34m(self, evaluate_candidates)\u001b[0m\n\u001b[0;32m   1190\u001b[0m     \u001b[1;32mdef\u001b[0m \u001b[0m_run_search\u001b[0m\u001b[1;33m(\u001b[0m\u001b[0mself\u001b[0m\u001b[1;33m,\u001b[0m \u001b[0mevaluate_candidates\u001b[0m\u001b[1;33m)\u001b[0m\u001b[1;33m:\u001b[0m\u001b[1;33m\u001b[0m\u001b[1;33m\u001b[0m\u001b[0m\n\u001b[0;32m   1191\u001b[0m         \u001b[1;34m\"\"\"Search all candidates in param_grid\"\"\"\u001b[0m\u001b[1;33m\u001b[0m\u001b[1;33m\u001b[0m\u001b[0m\n\u001b[1;32m-> 1192\u001b[1;33m         \u001b[0mevaluate_candidates\u001b[0m\u001b[1;33m(\u001b[0m\u001b[0mParameterGrid\u001b[0m\u001b[1;33m(\u001b[0m\u001b[0mself\u001b[0m\u001b[1;33m.\u001b[0m\u001b[0mparam_grid\u001b[0m\u001b[1;33m)\u001b[0m\u001b[1;33m)\u001b[0m\u001b[1;33m\u001b[0m\u001b[1;33m\u001b[0m\u001b[0m\n\u001b[0m\u001b[0;32m   1193\u001b[0m \u001b[1;33m\u001b[0m\u001b[0m\n\u001b[0;32m   1194\u001b[0m \u001b[1;33m\u001b[0m\u001b[0m\n",
      "\u001b[1;32m~\\Anaconda3\\lib\\site-packages\\sklearn\\model_selection\\_search.py\u001b[0m in \u001b[0;36mevaluate_candidates\u001b[1;34m(candidate_params)\u001b[0m\n\u001b[0;32m    710\u001b[0m                                \u001b[1;32mfor\u001b[0m \u001b[0mparameters\u001b[0m\u001b[1;33m,\u001b[0m \u001b[1;33m(\u001b[0m\u001b[0mtrain\u001b[0m\u001b[1;33m,\u001b[0m \u001b[0mtest\u001b[0m\u001b[1;33m)\u001b[0m\u001b[1;33m\u001b[0m\u001b[1;33m\u001b[0m\u001b[0m\n\u001b[0;32m    711\u001b[0m                                in product(candidate_params,\n\u001b[1;32m--> 712\u001b[1;33m                                           cv.split(X, y, groups)))\n\u001b[0m\u001b[0;32m    713\u001b[0m \u001b[1;33m\u001b[0m\u001b[0m\n\u001b[0;32m    714\u001b[0m                 \u001b[0mall_candidate_params\u001b[0m\u001b[1;33m.\u001b[0m\u001b[0mextend\u001b[0m\u001b[1;33m(\u001b[0m\u001b[0mcandidate_params\u001b[0m\u001b[1;33m)\u001b[0m\u001b[1;33m\u001b[0m\u001b[1;33m\u001b[0m\u001b[0m\n",
      "\u001b[1;32m~\\Anaconda3\\lib\\site-packages\\sklearn\\externals\\joblib\\parallel.py\u001b[0m in \u001b[0;36m__call__\u001b[1;34m(self, iterable)\u001b[0m\n\u001b[0;32m    932\u001b[0m \u001b[1;33m\u001b[0m\u001b[0m\n\u001b[0;32m    933\u001b[0m             \u001b[1;32mwith\u001b[0m \u001b[0mself\u001b[0m\u001b[1;33m.\u001b[0m\u001b[0m_backend\u001b[0m\u001b[1;33m.\u001b[0m\u001b[0mretrieval_context\u001b[0m\u001b[1;33m(\u001b[0m\u001b[1;33m)\u001b[0m\u001b[1;33m:\u001b[0m\u001b[1;33m\u001b[0m\u001b[1;33m\u001b[0m\u001b[0m\n\u001b[1;32m--> 934\u001b[1;33m                 \u001b[0mself\u001b[0m\u001b[1;33m.\u001b[0m\u001b[0mretrieve\u001b[0m\u001b[1;33m(\u001b[0m\u001b[1;33m)\u001b[0m\u001b[1;33m\u001b[0m\u001b[1;33m\u001b[0m\u001b[0m\n\u001b[0m\u001b[0;32m    935\u001b[0m             \u001b[1;31m# Make sure that we get a last message telling us we are done\u001b[0m\u001b[1;33m\u001b[0m\u001b[1;33m\u001b[0m\u001b[1;33m\u001b[0m\u001b[0m\n\u001b[0;32m    936\u001b[0m             \u001b[0melapsed_time\u001b[0m \u001b[1;33m=\u001b[0m \u001b[0mtime\u001b[0m\u001b[1;33m.\u001b[0m\u001b[0mtime\u001b[0m\u001b[1;33m(\u001b[0m\u001b[1;33m)\u001b[0m \u001b[1;33m-\u001b[0m \u001b[0mself\u001b[0m\u001b[1;33m.\u001b[0m\u001b[0m_start_time\u001b[0m\u001b[1;33m\u001b[0m\u001b[1;33m\u001b[0m\u001b[0m\n",
      "\u001b[1;32m~\\Anaconda3\\lib\\site-packages\\sklearn\\externals\\joblib\\parallel.py\u001b[0m in \u001b[0;36mretrieve\u001b[1;34m(self)\u001b[0m\n\u001b[0;32m    831\u001b[0m             \u001b[1;32mtry\u001b[0m\u001b[1;33m:\u001b[0m\u001b[1;33m\u001b[0m\u001b[1;33m\u001b[0m\u001b[0m\n\u001b[0;32m    832\u001b[0m                 \u001b[1;32mif\u001b[0m \u001b[0mgetattr\u001b[0m\u001b[1;33m(\u001b[0m\u001b[0mself\u001b[0m\u001b[1;33m.\u001b[0m\u001b[0m_backend\u001b[0m\u001b[1;33m,\u001b[0m \u001b[1;34m'supports_timeout'\u001b[0m\u001b[1;33m,\u001b[0m \u001b[1;32mFalse\u001b[0m\u001b[1;33m)\u001b[0m\u001b[1;33m:\u001b[0m\u001b[1;33m\u001b[0m\u001b[1;33m\u001b[0m\u001b[0m\n\u001b[1;32m--> 833\u001b[1;33m                     \u001b[0mself\u001b[0m\u001b[1;33m.\u001b[0m\u001b[0m_output\u001b[0m\u001b[1;33m.\u001b[0m\u001b[0mextend\u001b[0m\u001b[1;33m(\u001b[0m\u001b[0mjob\u001b[0m\u001b[1;33m.\u001b[0m\u001b[0mget\u001b[0m\u001b[1;33m(\u001b[0m\u001b[0mtimeout\u001b[0m\u001b[1;33m=\u001b[0m\u001b[0mself\u001b[0m\u001b[1;33m.\u001b[0m\u001b[0mtimeout\u001b[0m\u001b[1;33m)\u001b[0m\u001b[1;33m)\u001b[0m\u001b[1;33m\u001b[0m\u001b[1;33m\u001b[0m\u001b[0m\n\u001b[0m\u001b[0;32m    834\u001b[0m                 \u001b[1;32melse\u001b[0m\u001b[1;33m:\u001b[0m\u001b[1;33m\u001b[0m\u001b[1;33m\u001b[0m\u001b[0m\n\u001b[0;32m    835\u001b[0m                     \u001b[0mself\u001b[0m\u001b[1;33m.\u001b[0m\u001b[0m_output\u001b[0m\u001b[1;33m.\u001b[0m\u001b[0mextend\u001b[0m\u001b[1;33m(\u001b[0m\u001b[0mjob\u001b[0m\u001b[1;33m.\u001b[0m\u001b[0mget\u001b[0m\u001b[1;33m(\u001b[0m\u001b[1;33m)\u001b[0m\u001b[1;33m)\u001b[0m\u001b[1;33m\u001b[0m\u001b[1;33m\u001b[0m\u001b[0m\n",
      "\u001b[1;32m~\\Anaconda3\\lib\\site-packages\\sklearn\\externals\\joblib\\_parallel_backends.py\u001b[0m in \u001b[0;36mwrap_future_result\u001b[1;34m(future, timeout)\u001b[0m\n\u001b[0;32m    519\u001b[0m         AsyncResults.get from multiprocessing.\"\"\"\n\u001b[0;32m    520\u001b[0m         \u001b[1;32mtry\u001b[0m\u001b[1;33m:\u001b[0m\u001b[1;33m\u001b[0m\u001b[1;33m\u001b[0m\u001b[0m\n\u001b[1;32m--> 521\u001b[1;33m             \u001b[1;32mreturn\u001b[0m \u001b[0mfuture\u001b[0m\u001b[1;33m.\u001b[0m\u001b[0mresult\u001b[0m\u001b[1;33m(\u001b[0m\u001b[0mtimeout\u001b[0m\u001b[1;33m=\u001b[0m\u001b[0mtimeout\u001b[0m\u001b[1;33m)\u001b[0m\u001b[1;33m\u001b[0m\u001b[1;33m\u001b[0m\u001b[0m\n\u001b[0m\u001b[0;32m    522\u001b[0m         \u001b[1;32mexcept\u001b[0m \u001b[0mLokyTimeoutError\u001b[0m\u001b[1;33m:\u001b[0m\u001b[1;33m\u001b[0m\u001b[1;33m\u001b[0m\u001b[0m\n\u001b[0;32m    523\u001b[0m             \u001b[1;32mraise\u001b[0m \u001b[0mTimeoutError\u001b[0m\u001b[1;33m(\u001b[0m\u001b[1;33m)\u001b[0m\u001b[1;33m\u001b[0m\u001b[1;33m\u001b[0m\u001b[0m\n",
      "\u001b[1;32m~\\Anaconda3\\lib\\concurrent\\futures\\_base.py\u001b[0m in \u001b[0;36mresult\u001b[1;34m(self, timeout)\u001b[0m\n\u001b[0;32m    430\u001b[0m                 \u001b[1;32mraise\u001b[0m \u001b[0mCancelledError\u001b[0m\u001b[1;33m(\u001b[0m\u001b[1;33m)\u001b[0m\u001b[1;33m\u001b[0m\u001b[1;33m\u001b[0m\u001b[0m\n\u001b[0;32m    431\u001b[0m             \u001b[1;32melif\u001b[0m \u001b[0mself\u001b[0m\u001b[1;33m.\u001b[0m\u001b[0m_state\u001b[0m \u001b[1;33m==\u001b[0m \u001b[0mFINISHED\u001b[0m\u001b[1;33m:\u001b[0m\u001b[1;33m\u001b[0m\u001b[1;33m\u001b[0m\u001b[0m\n\u001b[1;32m--> 432\u001b[1;33m                 \u001b[1;32mreturn\u001b[0m \u001b[0mself\u001b[0m\u001b[1;33m.\u001b[0m\u001b[0m__get_result\u001b[0m\u001b[1;33m(\u001b[0m\u001b[1;33m)\u001b[0m\u001b[1;33m\u001b[0m\u001b[1;33m\u001b[0m\u001b[0m\n\u001b[0m\u001b[0;32m    433\u001b[0m             \u001b[1;32melse\u001b[0m\u001b[1;33m:\u001b[0m\u001b[1;33m\u001b[0m\u001b[1;33m\u001b[0m\u001b[0m\n\u001b[0;32m    434\u001b[0m                 \u001b[1;32mraise\u001b[0m \u001b[0mTimeoutError\u001b[0m\u001b[1;33m(\u001b[0m\u001b[1;33m)\u001b[0m\u001b[1;33m\u001b[0m\u001b[1;33m\u001b[0m\u001b[0m\n",
      "\u001b[1;32m~\\Anaconda3\\lib\\concurrent\\futures\\_base.py\u001b[0m in \u001b[0;36m__get_result\u001b[1;34m(self)\u001b[0m\n\u001b[0;32m    382\u001b[0m     \u001b[1;32mdef\u001b[0m \u001b[0m__get_result\u001b[0m\u001b[1;33m(\u001b[0m\u001b[0mself\u001b[0m\u001b[1;33m)\u001b[0m\u001b[1;33m:\u001b[0m\u001b[1;33m\u001b[0m\u001b[1;33m\u001b[0m\u001b[0m\n\u001b[0;32m    383\u001b[0m         \u001b[1;32mif\u001b[0m \u001b[0mself\u001b[0m\u001b[1;33m.\u001b[0m\u001b[0m_exception\u001b[0m\u001b[1;33m:\u001b[0m\u001b[1;33m\u001b[0m\u001b[1;33m\u001b[0m\u001b[0m\n\u001b[1;32m--> 384\u001b[1;33m             \u001b[1;32mraise\u001b[0m \u001b[0mself\u001b[0m\u001b[1;33m.\u001b[0m\u001b[0m_exception\u001b[0m\u001b[1;33m\u001b[0m\u001b[1;33m\u001b[0m\u001b[0m\n\u001b[0m\u001b[0;32m    385\u001b[0m         \u001b[1;32melse\u001b[0m\u001b[1;33m:\u001b[0m\u001b[1;33m\u001b[0m\u001b[1;33m\u001b[0m\u001b[0m\n\u001b[0;32m    386\u001b[0m             \u001b[1;32mreturn\u001b[0m \u001b[0mself\u001b[0m\u001b[1;33m.\u001b[0m\u001b[0m_result\u001b[0m\u001b[1;33m\u001b[0m\u001b[1;33m\u001b[0m\u001b[0m\n",
      "\u001b[1;31mValueError\u001b[0m: DataFrame.dtypes for data must be int, float or bool.\nDid not expect the data types in the following fields: Product_ID"
     ]
    }
   ],
   "source": [
    "model.fit(X,y)"
   ]
  },
  {
   "cell_type": "code",
   "execution_count": null,
   "metadata": {},
   "outputs": [],
   "source": [
    "y_test_pred_lgbm=model.predict(X_t)"
   ]
  },
  {
   "cell_type": "code",
   "execution_count": null,
   "metadata": {},
   "outputs": [],
   "source": [
    "from sklearn.metrics import mean_squared_error\n",
    "mean_squared_error=mean_squared_error(y_t,y_test_pred_lgbm)\n",
    "print(\"Final rmse value is =\",np.sqrt(mean_squared_error))"
   ]
  },
  {
   "cell_type": "code",
   "execution_count": null,
   "metadata": {},
   "outputs": [],
   "source": [
    "y_test_pred_l=model.predict(test)"
   ]
  },
  {
   "cell_type": "code",
   "execution_count": null,
   "metadata": {},
   "outputs": [],
   "source": [
    "finalpred=pd.concat([test_cpy['User_ID'],test_cpy['Product_ID'],pd.DataFrame(y_test_pred_l,columns=['Purchase'])],1)\n",
    "finalpred.to_csv(\"lgbm.csv\",index=False)"
   ]
  },
  {
   "cell_type": "code",
   "execution_count": null,
   "metadata": {},
   "outputs": [],
   "source": []
  },
  {
   "cell_type": "markdown",
   "metadata": {},
   "source": [
    "### Catboost"
   ]
  },
  {
   "cell_type": "code",
   "execution_count": 322,
   "metadata": {},
   "outputs": [],
   "source": [
    "import catboost as cb"
   ]
  },
  {
   "cell_type": "code",
   "execution_count": 323,
   "metadata": {},
   "outputs": [],
   "source": [
    "model=cb.CatBoostRegressor()"
   ]
  },
  {
   "cell_type": "code",
   "execution_count": 324,
   "metadata": {},
   "outputs": [],
   "source": [
    "grid = {'learning_rate': [0.1],\n",
    "        'depth': [10],\n",
    "        'l2_leaf_reg': [15]}\n",
    "\n",
    "model = GridSearchCV(model,\n",
    "                        grid,\n",
    "                        cv = 3,\n",
    "                        n_jobs = 5,\n",
    "                        verbose=True)"
   ]
  },
  {
   "cell_type": "code",
   "execution_count": 325,
   "metadata": {},
   "outputs": [
    {
     "name": "stdout",
     "output_type": "stream",
     "text": [
      "Fitting 3 folds for each of 1 candidates, totalling 3 fits\n"
     ]
    },
    {
     "name": "stderr",
     "output_type": "stream",
     "text": [
      "[Parallel(n_jobs=5)]: Using backend LokyBackend with 5 concurrent workers.\n",
      "[Parallel(n_jobs=5)]: Done   3 out of   3 | elapsed: 24.2min finished\n"
     ]
    },
    {
     "name": "stdout",
     "output_type": "stream",
     "text": [
      "0:\tlearn: 4590.5242303\ttotal: 717ms\tremaining: 11m 55s\n",
      "1:\tlearn: 4286.7583727\ttotal: 1.23s\tremaining: 10m 13s\n",
      "2:\tlearn: 4022.2523141\ttotal: 1.73s\tremaining: 9m 33s\n",
      "3:\tlearn: 3791.2315266\ttotal: 2.2s\tremaining: 9m 8s\n",
      "4:\tlearn: 3593.2550505\ttotal: 2.61s\tremaining: 8m 39s\n",
      "5:\tlearn: 3421.1867933\ttotal: 3.02s\tremaining: 8m 20s\n",
      "6:\tlearn: 3275.1962150\ttotal: 3.45s\tremaining: 8m 9s\n",
      "7:\tlearn: 3149.3479598\ttotal: 3.86s\tremaining: 7m 58s\n",
      "8:\tlearn: 3043.9582559\ttotal: 4.88s\tremaining: 8m 57s\n",
      "9:\tlearn: 2954.4201329\ttotal: 6.02s\tremaining: 9m 56s\n",
      "10:\tlearn: 2880.2943576\ttotal: 6.7s\tremaining: 10m 2s\n",
      "11:\tlearn: 2816.8295060\ttotal: 7.11s\tremaining: 9m 45s\n",
      "12:\tlearn: 2763.5420810\ttotal: 7.51s\tremaining: 9m 30s\n",
      "13:\tlearn: 2719.6914944\ttotal: 7.95s\tremaining: 9m 19s\n",
      "14:\tlearn: 2682.3965049\ttotal: 8.36s\tremaining: 9m 8s\n",
      "15:\tlearn: 2651.6734586\ttotal: 8.77s\tremaining: 8m 59s\n",
      "16:\tlearn: 2625.2561489\ttotal: 9.2s\tremaining: 8m 51s\n",
      "17:\tlearn: 2603.4108634\ttotal: 9.61s\tremaining: 8m 44s\n",
      "18:\tlearn: 2585.0717044\ttotal: 10.2s\tremaining: 8m 45s\n",
      "19:\tlearn: 2569.7824713\ttotal: 11.3s\tremaining: 9m 15s\n",
      "20:\tlearn: 2556.7708404\ttotal: 12.4s\tremaining: 9m 40s\n",
      "21:\tlearn: 2545.6636495\ttotal: 12.9s\tremaining: 9m 33s\n",
      "22:\tlearn: 2536.5930562\ttotal: 13.4s\tremaining: 9m 28s\n",
      "23:\tlearn: 2528.3341156\ttotal: 13.9s\tremaining: 9m 24s\n",
      "24:\tlearn: 2521.5638475\ttotal: 14.4s\tremaining: 9m 20s\n",
      "25:\tlearn: 2515.4716111\ttotal: 14.9s\tremaining: 9m 16s\n",
      "26:\tlearn: 2510.4377526\ttotal: 15.4s\tremaining: 9m 13s\n",
      "27:\tlearn: 2506.2303486\ttotal: 15.8s\tremaining: 9m 7s\n",
      "28:\tlearn: 2502.4322804\ttotal: 16.8s\tremaining: 9m 20s\n",
      "29:\tlearn: 2499.6209689\ttotal: 18s\tremaining: 9m 42s\n",
      "30:\tlearn: 2496.4446799\ttotal: 18.7s\tremaining: 9m 45s\n",
      "31:\tlearn: 2493.8032473\ttotal: 19.2s\tremaining: 9m 40s\n",
      "32:\tlearn: 2491.8227053\ttotal: 19.6s\tremaining: 9m 34s\n",
      "33:\tlearn: 2489.5292319\ttotal: 20s\tremaining: 9m 28s\n",
      "34:\tlearn: 2487.6415454\ttotal: 20.4s\tremaining: 9m 23s\n",
      "35:\tlearn: 2485.5188010\ttotal: 20.9s\tremaining: 9m 18s\n",
      "36:\tlearn: 2483.8655055\ttotal: 21.3s\tremaining: 9m 13s\n",
      "37:\tlearn: 2482.4191015\ttotal: 21.7s\tremaining: 9m 10s\n",
      "38:\tlearn: 2480.5015182\ttotal: 22.6s\tremaining: 9m 17s\n",
      "39:\tlearn: 2478.9749787\ttotal: 23.8s\tremaining: 9m 30s\n",
      "40:\tlearn: 2477.5125473\ttotal: 24.6s\tremaining: 9m 34s\n",
      "41:\tlearn: 2476.5087854\ttotal: 25s\tremaining: 9m 29s\n",
      "42:\tlearn: 2475.1613622\ttotal: 25.4s\tremaining: 9m 25s\n",
      "43:\tlearn: 2474.0219556\ttotal: 25.9s\tremaining: 9m 21s\n",
      "44:\tlearn: 2472.9864935\ttotal: 26.3s\tremaining: 9m 17s\n",
      "45:\tlearn: 2472.0783747\ttotal: 26.7s\tremaining: 9m 13s\n",
      "46:\tlearn: 2470.4978955\ttotal: 27.1s\tremaining: 9m 9s\n",
      "47:\tlearn: 2469.2260379\ttotal: 27.5s\tremaining: 9m 6s\n",
      "48:\tlearn: 2468.3421596\ttotal: 28.2s\tremaining: 9m 6s\n",
      "49:\tlearn: 2467.2998688\ttotal: 29.5s\tremaining: 9m 20s\n",
      "50:\tlearn: 2466.2339586\ttotal: 30.5s\tremaining: 9m 28s\n",
      "51:\tlearn: 2465.2625342\ttotal: 31.1s\tremaining: 9m 26s\n",
      "52:\tlearn: 2463.8716132\ttotal: 31.6s\tremaining: 9m 24s\n",
      "53:\tlearn: 2462.7414672\ttotal: 32.1s\tremaining: 9m 22s\n",
      "54:\tlearn: 2461.4393509\ttotal: 32.5s\tremaining: 9m 18s\n",
      "55:\tlearn: 2460.6223651\ttotal: 33s\tremaining: 9m 15s\n",
      "56:\tlearn: 2459.2959932\ttotal: 33.4s\tremaining: 9m 12s\n",
      "57:\tlearn: 2458.1460310\ttotal: 33.9s\tremaining: 9m 10s\n",
      "58:\tlearn: 2456.8150129\ttotal: 35.3s\tremaining: 9m 23s\n",
      "59:\tlearn: 2455.8457957\ttotal: 36.4s\tremaining: 9m 30s\n",
      "60:\tlearn: 2455.1439318\ttotal: 36.9s\tremaining: 9m 27s\n",
      "61:\tlearn: 2454.5743391\ttotal: 37.3s\tremaining: 9m 23s\n",
      "62:\tlearn: 2453.7211959\ttotal: 37.7s\tremaining: 9m 20s\n",
      "63:\tlearn: 2453.1338011\ttotal: 38.1s\tremaining: 9m 17s\n",
      "64:\tlearn: 2452.3234780\ttotal: 38.5s\tremaining: 9m 14s\n",
      "65:\tlearn: 2451.5920278\ttotal: 39s\tremaining: 9m 11s\n",
      "66:\tlearn: 2450.4813093\ttotal: 39.4s\tremaining: 9m 8s\n",
      "67:\tlearn: 2449.8383150\ttotal: 40s\tremaining: 9m 7s\n",
      "68:\tlearn: 2449.1288704\ttotal: 41.1s\tremaining: 9m 14s\n",
      "69:\tlearn: 2448.6462098\ttotal: 42.2s\tremaining: 9m 21s\n",
      "70:\tlearn: 2447.8150718\ttotal: 42.7s\tremaining: 9m 18s\n",
      "71:\tlearn: 2446.6785417\ttotal: 43.1s\tremaining: 9m 15s\n",
      "72:\tlearn: 2445.6485262\ttotal: 43.5s\tremaining: 9m 12s\n",
      "73:\tlearn: 2444.7341472\ttotal: 44s\tremaining: 9m 10s\n",
      "74:\tlearn: 2444.0662803\ttotal: 44.4s\tremaining: 9m 7s\n",
      "75:\tlearn: 2443.2706458\ttotal: 44.8s\tremaining: 9m 4s\n",
      "76:\tlearn: 2442.6371231\ttotal: 45.4s\tremaining: 9m 3s\n",
      "77:\tlearn: 2441.5192403\ttotal: 46s\tremaining: 9m 3s\n",
      "78:\tlearn: 2440.8461521\ttotal: 47.4s\tremaining: 9m 12s\n",
      "79:\tlearn: 2440.2465657\ttotal: 48.5s\tremaining: 9m 17s\n",
      "80:\tlearn: 2439.7182053\ttotal: 48.9s\tremaining: 9m 15s\n",
      "81:\tlearn: 2439.1578151\ttotal: 49.3s\tremaining: 9m 12s\n",
      "82:\tlearn: 2437.9527840\ttotal: 49.8s\tremaining: 9m 9s\n",
      "83:\tlearn: 2437.4741168\ttotal: 50.2s\tremaining: 9m 7s\n",
      "84:\tlearn: 2436.6931881\ttotal: 50.6s\tremaining: 9m 4s\n",
      "85:\tlearn: 2436.0289900\ttotal: 51.1s\tremaining: 9m 3s\n",
      "86:\tlearn: 2435.1908123\ttotal: 51.6s\tremaining: 9m 1s\n",
      "87:\tlearn: 2434.6117618\ttotal: 52.7s\tremaining: 9m 5s\n",
      "88:\tlearn: 2434.0937733\ttotal: 53.8s\tremaining: 9m 10s\n",
      "89:\tlearn: 2433.1022450\ttotal: 54.5s\tremaining: 9m 10s\n",
      "90:\tlearn: 2431.9662927\ttotal: 54.9s\tremaining: 9m 8s\n",
      "91:\tlearn: 2431.4331552\ttotal: 55.3s\tremaining: 9m 6s\n",
      "92:\tlearn: 2430.6060827\ttotal: 55.8s\tremaining: 9m 3s\n",
      "93:\tlearn: 2429.9801909\ttotal: 56.2s\tremaining: 9m 1s\n",
      "94:\tlearn: 2429.6022926\ttotal: 56.6s\tremaining: 8m 59s\n",
      "95:\tlearn: 2429.1115915\ttotal: 57.1s\tremaining: 8m 57s\n",
      "96:\tlearn: 2428.7944127\ttotal: 57.5s\tremaining: 8m 55s\n",
      "97:\tlearn: 2428.3076833\ttotal: 58.3s\tremaining: 8m 57s\n",
      "98:\tlearn: 2427.8677550\ttotal: 59.5s\tremaining: 9m 1s\n",
      "99:\tlearn: 2426.8681416\ttotal: 1m\tremaining: 9m 3s\n",
      "100:\tlearn: 2426.3232398\ttotal: 1m\tremaining: 9m\n",
      "101:\tlearn: 2425.9579443\ttotal: 1m 1s\tremaining: 8m 59s\n",
      "102:\tlearn: 2425.5473448\ttotal: 1m 1s\tremaining: 8m 58s\n",
      "103:\tlearn: 2424.9522606\ttotal: 1m 2s\tremaining: 8m 57s\n",
      "104:\tlearn: 2424.5117247\ttotal: 1m 2s\tremaining: 8m 55s\n",
      "105:\tlearn: 2423.8242376\ttotal: 1m 3s\tremaining: 8m 53s\n",
      "106:\tlearn: 2422.8584034\ttotal: 1m 3s\tremaining: 8m 51s\n",
      "107:\tlearn: 2422.3094731\ttotal: 1m 4s\tremaining: 8m 50s\n",
      "108:\tlearn: 2421.7273102\ttotal: 1m 5s\tremaining: 8m 55s\n",
      "109:\tlearn: 2421.1814049\ttotal: 1m 6s\tremaining: 8m 59s\n",
      "110:\tlearn: 2420.5205883\ttotal: 1m 7s\tremaining: 8m 57s\n",
      "111:\tlearn: 2419.6641993\ttotal: 1m 7s\tremaining: 8m 55s\n",
      "112:\tlearn: 2419.3010375\ttotal: 1m 7s\tremaining: 8m 53s\n",
      "113:\tlearn: 2419.0319799\ttotal: 1m 8s\tremaining: 8m 51s\n",
      "114:\tlearn: 2418.3741395\ttotal: 1m 8s\tremaining: 8m 49s\n",
      "115:\tlearn: 2417.8727597\ttotal: 1m 9s\tremaining: 8m 47s\n",
      "116:\tlearn: 2417.6789059\ttotal: 1m 9s\tremaining: 8m 45s\n",
      "117:\tlearn: 2417.1228112\ttotal: 1m 10s\tremaining: 8m 43s\n",
      "118:\tlearn: 2416.0994396\ttotal: 1m 11s\tremaining: 8m 46s\n",
      "119:\tlearn: 2415.2764972\ttotal: 1m 12s\tremaining: 8m 50s\n",
      "120:\tlearn: 2414.8178324\ttotal: 1m 12s\tremaining: 8m 49s\n",
      "121:\tlearn: 2414.3197689\ttotal: 1m 13s\tremaining: 8m 47s\n",
      "122:\tlearn: 2413.8970748\ttotal: 1m 13s\tremaining: 8m 45s\n",
      "123:\tlearn: 2413.4815687\ttotal: 1m 14s\tremaining: 8m 43s\n",
      "124:\tlearn: 2413.1396250\ttotal: 1m 14s\tremaining: 8m 41s\n",
      "125:\tlearn: 2412.4546184\ttotal: 1m 14s\tremaining: 8m 39s\n",
      "126:\tlearn: 2411.8535617\ttotal: 1m 15s\tremaining: 8m 37s\n",
      "127:\tlearn: 2411.2427608\ttotal: 1m 15s\tremaining: 8m 36s\n",
      "128:\tlearn: 2410.5125125\ttotal: 1m 16s\tremaining: 8m 36s\n",
      "129:\tlearn: 2409.6755427\ttotal: 1m 17s\tremaining: 8m 40s\n",
      "130:\tlearn: 2408.7549784\ttotal: 1m 18s\tremaining: 8m 42s\n",
      "131:\tlearn: 2408.2246812\ttotal: 1m 19s\tremaining: 8m 41s\n",
      "132:\tlearn: 2407.5323741\ttotal: 1m 19s\tremaining: 8m 40s\n",
      "133:\tlearn: 2407.0122333\ttotal: 1m 20s\tremaining: 8m 39s\n",
      "134:\tlearn: 2406.5617231\ttotal: 1m 20s\tremaining: 8m 37s\n",
      "135:\tlearn: 2406.0974536\ttotal: 1m 21s\tremaining: 8m 35s\n",
      "136:\tlearn: 2405.7904358\ttotal: 1m 21s\tremaining: 8m 33s\n",
      "137:\tlearn: 2405.5077714\ttotal: 1m 21s\tremaining: 8m 31s\n",
      "138:\tlearn: 2405.2186041\ttotal: 1m 23s\tremaining: 8m 34s\n",
      "139:\tlearn: 2404.5954545\ttotal: 1m 24s\tremaining: 8m 38s\n",
      "140:\tlearn: 2404.2771601\ttotal: 1m 24s\tremaining: 8m 37s\n",
      "141:\tlearn: 2403.7425904\ttotal: 1m 25s\tremaining: 8m 35s\n",
      "142:\tlearn: 2403.0262886\ttotal: 1m 25s\tremaining: 8m 33s\n",
      "143:\tlearn: 2402.7448915\ttotal: 1m 26s\tremaining: 8m 32s\n",
      "144:\tlearn: 2402.1241859\ttotal: 1m 26s\tremaining: 8m 30s\n",
      "145:\tlearn: 2401.2931774\ttotal: 1m 26s\tremaining: 8m 28s\n",
      "146:\tlearn: 2400.9347489\ttotal: 1m 27s\tremaining: 8m 27s\n",
      "147:\tlearn: 2400.4382172\ttotal: 1m 27s\tremaining: 8m 25s\n",
      "148:\tlearn: 2400.0975949\ttotal: 1m 28s\tremaining: 8m 25s\n"
     ]
    },
    {
     "name": "stdout",
     "output_type": "stream",
     "text": [
      "149:\tlearn: 2399.7838174\ttotal: 1m 29s\tremaining: 8m 28s\n",
      "150:\tlearn: 2399.2972099\ttotal: 1m 30s\tremaining: 8m 29s\n",
      "151:\tlearn: 2398.6171954\ttotal: 1m 31s\tremaining: 8m 27s\n",
      "152:\tlearn: 2398.0947048\ttotal: 1m 31s\tremaining: 8m 26s\n",
      "153:\tlearn: 2397.3166164\ttotal: 1m 31s\tremaining: 8m 24s\n",
      "154:\tlearn: 2396.9827018\ttotal: 1m 32s\tremaining: 8m 22s\n",
      "155:\tlearn: 2396.5905418\ttotal: 1m 32s\tremaining: 8m 21s\n",
      "156:\tlearn: 2395.8497584\ttotal: 1m 33s\tremaining: 8m 20s\n",
      "157:\tlearn: 2395.5867682\ttotal: 1m 33s\tremaining: 8m 18s\n",
      "158:\tlearn: 2395.0355321\ttotal: 1m 34s\tremaining: 8m 18s\n",
      "159:\tlearn: 2394.4204229\ttotal: 1m 35s\tremaining: 8m 21s\n",
      "160:\tlearn: 2394.0044214\ttotal: 1m 36s\tremaining: 8m 23s\n",
      "161:\tlearn: 2393.4779345\ttotal: 1m 37s\tremaining: 8m 22s\n",
      "162:\tlearn: 2393.0412110\ttotal: 1m 37s\tremaining: 8m 21s\n",
      "163:\tlearn: 2392.4096724\ttotal: 1m 38s\tremaining: 8m 19s\n",
      "164:\tlearn: 2391.9983170\ttotal: 1m 38s\tremaining: 8m 18s\n",
      "165:\tlearn: 2391.7577461\ttotal: 1m 38s\tremaining: 8m 17s\n",
      "166:\tlearn: 2391.4789895\ttotal: 1m 39s\tremaining: 8m 15s\n",
      "167:\tlearn: 2390.6487629\ttotal: 1m 39s\tremaining: 8m 15s\n",
      "168:\tlearn: 2390.1610699\ttotal: 1m 41s\tremaining: 8m 17s\n",
      "169:\tlearn: 2389.2288403\ttotal: 1m 42s\tremaining: 8m 19s\n",
      "170:\tlearn: 2388.9059866\ttotal: 1m 42s\tremaining: 8m 18s\n",
      "171:\tlearn: 2388.4365224\ttotal: 1m 43s\tremaining: 8m 16s\n",
      "172:\tlearn: 2388.0733795\ttotal: 1m 43s\tremaining: 8m 15s\n",
      "173:\tlearn: 2387.8086307\ttotal: 1m 43s\tremaining: 8m 13s\n",
      "174:\tlearn: 2387.1398341\ttotal: 1m 44s\tremaining: 8m 12s\n",
      "175:\tlearn: 2386.6571796\ttotal: 1m 44s\tremaining: 8m 10s\n",
      "176:\tlearn: 2386.4046656\ttotal: 1m 45s\tremaining: 8m 9s\n",
      "177:\tlearn: 2386.1038381\ttotal: 1m 46s\tremaining: 8m 9s\n",
      "178:\tlearn: 2385.7960469\ttotal: 1m 47s\tremaining: 8m 11s\n",
      "179:\tlearn: 2385.4759646\ttotal: 1m 48s\tremaining: 8m 12s\n",
      "180:\tlearn: 2385.2520152\ttotal: 1m 48s\tremaining: 8m 10s\n",
      "181:\tlearn: 2384.4897334\ttotal: 1m 48s\tremaining: 8m 9s\n",
      "182:\tlearn: 2383.9005670\ttotal: 1m 49s\tremaining: 8m 8s\n",
      "183:\tlearn: 2383.4293577\ttotal: 1m 50s\tremaining: 8m 7s\n",
      "184:\tlearn: 2382.9460319\ttotal: 1m 50s\tremaining: 8m 6s\n",
      "185:\tlearn: 2382.3116792\ttotal: 1m 50s\tremaining: 8m 5s\n",
      "186:\tlearn: 2381.9855168\ttotal: 1m 51s\tremaining: 8m 4s\n",
      "187:\tlearn: 2381.5484755\ttotal: 1m 51s\tremaining: 8m 2s\n",
      "188:\tlearn: 2380.9887892\ttotal: 1m 52s\tremaining: 8m 3s\n",
      "189:\tlearn: 2380.7086524\ttotal: 1m 54s\tremaining: 8m 6s\n",
      "190:\tlearn: 2380.1841069\ttotal: 1m 54s\tremaining: 8m 5s\n",
      "191:\tlearn: 2379.7160796\ttotal: 1m 55s\tremaining: 8m 4s\n",
      "192:\tlearn: 2379.3205580\ttotal: 1m 55s\tremaining: 8m 3s\n",
      "193:\tlearn: 2379.0711708\ttotal: 1m 55s\tremaining: 8m 1s\n",
      "194:\tlearn: 2378.8290240\ttotal: 1m 56s\tremaining: 8m\n",
      "195:\tlearn: 2378.4697448\ttotal: 1m 56s\tremaining: 7m 59s\n",
      "196:\tlearn: 2378.1586205\ttotal: 1m 57s\tremaining: 7m 57s\n",
      "197:\tlearn: 2377.4935651\ttotal: 1m 57s\tremaining: 7m 56s\n",
      "198:\tlearn: 2377.3175606\ttotal: 1m 58s\tremaining: 7m 56s\n",
      "199:\tlearn: 2376.7295730\ttotal: 1m 59s\tremaining: 7m 58s\n",
      "200:\tlearn: 2376.2905169\ttotal: 2m\tremaining: 7m 59s\n",
      "201:\tlearn: 2375.8377118\ttotal: 2m 1s\tremaining: 7m 58s\n",
      "202:\tlearn: 2375.3142413\ttotal: 2m 1s\tremaining: 7m 57s\n",
      "203:\tlearn: 2374.7350469\ttotal: 2m 2s\tremaining: 7m 56s\n",
      "204:\tlearn: 2374.4740271\ttotal: 2m 2s\tremaining: 7m 54s\n",
      "205:\tlearn: 2374.0745949\ttotal: 2m 2s\tremaining: 7m 53s\n",
      "206:\tlearn: 2373.2902265\ttotal: 2m 3s\tremaining: 7m 52s\n",
      "207:\tlearn: 2372.9751211\ttotal: 2m 3s\tremaining: 7m 50s\n",
      "208:\tlearn: 2372.2681722\ttotal: 2m 4s\tremaining: 7m 49s\n",
      "209:\tlearn: 2371.5808267\ttotal: 2m 4s\tremaining: 7m 49s\n",
      "210:\tlearn: 2371.0331901\ttotal: 2m 6s\tremaining: 7m 52s\n",
      "211:\tlearn: 2370.8165209\ttotal: 2m 7s\tremaining: 7m 53s\n",
      "212:\tlearn: 2370.4509205\ttotal: 2m 7s\tremaining: 7m 52s\n",
      "213:\tlearn: 2370.2063208\ttotal: 2m 8s\tremaining: 7m 51s\n",
      "214:\tlearn: 2369.8519325\ttotal: 2m 8s\tremaining: 7m 50s\n",
      "215:\tlearn: 2369.3564786\ttotal: 2m 9s\tremaining: 7m 49s\n",
      "216:\tlearn: 2369.0273659\ttotal: 2m 9s\tremaining: 7m 47s\n",
      "217:\tlearn: 2368.4996452\ttotal: 2m 10s\tremaining: 7m 46s\n",
      "218:\tlearn: 2368.2566071\ttotal: 2m 10s\tremaining: 7m 46s\n",
      "219:\tlearn: 2367.7503740\ttotal: 2m 12s\tremaining: 7m 49s\n",
      "220:\tlearn: 2367.3637749\ttotal: 2m 13s\tremaining: 7m 50s\n",
      "221:\tlearn: 2366.8707443\ttotal: 2m 13s\tremaining: 7m 48s\n",
      "222:\tlearn: 2366.5168298\ttotal: 2m 14s\tremaining: 7m 47s\n",
      "223:\tlearn: 2366.3464829\ttotal: 2m 14s\tremaining: 7m 46s\n",
      "224:\tlearn: 2366.0190346\ttotal: 2m 15s\tremaining: 7m 45s\n",
      "225:\tlearn: 2365.7409166\ttotal: 2m 15s\tremaining: 7m 43s\n",
      "226:\tlearn: 2365.1729311\ttotal: 2m 16s\tremaining: 7m 43s\n",
      "227:\tlearn: 2364.8656030\ttotal: 2m 16s\tremaining: 7m 43s\n",
      "228:\tlearn: 2364.5422943\ttotal: 2m 18s\tremaining: 7m 44s\n",
      "229:\tlearn: 2364.1361185\ttotal: 2m 19s\tremaining: 7m 46s\n",
      "230:\tlearn: 2363.6623234\ttotal: 2m 19s\tremaining: 7m 44s\n",
      "231:\tlearn: 2363.2551759\ttotal: 2m 20s\tremaining: 7m 43s\n",
      "232:\tlearn: 2362.6662659\ttotal: 2m 20s\tremaining: 7m 42s\n",
      "233:\tlearn: 2362.0033962\ttotal: 2m 21s\tremaining: 7m 41s\n",
      "234:\tlearn: 2361.6194112\ttotal: 2m 21s\tremaining: 7m 40s\n",
      "235:\tlearn: 2360.7575610\ttotal: 2m 22s\tremaining: 7m 39s\n",
      "236:\tlearn: 2360.2098462\ttotal: 2m 22s\tremaining: 7m 38s\n",
      "237:\tlearn: 2359.9490783\ttotal: 2m 23s\tremaining: 7m 39s\n",
      "238:\tlearn: 2359.5970355\ttotal: 2m 24s\tremaining: 7m 40s\n",
      "239:\tlearn: 2359.1187185\ttotal: 2m 25s\tremaining: 7m 41s\n",
      "240:\tlearn: 2358.8306136\ttotal: 2m 26s\tremaining: 7m 40s\n",
      "241:\tlearn: 2358.6043071\ttotal: 2m 26s\tremaining: 7m 39s\n",
      "242:\tlearn: 2358.3569314\ttotal: 2m 27s\tremaining: 7m 38s\n",
      "243:\tlearn: 2357.9728829\ttotal: 2m 27s\tremaining: 7m 37s\n",
      "244:\tlearn: 2357.7211847\ttotal: 2m 27s\tremaining: 7m 35s\n",
      "245:\tlearn: 2357.1306146\ttotal: 2m 28s\tremaining: 7m 34s\n",
      "246:\tlearn: 2356.8391800\ttotal: 2m 28s\tremaining: 7m 33s\n",
      "247:\tlearn: 2356.5474180\ttotal: 2m 29s\tremaining: 7m 32s\n",
      "248:\tlearn: 2356.1127919\ttotal: 2m 29s\tremaining: 7m 31s\n",
      "249:\tlearn: 2355.8579257\ttotal: 2m 30s\tremaining: 7m 32s\n",
      "250:\tlearn: 2355.2796561\ttotal: 2m 31s\tremaining: 7m 33s\n",
      "251:\tlearn: 2354.7137629\ttotal: 2m 32s\tremaining: 7m 32s\n",
      "252:\tlearn: 2354.3678291\ttotal: 2m 32s\tremaining: 7m 31s\n",
      "253:\tlearn: 2353.7861944\ttotal: 2m 33s\tremaining: 7m 30s\n",
      "254:\tlearn: 2353.3525510\ttotal: 2m 33s\tremaining: 7m 29s\n",
      "255:\tlearn: 2352.8726959\ttotal: 2m 34s\tremaining: 7m 27s\n",
      "256:\tlearn: 2352.6315863\ttotal: 2m 34s\tremaining: 7m 26s\n",
      "257:\tlearn: 2351.8010378\ttotal: 2m 34s\tremaining: 7m 25s\n",
      "258:\tlearn: 2351.4317469\ttotal: 2m 35s\tremaining: 7m 25s\n",
      "259:\tlearn: 2351.1190324\ttotal: 2m 37s\tremaining: 7m 27s\n",
      "260:\tlearn: 2350.7112765\ttotal: 2m 38s\tremaining: 7m 27s\n",
      "261:\tlearn: 2350.4702972\ttotal: 2m 38s\tremaining: 7m 26s\n",
      "262:\tlearn: 2350.0602603\ttotal: 2m 39s\tremaining: 7m 25s\n",
      "263:\tlearn: 2349.7030312\ttotal: 2m 39s\tremaining: 7m 25s\n",
      "264:\tlearn: 2349.2915221\ttotal: 2m 40s\tremaining: 7m 24s\n",
      "265:\tlearn: 2348.9776082\ttotal: 2m 40s\tremaining: 7m 23s\n",
      "266:\tlearn: 2348.7486451\ttotal: 2m 40s\tremaining: 7m 21s\n",
      "267:\tlearn: 2348.4973276\ttotal: 2m 41s\tremaining: 7m 20s\n",
      "268:\tlearn: 2348.3421394\ttotal: 2m 42s\tremaining: 7m 20s\n",
      "269:\tlearn: 2347.8357535\ttotal: 2m 43s\tremaining: 7m 22s\n",
      "270:\tlearn: 2347.5507227\ttotal: 2m 44s\tremaining: 7m 22s\n",
      "271:\tlearn: 2347.1835877\ttotal: 2m 44s\tremaining: 7m 20s\n",
      "272:\tlearn: 2346.8980266\ttotal: 2m 45s\tremaining: 7m 19s\n",
      "273:\tlearn: 2346.5715005\ttotal: 2m 45s\tremaining: 7m 18s\n",
      "274:\tlearn: 2346.0705103\ttotal: 2m 46s\tremaining: 7m 17s\n",
      "275:\tlearn: 2345.8178764\ttotal: 2m 46s\tremaining: 7m 16s\n",
      "276:\tlearn: 2345.4748256\ttotal: 2m 46s\tremaining: 7m 15s\n",
      "277:\tlearn: 2345.3321590\ttotal: 2m 47s\tremaining: 7m 14s\n",
      "278:\tlearn: 2344.9442224\ttotal: 2m 47s\tremaining: 7m 13s\n",
      "279:\tlearn: 2344.5537037\ttotal: 2m 49s\tremaining: 7m 14s\n",
      "280:\tlearn: 2344.2703085\ttotal: 2m 50s\tremaining: 7m 15s\n",
      "281:\tlearn: 2343.6597423\ttotal: 2m 50s\tremaining: 7m 14s\n",
      "282:\tlearn: 2342.8171048\ttotal: 2m 50s\tremaining: 7m 13s\n",
      "283:\tlearn: 2342.5313998\ttotal: 2m 51s\tremaining: 7m 11s\n",
      "284:\tlearn: 2341.8662334\ttotal: 2m 51s\tremaining: 7m 10s\n",
      "285:\tlearn: 2341.6559944\ttotal: 2m 52s\tremaining: 7m 9s\n",
      "286:\tlearn: 2341.2418726\ttotal: 2m 52s\tremaining: 7m 8s\n",
      "287:\tlearn: 2340.8982381\ttotal: 2m 53s\tremaining: 7m 8s\n",
      "288:\tlearn: 2340.6806125\ttotal: 2m 54s\tremaining: 7m 8s\n",
      "289:\tlearn: 2340.2749880\ttotal: 2m 55s\tremaining: 7m 9s\n",
      "290:\tlearn: 2339.9542855\ttotal: 2m 56s\tremaining: 7m 10s\n",
      "291:\tlearn: 2339.7153919\ttotal: 2m 57s\tremaining: 7m 9s\n",
      "292:\tlearn: 2339.3925335\ttotal: 2m 57s\tremaining: 7m 8s\n",
      "293:\tlearn: 2338.8919629\ttotal: 2m 57s\tremaining: 7m 7s\n"
     ]
    },
    {
     "name": "stdout",
     "output_type": "stream",
     "text": [
      "294:\tlearn: 2338.5632137\ttotal: 2m 58s\tremaining: 7m 6s\n",
      "295:\tlearn: 2338.1312664\ttotal: 2m 58s\tremaining: 7m 5s\n",
      "296:\tlearn: 2337.8104898\ttotal: 2m 59s\tremaining: 7m 4s\n",
      "297:\tlearn: 2337.4964657\ttotal: 2m 59s\tremaining: 7m 3s\n",
      "298:\tlearn: 2337.3286704\ttotal: 3m\tremaining: 7m 2s\n",
      "299:\tlearn: 2336.7897058\ttotal: 3m 1s\tremaining: 7m 3s\n",
      "300:\tlearn: 2336.3756877\ttotal: 3m 2s\tremaining: 7m 3s\n",
      "301:\tlearn: 2335.9049718\ttotal: 3m 2s\tremaining: 7m 2s\n",
      "302:\tlearn: 2335.2827809\ttotal: 3m 3s\tremaining: 7m 1s\n",
      "303:\tlearn: 2335.1126842\ttotal: 3m 3s\tremaining: 7m\n",
      "304:\tlearn: 2334.9241388\ttotal: 3m 4s\tremaining: 6m 59s\n",
      "305:\tlearn: 2334.6749601\ttotal: 3m 4s\tremaining: 6m 58s\n",
      "306:\tlearn: 2334.4632347\ttotal: 3m 4s\tremaining: 6m 57s\n",
      "307:\tlearn: 2333.9389117\ttotal: 3m 5s\tremaining: 6m 56s\n",
      "308:\tlearn: 2333.4560722\ttotal: 3m 5s\tremaining: 6m 55s\n",
      "309:\tlearn: 2333.2391823\ttotal: 3m 6s\tremaining: 6m 55s\n",
      "310:\tlearn: 2332.8359032\ttotal: 3m 7s\tremaining: 6m 56s\n",
      "311:\tlearn: 2332.3110900\ttotal: 3m 8s\tremaining: 6m 56s\n",
      "312:\tlearn: 2331.9978293\ttotal: 3m 9s\tremaining: 6m 55s\n",
      "313:\tlearn: 2331.4365142\ttotal: 3m 9s\tremaining: 6m 54s\n",
      "314:\tlearn: 2331.0997571\ttotal: 3m 10s\tremaining: 6m 53s\n",
      "315:\tlearn: 2330.4933743\ttotal: 3m 10s\tremaining: 6m 52s\n",
      "316:\tlearn: 2330.0573824\ttotal: 3m 11s\tremaining: 6m 51s\n",
      "317:\tlearn: 2329.8198476\ttotal: 3m 11s\tremaining: 6m 50s\n",
      "318:\tlearn: 2329.6379195\ttotal: 3m 12s\tremaining: 6m 50s\n",
      "319:\tlearn: 2329.1982885\ttotal: 3m 13s\tremaining: 6m 50s\n",
      "320:\tlearn: 2328.8505718\ttotal: 3m 14s\tremaining: 6m 51s\n",
      "321:\tlearn: 2328.5374883\ttotal: 3m 14s\tremaining: 6m 50s\n",
      "322:\tlearn: 2328.0514704\ttotal: 3m 15s\tremaining: 6m 49s\n",
      "323:\tlearn: 2327.7569366\ttotal: 3m 15s\tremaining: 6m 48s\n",
      "324:\tlearn: 2327.6127335\ttotal: 3m 16s\tremaining: 6m 47s\n",
      "325:\tlearn: 2327.3825128\ttotal: 3m 16s\tremaining: 6m 46s\n",
      "326:\tlearn: 2326.9826471\ttotal: 3m 16s\tremaining: 6m 45s\n",
      "327:\tlearn: 2326.7193324\ttotal: 3m 17s\tremaining: 6m 44s\n",
      "328:\tlearn: 2326.4094246\ttotal: 3m 17s\tremaining: 6m 43s\n",
      "329:\tlearn: 2326.0440117\ttotal: 3m 18s\tremaining: 6m 42s\n",
      "330:\tlearn: 2325.4654768\ttotal: 3m 19s\tremaining: 6m 42s\n",
      "331:\tlearn: 2325.0384812\ttotal: 3m 20s\tremaining: 6m 43s\n",
      "332:\tlearn: 2324.6793817\ttotal: 3m 21s\tremaining: 6m 42s\n",
      "333:\tlearn: 2324.4706999\ttotal: 3m 21s\tremaining: 6m 41s\n",
      "334:\tlearn: 2324.0202276\ttotal: 3m 21s\tremaining: 6m 40s\n",
      "335:\tlearn: 2323.7982683\ttotal: 3m 22s\tremaining: 6m 39s\n",
      "336:\tlearn: 2323.6324294\ttotal: 3m 22s\tremaining: 6m 38s\n",
      "337:\tlearn: 2323.3669200\ttotal: 3m 23s\tremaining: 6m 37s\n",
      "338:\tlearn: 2322.9247935\ttotal: 3m 23s\tremaining: 6m 36s\n",
      "339:\tlearn: 2322.6701789\ttotal: 3m 23s\tremaining: 6m 35s\n",
      "340:\tlearn: 2322.3476646\ttotal: 3m 24s\tremaining: 6m 34s\n",
      "341:\tlearn: 2321.8925027\ttotal: 3m 25s\tremaining: 6m 35s\n",
      "342:\tlearn: 2321.5147754\ttotal: 3m 26s\tremaining: 6m 36s\n",
      "343:\tlearn: 2321.0463378\ttotal: 3m 27s\tremaining: 6m 35s\n",
      "344:\tlearn: 2320.7112158\ttotal: 3m 27s\tremaining: 6m 34s\n",
      "345:\tlearn: 2320.2706520\ttotal: 3m 28s\tremaining: 6m 33s\n",
      "346:\tlearn: 2319.8680293\ttotal: 3m 28s\tremaining: 6m 33s\n",
      "347:\tlearn: 2319.7073572\ttotal: 3m 29s\tremaining: 6m 32s\n",
      "348:\tlearn: 2319.1913911\ttotal: 3m 29s\tremaining: 6m 31s\n",
      "349:\tlearn: 2318.7451660\ttotal: 3m 30s\tremaining: 6m 30s\n",
      "350:\tlearn: 2318.2744648\ttotal: 3m 31s\tremaining: 6m 30s\n",
      "351:\tlearn: 2317.8496683\ttotal: 3m 32s\tremaining: 6m 30s\n",
      "352:\tlearn: 2317.5700815\ttotal: 3m 33s\tremaining: 6m 30s\n",
      "353:\tlearn: 2317.2405659\ttotal: 3m 33s\tremaining: 6m 29s\n",
      "354:\tlearn: 2316.8951461\ttotal: 3m 33s\tremaining: 6m 28s\n",
      "355:\tlearn: 2316.5502676\ttotal: 3m 34s\tremaining: 6m 27s\n",
      "356:\tlearn: 2316.2313163\ttotal: 3m 34s\tremaining: 6m 26s\n",
      "357:\tlearn: 2315.9957374\ttotal: 3m 35s\tremaining: 6m 25s\n",
      "358:\tlearn: 2315.6383151\ttotal: 3m 35s\tremaining: 6m 24s\n",
      "359:\tlearn: 2315.1974276\ttotal: 3m 35s\tremaining: 6m 23s\n",
      "360:\tlearn: 2314.8468929\ttotal: 3m 36s\tremaining: 6m 23s\n",
      "361:\tlearn: 2314.5200655\ttotal: 3m 37s\tremaining: 6m 23s\n",
      "362:\tlearn: 2314.0535650\ttotal: 3m 38s\tremaining: 6m 23s\n",
      "363:\tlearn: 2313.5699043\ttotal: 3m 39s\tremaining: 6m 22s\n",
      "364:\tlearn: 2313.3902620\ttotal: 3m 39s\tremaining: 6m 21s\n",
      "365:\tlearn: 2312.9684093\ttotal: 3m 40s\tremaining: 6m 21s\n",
      "366:\tlearn: 2312.5554311\ttotal: 3m 40s\tremaining: 6m 20s\n",
      "367:\tlearn: 2311.9681473\ttotal: 3m 40s\tremaining: 6m 19s\n",
      "368:\tlearn: 2311.6474972\ttotal: 3m 41s\tremaining: 6m 18s\n",
      "369:\tlearn: 2311.2054346\ttotal: 3m 41s\tremaining: 6m 17s\n",
      "370:\tlearn: 2311.0250903\ttotal: 3m 43s\tremaining: 6m 18s\n",
      "371:\tlearn: 2310.7917411\ttotal: 3m 44s\tremaining: 6m 18s\n",
      "372:\tlearn: 2310.5432887\ttotal: 3m 45s\tremaining: 6m 18s\n",
      "373:\tlearn: 2310.1576897\ttotal: 3m 45s\tremaining: 6m 17s\n",
      "374:\tlearn: 2309.6235761\ttotal: 3m 45s\tremaining: 6m 16s\n",
      "375:\tlearn: 2309.2831435\ttotal: 3m 46s\tremaining: 6m 15s\n",
      "376:\tlearn: 2308.8933194\ttotal: 3m 46s\tremaining: 6m 14s\n",
      "377:\tlearn: 2308.5277238\ttotal: 3m 47s\tremaining: 6m 13s\n",
      "378:\tlearn: 2308.3899414\ttotal: 3m 47s\tremaining: 6m 13s\n",
      "379:\tlearn: 2308.1729642\ttotal: 3m 48s\tremaining: 6m 12s\n",
      "380:\tlearn: 2308.0622499\ttotal: 3m 48s\tremaining: 6m 11s\n",
      "381:\tlearn: 2307.8594877\ttotal: 3m 49s\tremaining: 6m 10s\n",
      "382:\tlearn: 2307.6803368\ttotal: 3m 50s\tremaining: 6m 11s\n",
      "383:\tlearn: 2307.4341279\ttotal: 3m 51s\tremaining: 6m 11s\n",
      "384:\tlearn: 2307.2646484\ttotal: 3m 51s\tremaining: 6m 10s\n",
      "385:\tlearn: 2307.0091031\ttotal: 3m 52s\tremaining: 6m 9s\n",
      "386:\tlearn: 2306.4721645\ttotal: 3m 52s\tremaining: 6m 8s\n",
      "387:\tlearn: 2306.1572751\ttotal: 3m 53s\tremaining: 6m 7s\n",
      "388:\tlearn: 2305.8325014\ttotal: 3m 53s\tremaining: 6m 6s\n",
      "389:\tlearn: 2305.4171767\ttotal: 3m 53s\tremaining: 6m 5s\n",
      "390:\tlearn: 2305.2037895\ttotal: 3m 54s\tremaining: 6m 4s\n",
      "391:\tlearn: 2304.6454160\ttotal: 3m 54s\tremaining: 6m 3s\n",
      "392:\tlearn: 2304.3870010\ttotal: 3m 55s\tremaining: 6m 4s\n",
      "393:\tlearn: 2303.9359647\ttotal: 3m 57s\tremaining: 6m 4s\n",
      "394:\tlearn: 2303.6713890\ttotal: 3m 57s\tremaining: 6m 4s\n",
      "395:\tlearn: 2302.9841148\ttotal: 3m 58s\tremaining: 6m 3s\n",
      "396:\tlearn: 2302.6908686\ttotal: 3m 58s\tremaining: 6m 2s\n",
      "397:\tlearn: 2302.3745967\ttotal: 3m 59s\tremaining: 6m 1s\n",
      "398:\tlearn: 2302.1641906\ttotal: 3m 59s\tremaining: 6m 1s\n",
      "399:\tlearn: 2301.7459524\ttotal: 4m\tremaining: 6m\n",
      "400:\tlearn: 2301.6064309\ttotal: 4m\tremaining: 5m 59s\n",
      "401:\tlearn: 2301.1504067\ttotal: 4m 2s\tremaining: 6m\n",
      "402:\tlearn: 2301.0243546\ttotal: 4m 3s\tremaining: 6m\n",
      "403:\tlearn: 2300.6311314\ttotal: 4m 3s\tremaining: 5m 59s\n",
      "404:\tlearn: 2300.2063892\ttotal: 4m 4s\tremaining: 5m 58s\n",
      "405:\tlearn: 2299.6831695\ttotal: 4m 4s\tremaining: 5m 57s\n",
      "406:\tlearn: 2299.3153023\ttotal: 4m 4s\tremaining: 5m 56s\n",
      "407:\tlearn: 2299.1213467\ttotal: 4m 5s\tremaining: 5m 56s\n",
      "408:\tlearn: 2298.9888358\ttotal: 4m 5s\tremaining: 5m 55s\n",
      "409:\tlearn: 2298.6220677\ttotal: 4m 6s\tremaining: 5m 54s\n",
      "410:\tlearn: 2298.2080915\ttotal: 4m 6s\tremaining: 5m 53s\n",
      "411:\tlearn: 2297.7142362\ttotal: 4m 7s\tremaining: 5m 52s\n",
      "412:\tlearn: 2297.2384453\ttotal: 4m 8s\tremaining: 5m 52s\n",
      "413:\tlearn: 2297.0840063\ttotal: 4m 9s\tremaining: 5m 53s\n",
      "414:\tlearn: 2296.8075390\ttotal: 4m 9s\tremaining: 5m 52s\n",
      "415:\tlearn: 2296.6884106\ttotal: 4m 10s\tremaining: 5m 51s\n",
      "416:\tlearn: 2296.2558148\ttotal: 4m 10s\tremaining: 5m 50s\n",
      "417:\tlearn: 2295.7634893\ttotal: 4m 11s\tremaining: 5m 49s\n",
      "418:\tlearn: 2295.4593425\ttotal: 4m 11s\tremaining: 5m 48s\n",
      "419:\tlearn: 2295.3571651\ttotal: 4m 11s\tremaining: 5m 47s\n",
      "420:\tlearn: 2295.1727655\ttotal: 4m 12s\tremaining: 5m 47s\n",
      "421:\tlearn: 2294.8226757\ttotal: 4m 12s\tremaining: 5m 46s\n",
      "422:\tlearn: 2294.6715806\ttotal: 4m 14s\tremaining: 5m 46s\n",
      "423:\tlearn: 2294.1949398\ttotal: 4m 15s\tremaining: 5m 47s\n",
      "424:\tlearn: 2293.9814785\ttotal: 4m 15s\tremaining: 5m 46s\n",
      "425:\tlearn: 2293.6101450\ttotal: 4m 16s\tremaining: 5m 45s\n",
      "426:\tlearn: 2293.2727953\ttotal: 4m 16s\tremaining: 5m 44s\n",
      "427:\tlearn: 2293.1282876\ttotal: 4m 17s\tremaining: 5m 43s\n",
      "428:\tlearn: 2292.5816248\ttotal: 4m 17s\tremaining: 5m 42s\n",
      "429:\tlearn: 2292.4076692\ttotal: 4m 18s\tremaining: 5m 42s\n",
      "430:\tlearn: 2292.1944449\ttotal: 4m 18s\tremaining: 5m 41s\n",
      "431:\tlearn: 2291.8133106\ttotal: 4m 19s\tremaining: 5m 40s\n",
      "432:\tlearn: 2291.6494291\ttotal: 4m 20s\tremaining: 5m 40s\n",
      "433:\tlearn: 2291.3905683\ttotal: 4m 21s\tremaining: 5m 40s\n",
      "434:\tlearn: 2291.0065525\ttotal: 4m 21s\tremaining: 5m 40s\n",
      "435:\tlearn: 2290.6545965\ttotal: 4m 22s\tremaining: 5m 39s\n",
      "436:\tlearn: 2290.5092546\ttotal: 4m 22s\tremaining: 5m 38s\n",
      "437:\tlearn: 2290.0386366\ttotal: 4m 23s\tremaining: 5m 37s\n",
      "438:\tlearn: 2289.8281486\ttotal: 4m 23s\tremaining: 5m 36s\n",
      "439:\tlearn: 2289.6449961\ttotal: 4m 23s\tremaining: 5m 35s\n"
     ]
    },
    {
     "name": "stdout",
     "output_type": "stream",
     "text": [
      "440:\tlearn: 2289.3621707\ttotal: 4m 24s\tremaining: 5m 35s\n",
      "441:\tlearn: 2289.1891888\ttotal: 4m 24s\tremaining: 5m 34s\n",
      "442:\tlearn: 2288.8518490\ttotal: 4m 25s\tremaining: 5m 33s\n",
      "443:\tlearn: 2288.4707376\ttotal: 4m 25s\tremaining: 5m 32s\n",
      "444:\tlearn: 2288.1947509\ttotal: 4m 25s\tremaining: 5m 31s\n",
      "445:\tlearn: 2287.9287857\ttotal: 4m 26s\tremaining: 5m 30s\n",
      "446:\tlearn: 2287.4502412\ttotal: 4m 27s\tremaining: 5m 31s\n",
      "447:\tlearn: 2287.2464588\ttotal: 4m 28s\tremaining: 5m 31s\n",
      "448:\tlearn: 2287.1284285\ttotal: 4m 29s\tremaining: 5m 30s\n",
      "449:\tlearn: 2286.8688265\ttotal: 4m 30s\tremaining: 5m 30s\n",
      "450:\tlearn: 2286.4595890\ttotal: 4m 30s\tremaining: 5m 29s\n",
      "451:\tlearn: 2286.1645899\ttotal: 4m 31s\tremaining: 5m 28s\n",
      "452:\tlearn: 2285.8732605\ttotal: 4m 31s\tremaining: 5m 28s\n",
      "453:\tlearn: 2285.7393514\ttotal: 4m 32s\tremaining: 5m 27s\n",
      "454:\tlearn: 2285.4821128\ttotal: 4m 32s\tremaining: 5m 26s\n",
      "455:\tlearn: 2285.2295353\ttotal: 4m 33s\tremaining: 5m 25s\n",
      "456:\tlearn: 2285.0238243\ttotal: 4m 33s\tremaining: 5m 24s\n",
      "457:\tlearn: 2284.7342785\ttotal: 4m 33s\tremaining: 5m 24s\n",
      "458:\tlearn: 2284.4099993\ttotal: 4m 35s\tremaining: 5m 24s\n",
      "459:\tlearn: 2284.1021987\ttotal: 4m 36s\tremaining: 5m 24s\n",
      "460:\tlearn: 2283.7425974\ttotal: 4m 37s\tremaining: 5m 24s\n",
      "461:\tlearn: 2283.4115166\ttotal: 4m 37s\tremaining: 5m 23s\n",
      "462:\tlearn: 2283.1077839\ttotal: 4m 37s\tremaining: 5m 22s\n",
      "463:\tlearn: 2282.7839075\ttotal: 4m 38s\tremaining: 5m 21s\n",
      "464:\tlearn: 2282.5188602\ttotal: 4m 38s\tremaining: 5m 20s\n",
      "465:\tlearn: 2282.2039617\ttotal: 4m 39s\tremaining: 5m 19s\n",
      "466:\tlearn: 2281.8694373\ttotal: 4m 39s\tremaining: 5m 19s\n",
      "467:\tlearn: 2281.5675696\ttotal: 4m 40s\tremaining: 5m 18s\n",
      "468:\tlearn: 2281.2605067\ttotal: 4m 40s\tremaining: 5m 17s\n",
      "469:\tlearn: 2281.0359892\ttotal: 4m 40s\tremaining: 5m 16s\n",
      "470:\tlearn: 2280.7376124\ttotal: 4m 41s\tremaining: 5m 15s\n",
      "471:\tlearn: 2280.3584944\ttotal: 4m 42s\tremaining: 5m 15s\n",
      "472:\tlearn: 2279.9744860\ttotal: 4m 43s\tremaining: 5m 15s\n",
      "473:\tlearn: 2279.7166620\ttotal: 4m 44s\tremaining: 5m 15s\n",
      "474:\tlearn: 2279.4387678\ttotal: 4m 44s\tremaining: 5m 14s\n",
      "475:\tlearn: 2279.3333129\ttotal: 4m 45s\tremaining: 5m 13s\n",
      "476:\tlearn: 2279.0813827\ttotal: 4m 45s\tremaining: 5m 13s\n",
      "477:\tlearn: 2278.7474724\ttotal: 4m 45s\tremaining: 5m 12s\n",
      "478:\tlearn: 2278.5368345\ttotal: 4m 46s\tremaining: 5m 11s\n",
      "479:\tlearn: 2278.2352504\ttotal: 4m 46s\tremaining: 5m 10s\n",
      "480:\tlearn: 2277.6734406\ttotal: 4m 47s\tremaining: 5m 10s\n",
      "481:\tlearn: 2277.2620928\ttotal: 4m 47s\tremaining: 5m 9s\n",
      "482:\tlearn: 2276.9891630\ttotal: 4m 48s\tremaining: 5m 8s\n",
      "483:\tlearn: 2276.5258138\ttotal: 4m 48s\tremaining: 5m 7s\n",
      "484:\tlearn: 2276.4112789\ttotal: 4m 49s\tremaining: 5m 7s\n",
      "485:\tlearn: 2276.1119179\ttotal: 4m 50s\tremaining: 5m 7s\n",
      "486:\tlearn: 2275.7414238\ttotal: 4m 51s\tremaining: 5m 7s\n",
      "487:\tlearn: 2275.3636505\ttotal: 4m 52s\tremaining: 5m 6s\n",
      "488:\tlearn: 2275.1778619\ttotal: 4m 52s\tremaining: 5m 5s\n",
      "489:\tlearn: 2274.8206675\ttotal: 4m 52s\tremaining: 5m 4s\n",
      "490:\tlearn: 2274.6400763\ttotal: 4m 53s\tremaining: 5m 3s\n",
      "491:\tlearn: 2274.1503775\ttotal: 4m 53s\tremaining: 5m 3s\n",
      "492:\tlearn: 2273.8854406\ttotal: 4m 54s\tremaining: 5m 2s\n",
      "493:\tlearn: 2273.7184154\ttotal: 4m 54s\tremaining: 5m 1s\n",
      "494:\tlearn: 2273.2033445\ttotal: 4m 54s\tremaining: 5m\n",
      "495:\tlearn: 2272.9558765\ttotal: 4m 55s\tremaining: 5m\n",
      "496:\tlearn: 2272.7711800\ttotal: 4m 55s\tremaining: 4m 59s\n",
      "497:\tlearn: 2272.4643003\ttotal: 4m 56s\tremaining: 4m 58s\n",
      "498:\tlearn: 2272.2844471\ttotal: 4m 57s\tremaining: 4m 59s\n",
      "499:\tlearn: 2271.9386390\ttotal: 4m 58s\tremaining: 4m 58s\n",
      "500:\tlearn: 2271.7758540\ttotal: 4m 59s\tremaining: 4m 58s\n",
      "501:\tlearn: 2271.5087565\ttotal: 4m 59s\tremaining: 4m 57s\n",
      "502:\tlearn: 2271.3792792\ttotal: 5m\tremaining: 4m 56s\n",
      "503:\tlearn: 2271.1616922\ttotal: 5m\tremaining: 4m 56s\n",
      "504:\tlearn: 2270.7309605\ttotal: 5m 1s\tremaining: 4m 55s\n",
      "505:\tlearn: 2270.4852345\ttotal: 5m 1s\tremaining: 4m 54s\n",
      "506:\tlearn: 2270.2549262\ttotal: 5m 2s\tremaining: 4m 54s\n",
      "507:\tlearn: 2269.8445881\ttotal: 5m 3s\tremaining: 4m 53s\n",
      "508:\tlearn: 2269.4307511\ttotal: 5m 4s\tremaining: 4m 53s\n",
      "509:\tlearn: 2269.1663324\ttotal: 5m 5s\tremaining: 4m 53s\n",
      "510:\tlearn: 2268.7470173\ttotal: 5m 6s\tremaining: 4m 53s\n",
      "511:\tlearn: 2268.6194612\ttotal: 5m 6s\tremaining: 4m 52s\n",
      "512:\tlearn: 2268.4159749\ttotal: 5m 7s\tremaining: 4m 51s\n",
      "513:\tlearn: 2268.2188402\ttotal: 5m 7s\tremaining: 4m 50s\n",
      "514:\tlearn: 2268.0407716\ttotal: 5m 7s\tremaining: 4m 49s\n",
      "515:\tlearn: 2267.9248200\ttotal: 5m 8s\tremaining: 4m 49s\n",
      "516:\tlearn: 2267.5721405\ttotal: 5m 8s\tremaining: 4m 48s\n",
      "517:\tlearn: 2267.3329486\ttotal: 5m 9s\tremaining: 4m 47s\n",
      "518:\tlearn: 2267.1497882\ttotal: 5m 9s\tremaining: 4m 46s\n",
      "519:\tlearn: 2266.9315310\ttotal: 5m 10s\tremaining: 4m 46s\n",
      "520:\tlearn: 2266.6719053\ttotal: 5m 11s\tremaining: 4m 46s\n",
      "521:\tlearn: 2266.4103368\ttotal: 5m 12s\tremaining: 4m 45s\n",
      "522:\tlearn: 2266.0673734\ttotal: 5m 12s\tremaining: 4m 45s\n",
      "523:\tlearn: 2265.7156928\ttotal: 5m 13s\tremaining: 4m 44s\n",
      "524:\tlearn: 2265.3795388\ttotal: 5m 13s\tremaining: 4m 43s\n",
      "525:\tlearn: 2264.8975183\ttotal: 5m 13s\tremaining: 4m 42s\n",
      "526:\tlearn: 2264.6935418\ttotal: 5m 14s\tremaining: 4m 42s\n",
      "527:\tlearn: 2264.2996838\ttotal: 5m 14s\tremaining: 4m 41s\n",
      "528:\tlearn: 2263.9894616\ttotal: 5m 15s\tremaining: 4m 40s\n",
      "529:\tlearn: 2263.6759489\ttotal: 5m 15s\tremaining: 4m 39s\n",
      "530:\tlearn: 2263.3099409\ttotal: 5m 16s\tremaining: 4m 39s\n",
      "531:\tlearn: 2263.0891590\ttotal: 5m 16s\tremaining: 4m 38s\n",
      "532:\tlearn: 2262.8520063\ttotal: 5m 17s\tremaining: 4m 38s\n",
      "533:\tlearn: 2262.4916374\ttotal: 5m 19s\tremaining: 4m 38s\n",
      "534:\tlearn: 2262.1078687\ttotal: 5m 19s\tremaining: 4m 38s\n",
      "535:\tlearn: 2261.8443232\ttotal: 5m 20s\tremaining: 4m 37s\n",
      "536:\tlearn: 2261.6341229\ttotal: 5m 20s\tremaining: 4m 36s\n",
      "537:\tlearn: 2261.3617136\ttotal: 5m 21s\tremaining: 4m 35s\n",
      "538:\tlearn: 2261.1043491\ttotal: 5m 21s\tremaining: 4m 35s\n",
      "539:\tlearn: 2260.8734323\ttotal: 5m 22s\tremaining: 4m 34s\n",
      "540:\tlearn: 2260.7086709\ttotal: 5m 23s\tremaining: 4m 34s\n",
      "541:\tlearn: 2260.3492223\ttotal: 5m 24s\tremaining: 4m 34s\n",
      "542:\tlearn: 2259.9483035\ttotal: 5m 25s\tremaining: 4m 33s\n",
      "543:\tlearn: 2259.4617926\ttotal: 5m 25s\tremaining: 4m 33s\n",
      "544:\tlearn: 2259.1328213\ttotal: 5m 26s\tremaining: 4m 32s\n",
      "545:\tlearn: 2258.6030037\ttotal: 5m 26s\tremaining: 4m 31s\n",
      "546:\tlearn: 2258.5398907\ttotal: 5m 27s\tremaining: 4m 30s\n",
      "547:\tlearn: 2258.2632738\ttotal: 5m 27s\tremaining: 4m 30s\n",
      "548:\tlearn: 2257.8302425\ttotal: 5m 27s\tremaining: 4m 29s\n",
      "549:\tlearn: 2257.6345428\ttotal: 5m 28s\tremaining: 4m 28s\n",
      "550:\tlearn: 2257.2427914\ttotal: 5m 28s\tremaining: 4m 27s\n",
      "551:\tlearn: 2257.0412152\ttotal: 5m 29s\tremaining: 4m 27s\n",
      "552:\tlearn: 2256.8006295\ttotal: 5m 29s\tremaining: 4m 26s\n",
      "553:\tlearn: 2256.5357273\ttotal: 5m 30s\tremaining: 4m 26s\n",
      "554:\tlearn: 2256.4046743\ttotal: 5m 31s\tremaining: 4m 26s\n",
      "555:\tlearn: 2256.2750900\ttotal: 5m 32s\tremaining: 4m 25s\n",
      "556:\tlearn: 2255.7852058\ttotal: 5m 32s\tremaining: 4m 24s\n",
      "557:\tlearn: 2255.5591345\ttotal: 5m 33s\tremaining: 4m 24s\n",
      "558:\tlearn: 2255.3442428\ttotal: 5m 33s\tremaining: 4m 23s\n",
      "559:\tlearn: 2255.0318572\ttotal: 5m 34s\tremaining: 4m 22s\n",
      "560:\tlearn: 2254.5690586\ttotal: 5m 34s\tremaining: 4m 22s\n",
      "561:\tlearn: 2254.2127770\ttotal: 5m 35s\tremaining: 4m 21s\n",
      "562:\tlearn: 2254.1705283\ttotal: 5m 36s\tremaining: 4m 20s\n",
      "563:\tlearn: 2253.9519019\ttotal: 5m 37s\tremaining: 4m 20s\n",
      "564:\tlearn: 2253.6831523\ttotal: 5m 38s\tremaining: 4m 20s\n",
      "565:\tlearn: 2253.2752714\ttotal: 5m 38s\tremaining: 4m 19s\n",
      "566:\tlearn: 2252.9935941\ttotal: 5m 39s\tremaining: 4m 18s\n",
      "567:\tlearn: 2252.5013142\ttotal: 5m 39s\tremaining: 4m 18s\n",
      "568:\tlearn: 2252.0860044\ttotal: 5m 39s\tremaining: 4m 17s\n",
      "569:\tlearn: 2251.6709573\ttotal: 5m 40s\tremaining: 4m 16s\n",
      "570:\tlearn: 2251.3604568\ttotal: 5m 40s\tremaining: 4m 16s\n",
      "571:\tlearn: 2251.0734702\ttotal: 5m 41s\tremaining: 4m 15s\n",
      "572:\tlearn: 2250.6295572\ttotal: 5m 42s\tremaining: 4m 14s\n",
      "573:\tlearn: 2250.3847022\ttotal: 5m 43s\tremaining: 4m 14s\n",
      "574:\tlearn: 2250.1421702\ttotal: 5m 44s\tremaining: 4m 14s\n",
      "575:\tlearn: 2249.9094628\ttotal: 5m 44s\tremaining: 4m 13s\n",
      "576:\tlearn: 2249.6799998\ttotal: 5m 44s\tremaining: 4m 12s\n",
      "577:\tlearn: 2249.2577364\ttotal: 5m 45s\tremaining: 4m 12s\n",
      "578:\tlearn: 2248.8654278\ttotal: 5m 45s\tremaining: 4m 11s\n",
      "579:\tlearn: 2248.7100239\ttotal: 5m 46s\tremaining: 4m 10s\n",
      "580:\tlearn: 2248.6381834\ttotal: 5m 46s\tremaining: 4m 9s\n",
      "581:\tlearn: 2248.3395462\ttotal: 5m 47s\tremaining: 4m 9s\n",
      "582:\tlearn: 2248.0231698\ttotal: 5m 47s\tremaining: 4m 8s\n",
      "583:\tlearn: 2247.6833764\ttotal: 5m 47s\tremaining: 4m 7s\n",
      "584:\tlearn: 2247.3964917\ttotal: 5m 49s\tremaining: 4m 7s\n"
     ]
    },
    {
     "name": "stdout",
     "output_type": "stream",
     "text": [
      "585:\tlearn: 2247.1854045\ttotal: 5m 50s\tremaining: 4m 7s\n",
      "586:\tlearn: 2246.9216055\ttotal: 5m 50s\tremaining: 4m 6s\n",
      "587:\tlearn: 2246.6541884\ttotal: 5m 51s\tremaining: 4m 6s\n",
      "588:\tlearn: 2246.5905876\ttotal: 5m 51s\tremaining: 4m 5s\n",
      "589:\tlearn: 2246.2661473\ttotal: 5m 52s\tremaining: 4m 4s\n",
      "590:\tlearn: 2245.9068772\ttotal: 5m 52s\tremaining: 4m 4s\n",
      "591:\tlearn: 2245.6877899\ttotal: 5m 53s\tremaining: 4m 3s\n",
      "592:\tlearn: 2245.5549933\ttotal: 5m 53s\tremaining: 4m 2s\n",
      "593:\tlearn: 2245.4388337\ttotal: 5m 54s\tremaining: 4m 2s\n",
      "594:\tlearn: 2245.1367642\ttotal: 5m 55s\tremaining: 4m 2s\n",
      "595:\tlearn: 2244.8862965\ttotal: 5m 56s\tremaining: 4m 1s\n",
      "596:\tlearn: 2244.7043035\ttotal: 5m 56s\tremaining: 4m\n",
      "597:\tlearn: 2244.5675124\ttotal: 5m 57s\tremaining: 4m\n",
      "598:\tlearn: 2244.3513532\ttotal: 5m 57s\tremaining: 3m 59s\n",
      "599:\tlearn: 2244.0692933\ttotal: 5m 58s\tremaining: 3m 58s\n",
      "600:\tlearn: 2243.9044051\ttotal: 5m 58s\tremaining: 3m 58s\n",
      "601:\tlearn: 2243.4535671\ttotal: 5m 59s\tremaining: 3m 57s\n",
      "602:\tlearn: 2243.3769518\ttotal: 5m 59s\tremaining: 3m 56s\n",
      "603:\tlearn: 2243.2343757\ttotal: 6m\tremaining: 3m 56s\n",
      "604:\tlearn: 2242.8964287\ttotal: 6m 1s\tremaining: 3m 55s\n",
      "605:\tlearn: 2242.5887223\ttotal: 6m 2s\tremaining: 3m 55s\n",
      "606:\tlearn: 2242.2646641\ttotal: 6m 2s\tremaining: 3m 54s\n",
      "607:\tlearn: 2241.9014894\ttotal: 6m 3s\tremaining: 3m 54s\n",
      "608:\tlearn: 2241.3536266\ttotal: 6m 3s\tremaining: 3m 53s\n",
      "609:\tlearn: 2241.2472572\ttotal: 6m 3s\tremaining: 3m 52s\n",
      "610:\tlearn: 2240.8775303\ttotal: 6m 4s\tremaining: 3m 52s\n",
      "611:\tlearn: 2240.6343634\ttotal: 6m 4s\tremaining: 3m 51s\n",
      "612:\tlearn: 2240.4022200\ttotal: 6m 5s\tremaining: 3m 50s\n",
      "613:\tlearn: 2240.2768749\ttotal: 6m 5s\tremaining: 3m 49s\n",
      "614:\tlearn: 2240.0237614\ttotal: 6m 6s\tremaining: 3m 49s\n",
      "615:\tlearn: 2239.7486509\ttotal: 6m 7s\tremaining: 3m 49s\n",
      "616:\tlearn: 2239.3826615\ttotal: 6m 8s\tremaining: 3m 48s\n",
      "617:\tlearn: 2239.0149394\ttotal: 6m 9s\tremaining: 3m 48s\n",
      "618:\tlearn: 2238.8544301\ttotal: 6m 9s\tremaining: 3m 47s\n",
      "619:\tlearn: 2238.5048548\ttotal: 6m 10s\tremaining: 3m 46s\n",
      "620:\tlearn: 2238.1858703\ttotal: 6m 10s\tremaining: 3m 46s\n",
      "621:\tlearn: 2237.8717446\ttotal: 6m 11s\tremaining: 3m 45s\n",
      "622:\tlearn: 2237.7809692\ttotal: 6m 11s\tremaining: 3m 44s\n",
      "623:\tlearn: 2237.4874691\ttotal: 6m 11s\tremaining: 3m 44s\n",
      "624:\tlearn: 2237.2284452\ttotal: 6m 12s\tremaining: 3m 43s\n",
      "625:\tlearn: 2236.8676918\ttotal: 6m 12s\tremaining: 3m 42s\n",
      "626:\tlearn: 2236.7059732\ttotal: 6m 13s\tremaining: 3m 42s\n",
      "627:\tlearn: 2236.4370145\ttotal: 6m 14s\tremaining: 3m 41s\n",
      "628:\tlearn: 2236.1096116\ttotal: 6m 15s\tremaining: 3m 41s\n",
      "629:\tlearn: 2235.7941422\ttotal: 6m 16s\tremaining: 3m 40s\n",
      "630:\tlearn: 2235.6947645\ttotal: 6m 16s\tremaining: 3m 40s\n",
      "631:\tlearn: 2235.4576968\ttotal: 6m 17s\tremaining: 3m 39s\n",
      "632:\tlearn: 2235.3095014\ttotal: 6m 17s\tremaining: 3m 38s\n",
      "633:\tlearn: 2235.0095692\ttotal: 6m 17s\tremaining: 3m 38s\n",
      "634:\tlearn: 2234.8665118\ttotal: 6m 18s\tremaining: 3m 37s\n",
      "635:\tlearn: 2234.7090364\ttotal: 6m 18s\tremaining: 3m 36s\n",
      "636:\tlearn: 2234.4314312\ttotal: 6m 19s\tremaining: 3m 36s\n",
      "637:\tlearn: 2234.1392887\ttotal: 6m 19s\tremaining: 3m 35s\n",
      "638:\tlearn: 2233.7950495\ttotal: 6m 20s\tremaining: 3m 34s\n",
      "639:\tlearn: 2233.4036742\ttotal: 6m 21s\tremaining: 3m 34s\n",
      "640:\tlearn: 2233.0964670\ttotal: 6m 22s\tremaining: 3m 34s\n",
      "641:\tlearn: 2233.0259346\ttotal: 6m 23s\tremaining: 3m 33s\n",
      "642:\tlearn: 2232.7797685\ttotal: 6m 23s\tremaining: 3m 33s\n",
      "643:\tlearn: 2232.4218919\ttotal: 6m 24s\tremaining: 3m 32s\n",
      "644:\tlearn: 2232.2096316\ttotal: 6m 24s\tremaining: 3m 31s\n",
      "645:\tlearn: 2231.8024704\ttotal: 6m 25s\tremaining: 3m 31s\n",
      "646:\tlearn: 2231.5977570\ttotal: 6m 25s\tremaining: 3m 30s\n",
      "647:\tlearn: 2231.3885042\ttotal: 6m 25s\tremaining: 3m 29s\n",
      "648:\tlearn: 2231.2036411\ttotal: 6m 26s\tremaining: 3m 28s\n",
      "649:\tlearn: 2230.9449128\ttotal: 6m 27s\tremaining: 3m 28s\n",
      "650:\tlearn: 2230.8039617\ttotal: 6m 28s\tremaining: 3m 28s\n",
      "651:\tlearn: 2230.5310456\ttotal: 6m 29s\tremaining: 3m 27s\n",
      "652:\tlearn: 2230.3127375\ttotal: 6m 29s\tremaining: 3m 27s\n",
      "653:\tlearn: 2230.0647029\ttotal: 6m 30s\tremaining: 3m 26s\n",
      "654:\tlearn: 2229.7379137\ttotal: 6m 30s\tremaining: 3m 25s\n",
      "655:\tlearn: 2229.3944695\ttotal: 6m 31s\tremaining: 3m 25s\n",
      "656:\tlearn: 2229.0880141\ttotal: 6m 31s\tremaining: 3m 24s\n",
      "657:\tlearn: 2228.9274471\ttotal: 6m 31s\tremaining: 3m 23s\n",
      "658:\tlearn: 2228.6765095\ttotal: 6m 32s\tremaining: 3m 23s\n",
      "659:\tlearn: 2228.3415449\ttotal: 6m 32s\tremaining: 3m 22s\n",
      "660:\tlearn: 2228.0266869\ttotal: 6m 33s\tremaining: 3m 21s\n",
      "661:\tlearn: 2227.7857621\ttotal: 6m 34s\tremaining: 3m 21s\n",
      "662:\tlearn: 2227.5142235\ttotal: 6m 35s\tremaining: 3m 20s\n",
      "663:\tlearn: 2227.1847174\ttotal: 6m 36s\tremaining: 3m 20s\n",
      "664:\tlearn: 2226.9438477\ttotal: 6m 36s\tremaining: 3m 19s\n",
      "665:\tlearn: 2226.8530912\ttotal: 6m 37s\tremaining: 3m 19s\n",
      "666:\tlearn: 2226.6407227\ttotal: 6m 37s\tremaining: 3m 18s\n",
      "667:\tlearn: 2226.3833691\ttotal: 6m 38s\tremaining: 3m 18s\n",
      "668:\tlearn: 2226.1904697\ttotal: 6m 38s\tremaining: 3m 17s\n",
      "669:\tlearn: 2225.9338897\ttotal: 6m 39s\tremaining: 3m 16s\n",
      "670:\tlearn: 2225.7603973\ttotal: 6m 39s\tremaining: 3m 15s\n",
      "671:\tlearn: 2225.6278906\ttotal: 6m 40s\tremaining: 3m 15s\n",
      "672:\tlearn: 2225.4445721\ttotal: 6m 41s\tremaining: 3m 15s\n",
      "673:\tlearn: 2225.2868856\ttotal: 6m 42s\tremaining: 3m 14s\n",
      "674:\tlearn: 2224.9296916\ttotal: 6m 43s\tremaining: 3m 14s\n",
      "675:\tlearn: 2224.4623346\ttotal: 6m 43s\tremaining: 3m 13s\n",
      "676:\tlearn: 2224.2529361\ttotal: 6m 43s\tremaining: 3m 12s\n",
      "677:\tlearn: 2224.0912761\ttotal: 6m 44s\tremaining: 3m 12s\n",
      "678:\tlearn: 2223.8685056\ttotal: 6m 44s\tremaining: 3m 11s\n",
      "679:\tlearn: 2223.5709670\ttotal: 6m 45s\tremaining: 3m 10s\n",
      "680:\tlearn: 2223.3855217\ttotal: 6m 45s\tremaining: 3m 9s\n",
      "681:\tlearn: 2223.1108628\ttotal: 6m 45s\tremaining: 3m 9s\n",
      "682:\tlearn: 2222.8659983\ttotal: 6m 46s\tremaining: 3m 8s\n",
      "683:\tlearn: 2222.4655520\ttotal: 6m 46s\tremaining: 3m 7s\n",
      "684:\tlearn: 2222.1338803\ttotal: 6m 47s\tremaining: 3m 7s\n",
      "685:\tlearn: 2221.9162054\ttotal: 6m 47s\tremaining: 3m 6s\n",
      "686:\tlearn: 2221.5206948\ttotal: 6m 48s\tremaining: 3m 6s\n",
      "687:\tlearn: 2221.2797298\ttotal: 6m 50s\tremaining: 3m 5s\n",
      "688:\tlearn: 2220.9709381\ttotal: 6m 50s\tremaining: 3m 5s\n",
      "689:\tlearn: 2220.5920114\ttotal: 6m 50s\tremaining: 3m 4s\n",
      "690:\tlearn: 2220.4774836\ttotal: 6m 51s\tremaining: 3m 3s\n",
      "691:\tlearn: 2220.1777975\ttotal: 6m 51s\tremaining: 3m 3s\n",
      "692:\tlearn: 2219.8994258\ttotal: 6m 52s\tremaining: 3m 2s\n",
      "693:\tlearn: 2219.6459369\ttotal: 6m 52s\tremaining: 3m 1s\n",
      "694:\tlearn: 2219.4760807\ttotal: 6m 53s\tremaining: 3m 1s\n",
      "695:\tlearn: 2219.1883104\ttotal: 6m 53s\tremaining: 3m\n",
      "696:\tlearn: 2218.8552930\ttotal: 6m 54s\tremaining: 3m\n",
      "697:\tlearn: 2218.5201070\ttotal: 6m 54s\tremaining: 2m 59s\n",
      "698:\tlearn: 2218.2722357\ttotal: 6m 54s\tremaining: 2m 58s\n",
      "699:\tlearn: 2218.0279919\ttotal: 6m 55s\tremaining: 2m 58s\n",
      "700:\tlearn: 2217.7828115\ttotal: 6m 55s\tremaining: 2m 57s\n",
      "701:\tlearn: 2217.4297568\ttotal: 6m 56s\tremaining: 2m 56s\n",
      "702:\tlearn: 2217.1956451\ttotal: 6m 57s\tremaining: 2m 56s\n",
      "703:\tlearn: 2216.9115161\ttotal: 6m 59s\tremaining: 2m 56s\n",
      "704:\tlearn: 2216.5593490\ttotal: 6m 59s\tremaining: 2m 55s\n",
      "705:\tlearn: 2216.1247440\ttotal: 6m 59s\tremaining: 2m 54s\n",
      "706:\tlearn: 2215.9529167\ttotal: 7m\tremaining: 2m 54s\n",
      "707:\tlearn: 2215.5673471\ttotal: 7m\tremaining: 2m 53s\n",
      "708:\tlearn: 2215.3477585\ttotal: 7m 1s\tremaining: 2m 52s\n",
      "709:\tlearn: 2215.2429294\ttotal: 7m 1s\tremaining: 2m 52s\n",
      "710:\tlearn: 2215.0378725\ttotal: 7m 1s\tremaining: 2m 51s\n",
      "711:\tlearn: 2214.8213536\ttotal: 7m 2s\tremaining: 2m 50s\n",
      "712:\tlearn: 2214.4169047\ttotal: 7m 3s\tremaining: 2m 50s\n",
      "713:\tlearn: 2214.3318132\ttotal: 7m 4s\tremaining: 2m 50s\n",
      "714:\tlearn: 2214.2385278\ttotal: 7m 5s\tremaining: 2m 49s\n",
      "715:\tlearn: 2213.8321035\ttotal: 7m 5s\tremaining: 2m 48s\n",
      "716:\tlearn: 2213.6310178\ttotal: 7m 6s\tremaining: 2m 48s\n",
      "717:\tlearn: 2213.3801801\ttotal: 7m 6s\tremaining: 2m 47s\n",
      "718:\tlearn: 2213.0301268\ttotal: 7m 7s\tremaining: 2m 47s\n",
      "719:\tlearn: 2212.8324855\ttotal: 7m 7s\tremaining: 2m 46s\n",
      "720:\tlearn: 2212.7240052\ttotal: 7m 8s\tremaining: 2m 45s\n",
      "721:\tlearn: 2212.6502946\ttotal: 7m 8s\tremaining: 2m 45s\n",
      "722:\tlearn: 2212.4073621\ttotal: 7m 9s\tremaining: 2m 44s\n",
      "723:\tlearn: 2212.2140574\ttotal: 7m 9s\tremaining: 2m 43s\n",
      "724:\tlearn: 2211.9651152\ttotal: 7m 10s\tremaining: 2m 43s\n",
      "725:\tlearn: 2211.7304892\ttotal: 7m 10s\tremaining: 2m 42s\n",
      "726:\tlearn: 2211.3489717\ttotal: 7m 11s\tremaining: 2m 42s\n",
      "727:\tlearn: 2211.1050806\ttotal: 7m 11s\tremaining: 2m 41s\n",
      "728:\tlearn: 2210.7609854\ttotal: 7m 12s\tremaining: 2m 40s\n",
      "729:\tlearn: 2210.5297684\ttotal: 7m 12s\tremaining: 2m 40s\n",
      "730:\tlearn: 2210.2682100\ttotal: 7m 14s\tremaining: 2m 39s\n"
     ]
    },
    {
     "name": "stdout",
     "output_type": "stream",
     "text": [
      "731:\tlearn: 2210.1656982\ttotal: 7m 15s\tremaining: 2m 39s\n",
      "732:\tlearn: 2209.9138332\ttotal: 7m 16s\tremaining: 2m 38s\n",
      "733:\tlearn: 2209.6859429\ttotal: 7m 16s\tremaining: 2m 38s\n",
      "734:\tlearn: 2209.3733201\ttotal: 7m 17s\tremaining: 2m 37s\n",
      "735:\tlearn: 2209.3129850\ttotal: 7m 17s\tremaining: 2m 37s\n",
      "736:\tlearn: 2209.0584769\ttotal: 7m 18s\tremaining: 2m 36s\n",
      "737:\tlearn: 2208.7798669\ttotal: 7m 18s\tremaining: 2m 35s\n",
      "738:\tlearn: 2208.5282593\ttotal: 7m 19s\tremaining: 2m 35s\n",
      "739:\tlearn: 2208.2168421\ttotal: 7m 19s\tremaining: 2m 34s\n",
      "740:\tlearn: 2207.9568142\ttotal: 7m 20s\tremaining: 2m 33s\n",
      "741:\tlearn: 2207.5776067\ttotal: 7m 20s\tremaining: 2m 33s\n",
      "742:\tlearn: 2207.2051762\ttotal: 7m 22s\tremaining: 2m 32s\n",
      "743:\tlearn: 2207.0157535\ttotal: 7m 23s\tremaining: 2m 32s\n",
      "744:\tlearn: 2206.7475365\ttotal: 7m 23s\tremaining: 2m 31s\n",
      "745:\tlearn: 2206.3414572\ttotal: 7m 23s\tremaining: 2m 31s\n",
      "746:\tlearn: 2206.1657192\ttotal: 7m 24s\tremaining: 2m 30s\n",
      "747:\tlearn: 2205.9223865\ttotal: 7m 25s\tremaining: 2m 29s\n",
      "748:\tlearn: 2205.7779981\ttotal: 7m 25s\tremaining: 2m 29s\n",
      "749:\tlearn: 2205.7373482\ttotal: 7m 26s\tremaining: 2m 28s\n",
      "750:\tlearn: 2205.4934864\ttotal: 7m 26s\tremaining: 2m 28s\n",
      "751:\tlearn: 2205.3355406\ttotal: 7m 27s\tremaining: 2m 27s\n",
      "752:\tlearn: 2204.8723466\ttotal: 7m 27s\tremaining: 2m 26s\n",
      "753:\tlearn: 2204.6335343\ttotal: 7m 28s\tremaining: 2m 26s\n",
      "754:\tlearn: 2204.4266724\ttotal: 7m 29s\tremaining: 2m 25s\n",
      "755:\tlearn: 2204.2863997\ttotal: 7m 30s\tremaining: 2m 25s\n",
      "756:\tlearn: 2203.8661690\ttotal: 7m 30s\tremaining: 2m 24s\n",
      "757:\tlearn: 2203.5476157\ttotal: 7m 31s\tremaining: 2m 24s\n",
      "758:\tlearn: 2203.3581550\ttotal: 7m 31s\tremaining: 2m 23s\n",
      "759:\tlearn: 2203.1717631\ttotal: 7m 32s\tremaining: 2m 22s\n",
      "760:\tlearn: 2202.9577546\ttotal: 7m 32s\tremaining: 2m 22s\n",
      "761:\tlearn: 2202.7294490\ttotal: 7m 33s\tremaining: 2m 21s\n",
      "762:\tlearn: 2202.6675162\ttotal: 7m 33s\tremaining: 2m 20s\n",
      "763:\tlearn: 2202.4784934\ttotal: 7m 33s\tremaining: 2m 20s\n",
      "764:\tlearn: 2202.2514958\ttotal: 7m 34s\tremaining: 2m 19s\n",
      "765:\tlearn: 2202.1690522\ttotal: 7m 34s\tremaining: 2m 18s\n",
      "766:\tlearn: 2201.9819366\ttotal: 7m 35s\tremaining: 2m 18s\n",
      "767:\tlearn: 2201.8872054\ttotal: 7m 35s\tremaining: 2m 17s\n",
      "768:\tlearn: 2201.6918132\ttotal: 7m 36s\tremaining: 2m 17s\n",
      "769:\tlearn: 2201.3409110\ttotal: 7m 37s\tremaining: 2m 16s\n",
      "770:\tlearn: 2201.1277247\ttotal: 7m 38s\tremaining: 2m 16s\n",
      "771:\tlearn: 2200.8639043\ttotal: 7m 39s\tremaining: 2m 15s\n",
      "772:\tlearn: 2200.5543498\ttotal: 7m 39s\tremaining: 2m 14s\n",
      "773:\tlearn: 2200.3792060\ttotal: 7m 39s\tremaining: 2m 14s\n",
      "774:\tlearn: 2200.1898824\ttotal: 7m 40s\tremaining: 2m 13s\n",
      "775:\tlearn: 2199.9216305\ttotal: 7m 40s\tremaining: 2m 13s\n",
      "776:\tlearn: 2199.7119787\ttotal: 7m 41s\tremaining: 2m 12s\n",
      "777:\tlearn: 2199.4624995\ttotal: 7m 41s\tremaining: 2m 11s\n",
      "778:\tlearn: 2199.2314860\ttotal: 7m 42s\tremaining: 2m 11s\n",
      "779:\tlearn: 2198.9593440\ttotal: 7m 44s\tremaining: 2m 10s\n",
      "780:\tlearn: 2198.6249289\ttotal: 7m 45s\tremaining: 2m 10s\n",
      "781:\tlearn: 2198.4286739\ttotal: 7m 45s\tremaining: 2m 9s\n",
      "782:\tlearn: 2198.0886740\ttotal: 7m 46s\tremaining: 2m 9s\n",
      "783:\tlearn: 2197.8918167\ttotal: 7m 46s\tremaining: 2m 8s\n",
      "784:\tlearn: 2197.7590154\ttotal: 7m 47s\tremaining: 2m 8s\n",
      "785:\tlearn: 2197.4325878\ttotal: 7m 48s\tremaining: 2m 7s\n",
      "786:\tlearn: 2197.2397655\ttotal: 7m 48s\tremaining: 2m 6s\n",
      "787:\tlearn: 2197.0863523\ttotal: 7m 49s\tremaining: 2m 6s\n",
      "788:\tlearn: 2196.9289943\ttotal: 7m 49s\tremaining: 2m 5s\n",
      "789:\tlearn: 2196.8493281\ttotal: 7m 49s\tremaining: 2m 4s\n",
      "790:\tlearn: 2196.5983571\ttotal: 7m 50s\tremaining: 2m 4s\n",
      "791:\tlearn: 2196.4021220\ttotal: 7m 50s\tremaining: 2m 3s\n",
      "792:\tlearn: 2196.1481811\ttotal: 7m 51s\tremaining: 2m 2s\n",
      "793:\tlearn: 2195.8262941\ttotal: 7m 51s\tremaining: 2m 2s\n",
      "794:\tlearn: 2195.6839396\ttotal: 7m 52s\tremaining: 2m 1s\n",
      "795:\tlearn: 2195.6156617\ttotal: 7m 53s\tremaining: 2m 1s\n",
      "796:\tlearn: 2195.3346626\ttotal: 7m 54s\tremaining: 2m\n",
      "797:\tlearn: 2195.1702964\ttotal: 7m 54s\tremaining: 2m\n",
      "798:\tlearn: 2194.8523299\ttotal: 7m 55s\tremaining: 1m 59s\n",
      "799:\tlearn: 2194.6225672\ttotal: 7m 55s\tremaining: 1m 58s\n",
      "800:\tlearn: 2194.3443307\ttotal: 7m 55s\tremaining: 1m 58s\n",
      "801:\tlearn: 2194.2691597\ttotal: 7m 56s\tremaining: 1m 57s\n",
      "802:\tlearn: 2194.0583627\ttotal: 7m 56s\tremaining: 1m 56s\n",
      "803:\tlearn: 2193.8277384\ttotal: 7m 57s\tremaining: 1m 56s\n",
      "804:\tlearn: 2193.4197298\ttotal: 7m 58s\tremaining: 1m 55s\n",
      "805:\tlearn: 2193.1886052\ttotal: 7m 59s\tremaining: 1m 55s\n",
      "806:\tlearn: 2193.0105108\ttotal: 8m\tremaining: 1m 54s\n",
      "807:\tlearn: 2192.7210921\ttotal: 8m\tremaining: 1m 54s\n",
      "808:\tlearn: 2192.4434306\ttotal: 8m 1s\tremaining: 1m 53s\n",
      "809:\tlearn: 2192.2711330\ttotal: 8m 1s\tremaining: 1m 52s\n",
      "810:\tlearn: 2192.0700010\ttotal: 8m 2s\tremaining: 1m 52s\n",
      "811:\tlearn: 2191.8496916\ttotal: 8m 2s\tremaining: 1m 51s\n",
      "812:\tlearn: 2191.7563920\ttotal: 8m 2s\tremaining: 1m 51s\n",
      "813:\tlearn: 2191.6722183\ttotal: 8m 3s\tremaining: 1m 50s\n",
      "814:\tlearn: 2191.5641973\ttotal: 8m 3s\tremaining: 1m 49s\n",
      "815:\tlearn: 2191.3558467\ttotal: 8m 4s\tremaining: 1m 49s\n",
      "816:\tlearn: 2191.3408787\ttotal: 8m 4s\tremaining: 1m 48s\n",
      "817:\tlearn: 2191.0676065\ttotal: 8m 4s\tremaining: 1m 47s\n",
      "818:\tlearn: 2190.9727345\ttotal: 8m 5s\tremaining: 1m 47s\n",
      "819:\tlearn: 2190.7174715\ttotal: 8m 5s\tremaining: 1m 46s\n",
      "820:\tlearn: 2190.6422127\ttotal: 8m 6s\tremaining: 1m 46s\n",
      "821:\tlearn: 2190.6227612\ttotal: 8m 8s\tremaining: 1m 45s\n",
      "822:\tlearn: 2190.2839084\ttotal: 8m 8s\tremaining: 1m 45s\n",
      "823:\tlearn: 2190.1510288\ttotal: 8m 9s\tremaining: 1m 44s\n",
      "824:\tlearn: 2189.9753236\ttotal: 8m 9s\tremaining: 1m 43s\n",
      "825:\tlearn: 2189.8321297\ttotal: 8m 10s\tremaining: 1m 43s\n",
      "826:\tlearn: 2189.6044707\ttotal: 8m 10s\tremaining: 1m 42s\n",
      "827:\tlearn: 2189.5115259\ttotal: 8m 11s\tremaining: 1m 42s\n",
      "828:\tlearn: 2189.3588670\ttotal: 8m 11s\tremaining: 1m 41s\n",
      "829:\tlearn: 2189.0750726\ttotal: 8m 11s\tremaining: 1m 40s\n",
      "830:\tlearn: 2188.9487895\ttotal: 8m 12s\tremaining: 1m 40s\n",
      "831:\tlearn: 2188.8622080\ttotal: 8m 12s\tremaining: 1m 39s\n",
      "832:\tlearn: 2188.7580819\ttotal: 8m 13s\tremaining: 1m 38s\n",
      "833:\tlearn: 2188.5113652\ttotal: 8m 13s\tremaining: 1m 38s\n",
      "834:\tlearn: 2188.1794536\ttotal: 8m 14s\tremaining: 1m 37s\n",
      "835:\tlearn: 2188.0554818\ttotal: 8m 15s\tremaining: 1m 37s\n",
      "836:\tlearn: 2187.8296255\ttotal: 8m 16s\tremaining: 1m 36s\n",
      "837:\tlearn: 2187.6075193\ttotal: 8m 17s\tremaining: 1m 36s\n",
      "838:\tlearn: 2187.3991519\ttotal: 8m 17s\tremaining: 1m 35s\n",
      "839:\tlearn: 2187.0982900\ttotal: 8m 18s\tremaining: 1m 34s\n",
      "840:\tlearn: 2186.8454831\ttotal: 8m 18s\tremaining: 1m 34s\n",
      "841:\tlearn: 2186.6051022\ttotal: 8m 19s\tremaining: 1m 33s\n",
      "842:\tlearn: 2186.2741283\ttotal: 8m 19s\tremaining: 1m 33s\n",
      "843:\tlearn: 2186.0252045\ttotal: 8m 19s\tremaining: 1m 32s\n",
      "844:\tlearn: 2185.8468208\ttotal: 8m 20s\tremaining: 1m 31s\n",
      "845:\tlearn: 2185.5565391\ttotal: 8m 20s\tremaining: 1m 31s\n",
      "846:\tlearn: 2185.3412361\ttotal: 8m 21s\tremaining: 1m 30s\n",
      "847:\tlearn: 2185.1251435\ttotal: 8m 21s\tremaining: 1m 29s\n",
      "848:\tlearn: 2184.8694088\ttotal: 8m 21s\tremaining: 1m 29s\n",
      "849:\tlearn: 2184.5905054\ttotal: 8m 22s\tremaining: 1m 28s\n",
      "850:\tlearn: 2184.4372569\ttotal: 8m 22s\tremaining: 1m 28s\n",
      "851:\tlearn: 2184.1842344\ttotal: 8m 23s\tremaining: 1m 27s\n",
      "852:\tlearn: 2184.1133954\ttotal: 8m 24s\tremaining: 1m 26s\n",
      "853:\tlearn: 2183.8466606\ttotal: 8m 25s\tremaining: 1m 26s\n",
      "854:\tlearn: 2183.7003573\ttotal: 8m 25s\tremaining: 1m 25s\n",
      "855:\tlearn: 2183.5972868\ttotal: 8m 26s\tremaining: 1m 25s\n",
      "856:\tlearn: 2183.3264133\ttotal: 8m 26s\tremaining: 1m 24s\n",
      "857:\tlearn: 2183.1868424\ttotal: 8m 27s\tremaining: 1m 23s\n",
      "858:\tlearn: 2182.9820476\ttotal: 8m 27s\tremaining: 1m 23s\n",
      "859:\tlearn: 2182.8671743\ttotal: 8m 28s\tremaining: 1m 22s\n",
      "860:\tlearn: 2182.6573106\ttotal: 8m 28s\tremaining: 1m 22s\n",
      "861:\tlearn: 2182.4286502\ttotal: 8m 29s\tremaining: 1m 21s\n",
      "862:\tlearn: 2182.2449028\ttotal: 8m 29s\tremaining: 1m 20s\n",
      "863:\tlearn: 2182.0203709\ttotal: 8m 31s\tremaining: 1m 20s\n",
      "864:\tlearn: 2181.7889050\ttotal: 8m 32s\tremaining: 1m 19s\n",
      "865:\tlearn: 2181.3708658\ttotal: 8m 33s\tremaining: 1m 19s\n",
      "866:\tlearn: 2181.1979243\ttotal: 8m 33s\tremaining: 1m 18s\n",
      "867:\tlearn: 2181.0561427\ttotal: 8m 34s\tremaining: 1m 18s\n",
      "868:\tlearn: 2180.7935359\ttotal: 8m 34s\tremaining: 1m 17s\n",
      "869:\tlearn: 2180.5669730\ttotal: 8m 35s\tremaining: 1m 16s\n",
      "870:\tlearn: 2180.2434732\ttotal: 8m 35s\tremaining: 1m 16s\n",
      "871:\tlearn: 2179.9058195\ttotal: 8m 35s\tremaining: 1m 15s\n",
      "872:\tlearn: 2179.6587780\ttotal: 8m 36s\tremaining: 1m 15s\n",
      "873:\tlearn: 2179.4113831\ttotal: 8m 36s\tremaining: 1m 14s\n",
      "874:\tlearn: 2179.2580419\ttotal: 8m 37s\tremaining: 1m 13s\n",
      "875:\tlearn: 2179.1229664\ttotal: 8m 38s\tremaining: 1m 13s\n"
     ]
    },
    {
     "name": "stdout",
     "output_type": "stream",
     "text": [
      "876:\tlearn: 2178.9748031\ttotal: 8m 39s\tremaining: 1m 12s\n",
      "877:\tlearn: 2178.7085266\ttotal: 8m 40s\tremaining: 1m 12s\n",
      "878:\tlearn: 2178.4960482\ttotal: 8m 40s\tremaining: 1m 11s\n",
      "879:\tlearn: 2178.2404869\ttotal: 8m 41s\tremaining: 1m 11s\n",
      "880:\tlearn: 2178.1664615\ttotal: 8m 41s\tremaining: 1m 10s\n",
      "881:\tlearn: 2177.9520739\ttotal: 8m 41s\tremaining: 1m 9s\n",
      "882:\tlearn: 2177.6649035\ttotal: 8m 42s\tremaining: 1m 9s\n",
      "883:\tlearn: 2177.4811140\ttotal: 8m 42s\tremaining: 1m 8s\n",
      "884:\tlearn: 2177.3208212\ttotal: 8m 43s\tremaining: 1m 7s\n",
      "885:\tlearn: 2177.1602536\ttotal: 8m 43s\tremaining: 1m 7s\n",
      "886:\tlearn: 2177.0700568\ttotal: 8m 44s\tremaining: 1m 6s\n",
      "887:\tlearn: 2176.9106935\ttotal: 8m 45s\tremaining: 1m 6s\n",
      "888:\tlearn: 2176.5921455\ttotal: 8m 46s\tremaining: 1m 5s\n",
      "889:\tlearn: 2176.4600385\ttotal: 8m 47s\tremaining: 1m 5s\n",
      "890:\tlearn: 2176.1454608\ttotal: 8m 47s\tremaining: 1m 4s\n",
      "891:\tlearn: 2176.0106953\ttotal: 8m 48s\tremaining: 1m 3s\n",
      "892:\tlearn: 2175.6673941\ttotal: 8m 48s\tremaining: 1m 3s\n",
      "893:\tlearn: 2175.4186222\ttotal: 8m 49s\tremaining: 1m 2s\n",
      "894:\tlearn: 2175.3550300\ttotal: 8m 49s\tremaining: 1m 2s\n",
      "895:\tlearn: 2175.2159695\ttotal: 8m 50s\tremaining: 1m 1s\n",
      "896:\tlearn: 2175.0192848\ttotal: 8m 50s\tremaining: 1m\n",
      "897:\tlearn: 2174.8260660\ttotal: 8m 51s\tremaining: 1m\n",
      "898:\tlearn: 2174.5941907\ttotal: 8m 51s\tremaining: 59.7s\n",
      "899:\tlearn: 2174.4315496\ttotal: 8m 52s\tremaining: 59.1s\n",
      "900:\tlearn: 2174.2637646\ttotal: 8m 52s\tremaining: 58.5s\n",
      "901:\tlearn: 2174.0239588\ttotal: 8m 53s\tremaining: 57.9s\n",
      "902:\tlearn: 2173.7723827\ttotal: 8m 53s\tremaining: 57.3s\n",
      "903:\tlearn: 2173.5595660\ttotal: 8m 54s\tremaining: 56.7s\n",
      "904:\tlearn: 2173.3316727\ttotal: 8m 54s\tremaining: 56.1s\n",
      "905:\tlearn: 2173.1475783\ttotal: 8m 55s\tremaining: 55.6s\n",
      "906:\tlearn: 2173.0119653\ttotal: 8m 57s\tremaining: 55.1s\n",
      "907:\tlearn: 2172.8700709\ttotal: 8m 58s\tremaining: 54.5s\n",
      "908:\tlearn: 2172.6808160\ttotal: 8m 58s\tremaining: 53.9s\n",
      "909:\tlearn: 2172.4993787\ttotal: 8m 59s\tremaining: 53.3s\n",
      "910:\tlearn: 2172.2808213\ttotal: 8m 59s\tremaining: 52.7s\n",
      "911:\tlearn: 2171.9864978\ttotal: 9m\tremaining: 52.1s\n",
      "912:\tlearn: 2171.5953358\ttotal: 9m\tremaining: 51.5s\n",
      "913:\tlearn: 2171.3388829\ttotal: 9m 1s\tremaining: 50.9s\n",
      "914:\tlearn: 2171.0844491\ttotal: 9m 1s\tremaining: 50.3s\n",
      "915:\tlearn: 2170.8549171\ttotal: 9m 3s\tremaining: 49.8s\n",
      "916:\tlearn: 2170.6061455\ttotal: 9m 4s\tremaining: 49.3s\n",
      "917:\tlearn: 2170.3435393\ttotal: 9m 5s\tremaining: 48.7s\n",
      "918:\tlearn: 2170.0665300\ttotal: 9m 5s\tremaining: 48.1s\n",
      "919:\tlearn: 2169.8049599\ttotal: 9m 6s\tremaining: 47.5s\n",
      "920:\tlearn: 2169.5761932\ttotal: 9m 6s\tremaining: 46.9s\n",
      "921:\tlearn: 2169.3779336\ttotal: 9m 7s\tremaining: 46.3s\n",
      "922:\tlearn: 2169.2073260\ttotal: 9m 7s\tremaining: 45.7s\n",
      "923:\tlearn: 2168.9027477\ttotal: 9m 7s\tremaining: 45.1s\n",
      "924:\tlearn: 2168.6979359\ttotal: 9m 8s\tremaining: 44.5s\n",
      "925:\tlearn: 2168.3693240\ttotal: 9m 9s\tremaining: 43.9s\n",
      "926:\tlearn: 2168.1441895\ttotal: 9m 11s\tremaining: 43.4s\n",
      "927:\tlearn: 2167.9879183\ttotal: 9m 11s\tremaining: 42.8s\n",
      "928:\tlearn: 2167.8276689\ttotal: 9m 12s\tremaining: 42.2s\n",
      "929:\tlearn: 2167.6013351\ttotal: 9m 12s\tremaining: 41.6s\n",
      "930:\tlearn: 2167.4270650\ttotal: 9m 13s\tremaining: 41s\n",
      "931:\tlearn: 2167.2161608\ttotal: 9m 13s\tremaining: 40.4s\n",
      "932:\tlearn: 2166.9398550\ttotal: 9m 14s\tremaining: 39.8s\n",
      "933:\tlearn: 2166.7258567\ttotal: 9m 14s\tremaining: 39.2s\n",
      "934:\tlearn: 2166.5903635\ttotal: 9m 15s\tremaining: 38.6s\n",
      "935:\tlearn: 2166.4666762\ttotal: 9m 16s\tremaining: 38.1s\n",
      "936:\tlearn: 2166.0569893\ttotal: 9m 17s\tremaining: 37.5s\n",
      "937:\tlearn: 2165.8454268\ttotal: 9m 18s\tremaining: 36.9s\n",
      "938:\tlearn: 2165.6321616\ttotal: 9m 19s\tremaining: 36.3s\n",
      "939:\tlearn: 2165.5164601\ttotal: 9m 19s\tremaining: 35.7s\n",
      "940:\tlearn: 2165.2652955\ttotal: 9m 20s\tremaining: 35.1s\n",
      "941:\tlearn: 2165.0834761\ttotal: 9m 20s\tremaining: 34.5s\n",
      "942:\tlearn: 2164.8065658\ttotal: 9m 21s\tremaining: 33.9s\n",
      "943:\tlearn: 2164.7034027\ttotal: 9m 21s\tremaining: 33.3s\n",
      "944:\tlearn: 2164.4859971\ttotal: 9m 22s\tremaining: 32.8s\n",
      "945:\tlearn: 2164.0707425\ttotal: 9m 24s\tremaining: 32.2s\n",
      "946:\tlearn: 2163.9414068\ttotal: 9m 24s\tremaining: 31.6s\n",
      "947:\tlearn: 2163.8672899\ttotal: 9m 25s\tremaining: 31s\n",
      "948:\tlearn: 2163.7256083\ttotal: 9m 25s\tremaining: 30.4s\n",
      "949:\tlearn: 2163.3349383\ttotal: 9m 25s\tremaining: 29.8s\n",
      "950:\tlearn: 2163.0747288\ttotal: 9m 26s\tremaining: 29.2s\n",
      "951:\tlearn: 2162.7980618\ttotal: 9m 26s\tremaining: 28.6s\n",
      "952:\tlearn: 2162.5833354\ttotal: 9m 27s\tremaining: 28s\n",
      "953:\tlearn: 2162.3553740\ttotal: 9m 27s\tremaining: 27.4s\n",
      "954:\tlearn: 2162.1852036\ttotal: 9m 28s\tremaining: 26.8s\n",
      "955:\tlearn: 2161.9368843\ttotal: 9m 29s\tremaining: 26.2s\n",
      "956:\tlearn: 2161.7038032\ttotal: 9m 30s\tremaining: 25.6s\n",
      "957:\tlearn: 2161.4543815\ttotal: 9m 31s\tremaining: 25s\n",
      "958:\tlearn: 2161.1785069\ttotal: 9m 31s\tremaining: 24.4s\n",
      "959:\tlearn: 2161.0013353\ttotal: 9m 32s\tremaining: 23.8s\n",
      "960:\tlearn: 2160.7558459\ttotal: 9m 32s\tremaining: 23.2s\n",
      "961:\tlearn: 2160.6384364\ttotal: 9m 33s\tremaining: 22.6s\n",
      "962:\tlearn: 2160.4606519\ttotal: 9m 33s\tremaining: 22s\n",
      "963:\tlearn: 2159.9998497\ttotal: 9m 34s\tremaining: 21.4s\n",
      "964:\tlearn: 2159.7915473\ttotal: 9m 34s\tremaining: 20.8s\n",
      "965:\tlearn: 2159.4806799\ttotal: 9m 35s\tremaining: 20.3s\n",
      "966:\tlearn: 2159.2794047\ttotal: 9m 37s\tremaining: 19.7s\n",
      "967:\tlearn: 2159.0130032\ttotal: 9m 38s\tremaining: 19.1s\n",
      "968:\tlearn: 2158.6682609\ttotal: 9m 38s\tremaining: 18.5s\n",
      "969:\tlearn: 2158.4978012\ttotal: 9m 39s\tremaining: 17.9s\n",
      "970:\tlearn: 2158.3561244\ttotal: 9m 39s\tremaining: 17.3s\n",
      "971:\tlearn: 2158.1172602\ttotal: 9m 39s\tremaining: 16.7s\n",
      "972:\tlearn: 2157.9567412\ttotal: 9m 40s\tremaining: 16.1s\n",
      "973:\tlearn: 2157.7292553\ttotal: 9m 40s\tremaining: 15.5s\n",
      "974:\tlearn: 2157.6015382\ttotal: 9m 41s\tremaining: 14.9s\n",
      "975:\tlearn: 2157.4947158\ttotal: 9m 41s\tremaining: 14.3s\n",
      "976:\tlearn: 2157.2778990\ttotal: 9m 41s\tremaining: 13.7s\n",
      "977:\tlearn: 2157.0750672\ttotal: 9m 43s\tremaining: 13.1s\n",
      "978:\tlearn: 2156.8725766\ttotal: 9m 44s\tremaining: 12.5s\n",
      "979:\tlearn: 2156.6823395\ttotal: 9m 45s\tremaining: 11.9s\n",
      "980:\tlearn: 2156.3528731\ttotal: 9m 45s\tremaining: 11.3s\n",
      "981:\tlearn: 2156.2848800\ttotal: 9m 46s\tremaining: 10.7s\n",
      "982:\tlearn: 2156.1747112\ttotal: 9m 46s\tremaining: 10.1s\n",
      "983:\tlearn: 2155.9622420\ttotal: 9m 46s\tremaining: 9.54s\n",
      "984:\tlearn: 2155.9401857\ttotal: 9m 47s\tremaining: 8.94s\n",
      "985:\tlearn: 2155.6945296\ttotal: 9m 47s\tremaining: 8.34s\n",
      "986:\tlearn: 2155.4914596\ttotal: 9m 48s\tremaining: 7.75s\n",
      "987:\tlearn: 2155.2626742\ttotal: 9m 48s\tremaining: 7.15s\n",
      "988:\tlearn: 2154.9026957\ttotal: 9m 49s\tremaining: 6.55s\n",
      "989:\tlearn: 2154.7379841\ttotal: 9m 49s\tremaining: 5.96s\n",
      "990:\tlearn: 2154.6474924\ttotal: 9m 50s\tremaining: 5.36s\n",
      "991:\tlearn: 2154.2504893\ttotal: 9m 51s\tremaining: 4.77s\n",
      "992:\tlearn: 2154.1701599\ttotal: 9m 52s\tremaining: 4.17s\n",
      "993:\tlearn: 2153.7994398\ttotal: 9m 53s\tremaining: 3.58s\n",
      "994:\tlearn: 2153.6320879\ttotal: 9m 53s\tremaining: 2.98s\n",
      "995:\tlearn: 2153.3791872\ttotal: 9m 54s\tremaining: 2.39s\n",
      "996:\tlearn: 2153.3081486\ttotal: 9m 54s\tremaining: 1.79s\n",
      "997:\tlearn: 2153.0515939\ttotal: 9m 55s\tremaining: 1.19s\n",
      "998:\tlearn: 2152.9451861\ttotal: 9m 55s\tremaining: 596ms\n",
      "999:\tlearn: 2152.8637726\ttotal: 9m 55s\tremaining: 0us\n"
     ]
    },
    {
     "data": {
      "text/plain": [
       "GridSearchCV(cv=3, error_score='raise-deprecating',\n",
       "       estimator=<catboost.core.CatBoostRegressor object at 0x0000000019126630>,\n",
       "       fit_params=None, iid='warn', n_jobs=5,\n",
       "       param_grid={'learning_rate': [0.1], 'depth': [10], 'l2_leaf_reg': [15]},\n",
       "       pre_dispatch='2*n_jobs', refit=True, return_train_score='warn',\n",
       "       scoring=None, verbose=True)"
      ]
     },
     "execution_count": 325,
     "metadata": {},
     "output_type": "execute_result"
    }
   ],
   "source": [
    "model.fit(X,y)"
   ]
  },
  {
   "cell_type": "code",
   "execution_count": 326,
   "metadata": {},
   "outputs": [],
   "source": [
    "y_test=model.predict(X_t)"
   ]
  },
  {
   "cell_type": "code",
   "execution_count": 327,
   "metadata": {},
   "outputs": [],
   "source": [
    "# print(model.get_best_score())\n",
    "# print(model.get_feature_importance())"
   ]
  },
  {
   "cell_type": "code",
   "execution_count": 328,
   "metadata": {},
   "outputs": [
    {
     "name": "stdout",
     "output_type": "stream",
     "text": [
      "Root Mean Square Value:  2391.629593327453\n"
     ]
    }
   ],
   "source": [
    "from sklearn.metrics import mean_squared_error\n",
    "mse=mean_squared_error(y_t,y_test)\n",
    "print('Root Mean Square Value: ',np.sqrt(mse))"
   ]
  },
  {
   "cell_type": "code",
   "execution_count": 329,
   "metadata": {},
   "outputs": [],
   "source": [
    "y_test_predict_c=model.predict(test)"
   ]
  },
  {
   "cell_type": "code",
   "execution_count": 330,
   "metadata": {},
   "outputs": [],
   "source": [
    "finalpred=pd.concat([test_cpy['User_ID'],test_cpy['Product_ID'],pd.DataFrame(y_test_predict_c,columns=['Purchase'])],1)\n",
    "finalpred.to_csv(\"catb.csv\",index=False)"
   ]
  },
  {
   "cell_type": "code",
   "execution_count": 331,
   "metadata": {},
   "outputs": [],
   "source": [
    "### Elastic Net"
   ]
  },
  {
   "cell_type": "code",
   "execution_count": 332,
   "metadata": {},
   "outputs": [
    {
     "name": "stdout",
     "output_type": "stream",
     "text": [
      "RMSE Error: 2542.314647201709\n"
     ]
    }
   ],
   "source": [
    "from sklearn.linear_model import ElasticNet\n",
    "\n",
    "regressor = ElasticNet(alpha = 0.05)\n",
    "regressor.fit(X, y)\n",
    "y_pred = regressor.predict(X_t)\n",
    "\n",
    "from sklearn.metrics import mean_squared_error\n",
    "# finding the mean_squared error\n",
    "mse = mean_squared_error(y_t, y_pred)\n",
    "print(\"RMSE Error:\", np.sqrt(mse))\n",
    "\n"
   ]
  },
  {
   "cell_type": "markdown",
   "metadata": {},
   "source": [
    "\n",
    "\n",
    "Creating 2 LightBoost Models both with different learning rates and different set of features for both of them\n",
    "\n",
    "   Light Boost model 1 (learning rate = 0.5), and features set = alist + blist (mentioned below)\n",
    "   \n",
    "   Light Boost model 2 (learinng rate = 0.8), and features set = alist + clist** (mentioned below)\n",
    "\n"
   ]
  },
  {
   "cell_type": "code",
   "execution_count": 665,
   "metadata": {},
   "outputs": [],
   "source": [
    "alist = ['Gender',\n",
    "'Age',\n",
    "'Occupation',\n",
    "'City_Category',\n",
    "'Stay_In_Current_City_Years',\n",
    "'Marital_Status',\n",
    "'Product_Category_1',\n",
    "'Product_Category_2',\n",
    "'Product_Category_3',\n",
    "'User_ID_Count',\n",
    "'Product_ID_Count']\n",
    "         \n",
    "blist = ['User_ID_MinPrice',\n",
    "'User_ID_MaxPrice',\n",
    "'User_ID_MeanPrice',\n",
    "'Product_ID_MinPrice',\n",
    "'Product_ID_MaxPrice',\n",
    "'Product_ID_MeanPrice']\n",
    "\n",
    "clist = ['User_ID_25PercPrice',\n",
    "'User_ID_75PercPrice',\n",
    "'Product_ID_25PercPrice',\n",
    "'Product_ID_75PercPrice',\n",
    "'Product_Category_1_Count',\n",
    "'Product_Category_2_Count',\n",
    "'Product_Category_3_Count',]\n"
   ]
  },
  {
   "cell_type": "code",
   "execution_count": 666,
   "metadata": {},
   "outputs": [],
   "source": [
    "#XGB model 1 dataframe\n",
    "train1 = train[alist+blist]\n",
    "test1 = test[alist+blist]\n",
    "\n",
    "#XGB model 2 dataframe \n",
    "train2 = train[alist+clist]\n",
    "test2 = test[alist+clist]"
   ]
  },
  {
   "cell_type": "code",
   "execution_count": 667,
   "metadata": {},
   "outputs": [],
   "source": [
    "# train1_x=train1.drop(['Purchase'],axis=1)\n",
    "# train_1_y=train1['Purchase']"
   ]
  },
  {
   "cell_type": "code",
   "execution_count": 723,
   "metadata": {},
   "outputs": [],
   "source": [
    "mod_1=lgb.LGBMRegressor(learning_rate=[.2],importance_type='gain')\n",
    "mod_2=lgb.LGBMRegressor(learning_rate=[.4],importance_type='gain')"
   ]
  },
  {
   "cell_type": "code",
   "execution_count": null,
   "metadata": {},
   "outputs": [],
   "source": []
  },
  {
   "cell_type": "code",
   "execution_count": 702,
   "metadata": {},
   "outputs": [],
   "source": [
    "X_train,X_test,Y_train,Y_test = train_test_split(train1,y,test_size=0.2,random_state=42)"
   ]
  },
  {
   "cell_type": "code",
   "execution_count": 703,
   "metadata": {},
   "outputs": [],
   "source": [
    "# params={'num_leaves':[200], 'objective':['regression'],'max_depth':[15],'learning_rate':[.5],'max_bin':[200]}"
   ]
  },
  {
   "cell_type": "code",
   "execution_count": 704,
   "metadata": {},
   "outputs": [],
   "source": [
    "# mod_1 = GridSearchCV(lgbm_mod1,\n",
    "#                         params,\n",
    "#                         cv = 3,\n",
    "#                         n_jobs = 5,\n",
    "#                         verbose=True)\n"
   ]
  },
  {
   "cell_type": "code",
   "execution_count": 705,
   "metadata": {},
   "outputs": [
    {
     "data": {
      "text/plain": [
       "LGBMRegressor(boosting_type='gbdt', class_weight=None, colsample_bytree=1.0,\n",
       "       importance_type='gain', learning_rate=[0.2], max_depth=-1,\n",
       "       min_child_samples=20, min_child_weight=0.001, min_split_gain=0.0,\n",
       "       n_estimators=100, n_jobs=-1, num_leaves=31, objective=None,\n",
       "       random_state=None, reg_alpha=0.0, reg_lambda=0.0, silent=True,\n",
       "       subsample=1.0, subsample_for_bin=200000, subsample_freq=0)"
      ]
     },
     "execution_count": 705,
     "metadata": {},
     "output_type": "execute_result"
    }
   ],
   "source": [
    "mod_1.fit(X_train,Y_train)"
   ]
  },
  {
   "cell_type": "code",
   "execution_count": 706,
   "metadata": {},
   "outputs": [],
   "source": [
    "y_test=mod_1.predict(X_test)"
   ]
  },
  {
   "cell_type": "code",
   "execution_count": 707,
   "metadata": {},
   "outputs": [
    {
     "name": "stdout",
     "output_type": "stream",
     "text": [
      "Root Mean Square Value:  2453.1635354670116\n"
     ]
    }
   ],
   "source": [
    "from sklearn.metrics import mean_squared_error\n",
    "mse=mean_squared_error(Y_test,y_test)\n",
    "print('Root Mean Square Value: ',np.sqrt(mse))"
   ]
  },
  {
   "cell_type": "code",
   "execution_count": 708,
   "metadata": {},
   "outputs": [
    {
     "data": {
      "text/html": [
       "<style  type=\"text/css\" >\n",
       "    #T_3ed399b8_cff8_11ea_a8c1_180373a62a38row0_col0 {\n",
       "            font-size:  10pt;\n",
       "        }    #T_3ed399b8_cff8_11ea_a8c1_180373a62a38row0_col1 {\n",
       "            font-size:  10pt;\n",
       "        }    #T_3ed399b8_cff8_11ea_a8c1_180373a62a38row1_col0 {\n",
       "            font-size:  10pt;\n",
       "        }    #T_3ed399b8_cff8_11ea_a8c1_180373a62a38row1_col1 {\n",
       "            font-size:  10pt;\n",
       "        }    #T_3ed399b8_cff8_11ea_a8c1_180373a62a38row2_col0 {\n",
       "            font-size:  10pt;\n",
       "        }    #T_3ed399b8_cff8_11ea_a8c1_180373a62a38row2_col1 {\n",
       "            font-size:  10pt;\n",
       "        }    #T_3ed399b8_cff8_11ea_a8c1_180373a62a38row3_col0 {\n",
       "            font-size:  10pt;\n",
       "        }    #T_3ed399b8_cff8_11ea_a8c1_180373a62a38row3_col1 {\n",
       "            font-size:  10pt;\n",
       "        }    #T_3ed399b8_cff8_11ea_a8c1_180373a62a38row4_col0 {\n",
       "            font-size:  10pt;\n",
       "        }    #T_3ed399b8_cff8_11ea_a8c1_180373a62a38row4_col1 {\n",
       "            font-size:  10pt;\n",
       "        }    #T_3ed399b8_cff8_11ea_a8c1_180373a62a38row5_col0 {\n",
       "            font-size:  10pt;\n",
       "        }    #T_3ed399b8_cff8_11ea_a8c1_180373a62a38row5_col1 {\n",
       "            font-size:  10pt;\n",
       "        }    #T_3ed399b8_cff8_11ea_a8c1_180373a62a38row6_col0 {\n",
       "            font-size:  10pt;\n",
       "        }    #T_3ed399b8_cff8_11ea_a8c1_180373a62a38row6_col1 {\n",
       "            font-size:  10pt;\n",
       "        }    #T_3ed399b8_cff8_11ea_a8c1_180373a62a38row7_col0 {\n",
       "            font-size:  10pt;\n",
       "        }    #T_3ed399b8_cff8_11ea_a8c1_180373a62a38row7_col1 {\n",
       "            font-size:  10pt;\n",
       "        }    #T_3ed399b8_cff8_11ea_a8c1_180373a62a38row8_col0 {\n",
       "            font-size:  10pt;\n",
       "        }    #T_3ed399b8_cff8_11ea_a8c1_180373a62a38row8_col1 {\n",
       "            font-size:  10pt;\n",
       "        }    #T_3ed399b8_cff8_11ea_a8c1_180373a62a38row9_col0 {\n",
       "            font-size:  10pt;\n",
       "        }    #T_3ed399b8_cff8_11ea_a8c1_180373a62a38row9_col1 {\n",
       "            font-size:  10pt;\n",
       "        }    #T_3ed399b8_cff8_11ea_a8c1_180373a62a38row10_col0 {\n",
       "            font-size:  10pt;\n",
       "        }    #T_3ed399b8_cff8_11ea_a8c1_180373a62a38row10_col1 {\n",
       "            font-size:  10pt;\n",
       "        }    #T_3ed399b8_cff8_11ea_a8c1_180373a62a38row11_col0 {\n",
       "            font-size:  10pt;\n",
       "        }    #T_3ed399b8_cff8_11ea_a8c1_180373a62a38row11_col1 {\n",
       "            font-size:  10pt;\n",
       "        }    #T_3ed399b8_cff8_11ea_a8c1_180373a62a38row12_col0 {\n",
       "            font-size:  10pt;\n",
       "        }    #T_3ed399b8_cff8_11ea_a8c1_180373a62a38row12_col1 {\n",
       "            font-size:  10pt;\n",
       "        }    #T_3ed399b8_cff8_11ea_a8c1_180373a62a38row13_col0 {\n",
       "            font-size:  10pt;\n",
       "        }    #T_3ed399b8_cff8_11ea_a8c1_180373a62a38row13_col1 {\n",
       "            font-size:  10pt;\n",
       "        }    #T_3ed399b8_cff8_11ea_a8c1_180373a62a38row14_col0 {\n",
       "            font-size:  10pt;\n",
       "        }    #T_3ed399b8_cff8_11ea_a8c1_180373a62a38row14_col1 {\n",
       "            font-size:  10pt;\n",
       "        }    #T_3ed399b8_cff8_11ea_a8c1_180373a62a38row15_col0 {\n",
       "            font-size:  10pt;\n",
       "        }    #T_3ed399b8_cff8_11ea_a8c1_180373a62a38row15_col1 {\n",
       "            font-size:  10pt;\n",
       "        }    #T_3ed399b8_cff8_11ea_a8c1_180373a62a38row16_col0 {\n",
       "            font-size:  10pt;\n",
       "        }    #T_3ed399b8_cff8_11ea_a8c1_180373a62a38row16_col1 {\n",
       "            font-size:  10pt;\n",
       "        }</style><table id=\"T_3ed399b8_cff8_11ea_a8c1_180373a62a38\" ><thead>    <tr>        <th class=\"blank level0\" ></th>        <th class=\"col_heading level0 col0\" >Features</th>        <th class=\"col_heading level0 col1\" >Importance (%)</th>    </tr></thead><tbody>\n",
       "                <tr>\n",
       "                        <th id=\"T_3ed399b8_cff8_11ea_a8c1_180373a62a38level0_row0\" class=\"row_heading level0 row0\" >0</th>\n",
       "                        <td id=\"T_3ed399b8_cff8_11ea_a8c1_180373a62a38row0_col0\" class=\"data row0 col0\" >Product_ID_MeanPrice</td>\n",
       "                        <td id=\"T_3ed399b8_cff8_11ea_a8c1_180373a62a38row0_col1\" class=\"data row0 col1\" >93.9</td>\n",
       "            </tr>\n",
       "            <tr>\n",
       "                        <th id=\"T_3ed399b8_cff8_11ea_a8c1_180373a62a38level0_row1\" class=\"row_heading level0 row1\" >1</th>\n",
       "                        <td id=\"T_3ed399b8_cff8_11ea_a8c1_180373a62a38row1_col0\" class=\"data row1 col0\" >User_ID_MeanPrice</td>\n",
       "                        <td id=\"T_3ed399b8_cff8_11ea_a8c1_180373a62a38row1_col1\" class=\"data row1 col1\" >3.69</td>\n",
       "            </tr>\n",
       "            <tr>\n",
       "                        <th id=\"T_3ed399b8_cff8_11ea_a8c1_180373a62a38level0_row2\" class=\"row_heading level0 row2\" >2</th>\n",
       "                        <td id=\"T_3ed399b8_cff8_11ea_a8c1_180373a62a38row2_col0\" class=\"data row2 col0\" >User_ID_Count</td>\n",
       "                        <td id=\"T_3ed399b8_cff8_11ea_a8c1_180373a62a38row2_col1\" class=\"data row2 col1\" >0.57</td>\n",
       "            </tr>\n",
       "            <tr>\n",
       "                        <th id=\"T_3ed399b8_cff8_11ea_a8c1_180373a62a38level0_row3\" class=\"row_heading level0 row3\" >3</th>\n",
       "                        <td id=\"T_3ed399b8_cff8_11ea_a8c1_180373a62a38row3_col0\" class=\"data row3 col0\" >User_ID_MaxPrice</td>\n",
       "                        <td id=\"T_3ed399b8_cff8_11ea_a8c1_180373a62a38row3_col1\" class=\"data row3 col1\" >0.54</td>\n",
       "            </tr>\n",
       "            <tr>\n",
       "                        <th id=\"T_3ed399b8_cff8_11ea_a8c1_180373a62a38level0_row4\" class=\"row_heading level0 row4\" >4</th>\n",
       "                        <td id=\"T_3ed399b8_cff8_11ea_a8c1_180373a62a38row4_col0\" class=\"data row4 col0\" >Product_ID_MaxPrice</td>\n",
       "                        <td id=\"T_3ed399b8_cff8_11ea_a8c1_180373a62a38row4_col1\" class=\"data row4 col1\" >0.3</td>\n",
       "            </tr>\n",
       "            <tr>\n",
       "                        <th id=\"T_3ed399b8_cff8_11ea_a8c1_180373a62a38level0_row5\" class=\"row_heading level0 row5\" >5</th>\n",
       "                        <td id=\"T_3ed399b8_cff8_11ea_a8c1_180373a62a38row5_col0\" class=\"data row5 col0\" >User_ID_MinPrice</td>\n",
       "                        <td id=\"T_3ed399b8_cff8_11ea_a8c1_180373a62a38row5_col1\" class=\"data row5 col1\" >0.21</td>\n",
       "            </tr>\n",
       "            <tr>\n",
       "                        <th id=\"T_3ed399b8_cff8_11ea_a8c1_180373a62a38level0_row6\" class=\"row_heading level0 row6\" >6</th>\n",
       "                        <td id=\"T_3ed399b8_cff8_11ea_a8c1_180373a62a38row6_col0\" class=\"data row6 col0\" >Product_ID_MinPrice</td>\n",
       "                        <td id=\"T_3ed399b8_cff8_11ea_a8c1_180373a62a38row6_col1\" class=\"data row6 col1\" >0.12</td>\n",
       "            </tr>\n",
       "            <tr>\n",
       "                        <th id=\"T_3ed399b8_cff8_11ea_a8c1_180373a62a38level0_row7\" class=\"row_heading level0 row7\" >7</th>\n",
       "                        <td id=\"T_3ed399b8_cff8_11ea_a8c1_180373a62a38row7_col0\" class=\"data row7 col0\" >Age</td>\n",
       "                        <td id=\"T_3ed399b8_cff8_11ea_a8c1_180373a62a38row7_col1\" class=\"data row7 col1\" >0.11</td>\n",
       "            </tr>\n",
       "            <tr>\n",
       "                        <th id=\"T_3ed399b8_cff8_11ea_a8c1_180373a62a38level0_row8\" class=\"row_heading level0 row8\" >8</th>\n",
       "                        <td id=\"T_3ed399b8_cff8_11ea_a8c1_180373a62a38row8_col0\" class=\"data row8 col0\" >Gender</td>\n",
       "                        <td id=\"T_3ed399b8_cff8_11ea_a8c1_180373a62a38row8_col1\" class=\"data row8 col1\" >0.11</td>\n",
       "            </tr>\n",
       "            <tr>\n",
       "                        <th id=\"T_3ed399b8_cff8_11ea_a8c1_180373a62a38level0_row9\" class=\"row_heading level0 row9\" >9</th>\n",
       "                        <td id=\"T_3ed399b8_cff8_11ea_a8c1_180373a62a38row9_col0\" class=\"data row9 col0\" >Product_ID_Count</td>\n",
       "                        <td id=\"T_3ed399b8_cff8_11ea_a8c1_180373a62a38row9_col1\" class=\"data row9 col1\" >0.1</td>\n",
       "            </tr>\n",
       "            <tr>\n",
       "                        <th id=\"T_3ed399b8_cff8_11ea_a8c1_180373a62a38level0_row10\" class=\"row_heading level0 row10\" >10</th>\n",
       "                        <td id=\"T_3ed399b8_cff8_11ea_a8c1_180373a62a38row10_col0\" class=\"data row10 col0\" >Occupation</td>\n",
       "                        <td id=\"T_3ed399b8_cff8_11ea_a8c1_180373a62a38row10_col1\" class=\"data row10 col1\" >0.1</td>\n",
       "            </tr>\n",
       "            <tr>\n",
       "                        <th id=\"T_3ed399b8_cff8_11ea_a8c1_180373a62a38level0_row11\" class=\"row_heading level0 row11\" >11</th>\n",
       "                        <td id=\"T_3ed399b8_cff8_11ea_a8c1_180373a62a38row11_col0\" class=\"data row11 col0\" >Product_Category_1</td>\n",
       "                        <td id=\"T_3ed399b8_cff8_11ea_a8c1_180373a62a38row11_col1\" class=\"data row11 col1\" >0.09</td>\n",
       "            </tr>\n",
       "            <tr>\n",
       "                        <th id=\"T_3ed399b8_cff8_11ea_a8c1_180373a62a38level0_row12\" class=\"row_heading level0 row12\" >12</th>\n",
       "                        <td id=\"T_3ed399b8_cff8_11ea_a8c1_180373a62a38row12_col0\" class=\"data row12 col0\" >Stay_In_Current_City_Years</td>\n",
       "                        <td id=\"T_3ed399b8_cff8_11ea_a8c1_180373a62a38row12_col1\" class=\"data row12 col1\" >0.04</td>\n",
       "            </tr>\n",
       "            <tr>\n",
       "                        <th id=\"T_3ed399b8_cff8_11ea_a8c1_180373a62a38level0_row13\" class=\"row_heading level0 row13\" >13</th>\n",
       "                        <td id=\"T_3ed399b8_cff8_11ea_a8c1_180373a62a38row13_col0\" class=\"data row13 col0\" >City_Category</td>\n",
       "                        <td id=\"T_3ed399b8_cff8_11ea_a8c1_180373a62a38row13_col1\" class=\"data row13 col1\" >0.04</td>\n",
       "            </tr>\n",
       "            <tr>\n",
       "                        <th id=\"T_3ed399b8_cff8_11ea_a8c1_180373a62a38level0_row14\" class=\"row_heading level0 row14\" >14</th>\n",
       "                        <td id=\"T_3ed399b8_cff8_11ea_a8c1_180373a62a38row14_col0\" class=\"data row14 col0\" >Product_Category_2</td>\n",
       "                        <td id=\"T_3ed399b8_cff8_11ea_a8c1_180373a62a38row14_col1\" class=\"data row14 col1\" >0.03</td>\n",
       "            </tr>\n",
       "            <tr>\n",
       "                        <th id=\"T_3ed399b8_cff8_11ea_a8c1_180373a62a38level0_row15\" class=\"row_heading level0 row15\" >15</th>\n",
       "                        <td id=\"T_3ed399b8_cff8_11ea_a8c1_180373a62a38row15_col0\" class=\"data row15 col0\" >Product_Category_3</td>\n",
       "                        <td id=\"T_3ed399b8_cff8_11ea_a8c1_180373a62a38row15_col1\" class=\"data row15 col1\" >0.03</td>\n",
       "            </tr>\n",
       "            <tr>\n",
       "                        <th id=\"T_3ed399b8_cff8_11ea_a8c1_180373a62a38level0_row16\" class=\"row_heading level0 row16\" >16</th>\n",
       "                        <td id=\"T_3ed399b8_cff8_11ea_a8c1_180373a62a38row16_col0\" class=\"data row16 col0\" >Marital_Status</td>\n",
       "                        <td id=\"T_3ed399b8_cff8_11ea_a8c1_180373a62a38row16_col1\" class=\"data row16 col1\" >0.02</td>\n",
       "            </tr>\n",
       "    </tbody></table>"
      ],
      "text/plain": [
       "<pandas.io.formats.style.Styler at 0x18b409b0>"
      ]
     },
     "execution_count": 708,
     "metadata": {},
     "output_type": "execute_result"
    }
   ],
   "source": [
    "# feature_important \n",
    "\n",
    "feature_important = pd.DataFrame({'Features':X_train.columns,'Importance':mod_1.feature_importances_})\n",
    "\n",
    "keys = list(X_train.columns)\n",
    "values = list(mod_1.feature_importances_)\n",
    "total = sum(values)\n",
    "new = [value * 100. / total for value in values]\n",
    "new = np.round(new,2)\n",
    "\n",
    "feature_importances = pd.DataFrame()\n",
    "feature_importances['Features'] = keys\n",
    "feature_importances['Importance (%)'] = new\n",
    "\n",
    "\n",
    "feature_importances = feature_importances.sort_values(['Importance (%)'],ascending=False).reset_index(drop=True)\n",
    "feature_importances\n",
    "feature_importances.style.set_properties(**{'font-size':'10pt'})"
   ]
  },
  {
   "cell_type": "code",
   "execution_count": 709,
   "metadata": {},
   "outputs": [
    {
     "data": {
      "text/plain": [
       "Text(0, 0.5, 'Features')"
      ]
     },
     "execution_count": 709,
     "metadata": {},
     "output_type": "execute_result"
    },
    {
     "data": {
      "image/png": "[encoded data removed]",
      "text/plain": [
       "<Figure size 1440x576 with 1 Axes>"
      ]
     },
     "metadata": {
      "needs_background": "light"
     },
     "output_type": "display_data"
    }
   ],
   "source": [
    "plt.figure(figsize=(20, 8))\n",
    "sns.barplot(data=feature_importances, x='Importance (%)', y='Features');\n",
    "plt.title('Feature importance',fontsize=24)\n",
    "plt.xlabel('Importance (%)',fontsize=20)\n",
    "plt.yticks(fontsize=15)\n",
    "plt.xticks(fontsize=15)\n",
    "plt.ylabel('Features',fontsize=20)"
   ]
  },
  {
   "cell_type": "code",
   "execution_count": 710,
   "metadata": {},
   "outputs": [],
   "source": [
    "#prediction1\n",
    "pred_lgbm_m1 = mod_1.predict(test1)\n",
    "sub=pd.concat([test_cpy['User_ID'],test_cpy['Product_ID'],pd.DataFrame(pred_lgbm_m1,columns=['Purchase'])],1)\n",
    "sub.to_csv('lgbm_mod1.csv',index=False)"
   ]
  },
  {
   "cell_type": "code",
   "execution_count": 733,
   "metadata": {},
   "outputs": [],
   "source": [
    "X_train,X_test,Y_train,Y_test = train_test_split(train2,y,test_size=0.2,random_state=42)"
   ]
  },
  {
   "cell_type": "code",
   "execution_count": 734,
   "metadata": {},
   "outputs": [
    {
     "data": {
      "text/plain": [
       "LGBMRegressor(boosting_type='gbdt', class_weight=None, colsample_bytree=1.0,\n",
       "       importance_type='gain', learning_rate=[0.3], max_depth=-1,\n",
       "       min_child_samples=20, min_child_weight=0.001, min_split_gain=0.0,\n",
       "       n_estimators=100, n_jobs=-1, num_leaves=31, objective=None,\n",
       "       random_state=None, reg_alpha=0.0, reg_lambda=0.0, silent=True,\n",
       "       subsample=1.0, subsample_for_bin=200000, subsample_freq=0)"
      ]
     },
     "execution_count": 734,
     "metadata": {},
     "output_type": "execute_result"
    }
   ],
   "source": [
    "mod_2.fit(X_train,Y_train)"
   ]
  },
  {
   "cell_type": "code",
   "execution_count": 735,
   "metadata": {},
   "outputs": [],
   "source": [
    "y_test=mod_2.predict(X_test)"
   ]
  },
  {
   "cell_type": "code",
   "execution_count": 736,
   "metadata": {},
   "outputs": [
    {
     "name": "stdout",
     "output_type": "stream",
     "text": [
      "Root Mean Square Value:  2456.1426502437566\n"
     ]
    }
   ],
   "source": [
    "from sklearn.metrics import mean_squared_error\n",
    "mse=mean_squared_error(Y_test,y_test)\n",
    "print('Root Mean Square Value: ',np.sqrt(mse))"
   ]
  },
  {
   "cell_type": "code",
   "execution_count": 737,
   "metadata": {},
   "outputs": [
    {
     "data": {
      "text/html": [
       "<style  type=\"text/css\" >\n",
       "    #T_b5af36b0_cff8_11ea_aa5a_180373a62a38row0_col0 {\n",
       "            font-size:  10pt;\n",
       "        }    #T_b5af36b0_cff8_11ea_aa5a_180373a62a38row0_col1 {\n",
       "            font-size:  10pt;\n",
       "        }    #T_b5af36b0_cff8_11ea_aa5a_180373a62a38row1_col0 {\n",
       "            font-size:  10pt;\n",
       "        }    #T_b5af36b0_cff8_11ea_aa5a_180373a62a38row1_col1 {\n",
       "            font-size:  10pt;\n",
       "        }    #T_b5af36b0_cff8_11ea_aa5a_180373a62a38row2_col0 {\n",
       "            font-size:  10pt;\n",
       "        }    #T_b5af36b0_cff8_11ea_aa5a_180373a62a38row2_col1 {\n",
       "            font-size:  10pt;\n",
       "        }    #T_b5af36b0_cff8_11ea_aa5a_180373a62a38row3_col0 {\n",
       "            font-size:  10pt;\n",
       "        }    #T_b5af36b0_cff8_11ea_aa5a_180373a62a38row3_col1 {\n",
       "            font-size:  10pt;\n",
       "        }    #T_b5af36b0_cff8_11ea_aa5a_180373a62a38row4_col0 {\n",
       "            font-size:  10pt;\n",
       "        }    #T_b5af36b0_cff8_11ea_aa5a_180373a62a38row4_col1 {\n",
       "            font-size:  10pt;\n",
       "        }    #T_b5af36b0_cff8_11ea_aa5a_180373a62a38row5_col0 {\n",
       "            font-size:  10pt;\n",
       "        }    #T_b5af36b0_cff8_11ea_aa5a_180373a62a38row5_col1 {\n",
       "            font-size:  10pt;\n",
       "        }    #T_b5af36b0_cff8_11ea_aa5a_180373a62a38row6_col0 {\n",
       "            font-size:  10pt;\n",
       "        }    #T_b5af36b0_cff8_11ea_aa5a_180373a62a38row6_col1 {\n",
       "            font-size:  10pt;\n",
       "        }    #T_b5af36b0_cff8_11ea_aa5a_180373a62a38row7_col0 {\n",
       "            font-size:  10pt;\n",
       "        }    #T_b5af36b0_cff8_11ea_aa5a_180373a62a38row7_col1 {\n",
       "            font-size:  10pt;\n",
       "        }    #T_b5af36b0_cff8_11ea_aa5a_180373a62a38row8_col0 {\n",
       "            font-size:  10pt;\n",
       "        }    #T_b5af36b0_cff8_11ea_aa5a_180373a62a38row8_col1 {\n",
       "            font-size:  10pt;\n",
       "        }    #T_b5af36b0_cff8_11ea_aa5a_180373a62a38row9_col0 {\n",
       "            font-size:  10pt;\n",
       "        }    #T_b5af36b0_cff8_11ea_aa5a_180373a62a38row9_col1 {\n",
       "            font-size:  10pt;\n",
       "        }    #T_b5af36b0_cff8_11ea_aa5a_180373a62a38row10_col0 {\n",
       "            font-size:  10pt;\n",
       "        }    #T_b5af36b0_cff8_11ea_aa5a_180373a62a38row10_col1 {\n",
       "            font-size:  10pt;\n",
       "        }    #T_b5af36b0_cff8_11ea_aa5a_180373a62a38row11_col0 {\n",
       "            font-size:  10pt;\n",
       "        }    #T_b5af36b0_cff8_11ea_aa5a_180373a62a38row11_col1 {\n",
       "            font-size:  10pt;\n",
       "        }    #T_b5af36b0_cff8_11ea_aa5a_180373a62a38row12_col0 {\n",
       "            font-size:  10pt;\n",
       "        }    #T_b5af36b0_cff8_11ea_aa5a_180373a62a38row12_col1 {\n",
       "            font-size:  10pt;\n",
       "        }    #T_b5af36b0_cff8_11ea_aa5a_180373a62a38row13_col0 {\n",
       "            font-size:  10pt;\n",
       "        }    #T_b5af36b0_cff8_11ea_aa5a_180373a62a38row13_col1 {\n",
       "            font-size:  10pt;\n",
       "        }    #T_b5af36b0_cff8_11ea_aa5a_180373a62a38row14_col0 {\n",
       "            font-size:  10pt;\n",
       "        }    #T_b5af36b0_cff8_11ea_aa5a_180373a62a38row14_col1 {\n",
       "            font-size:  10pt;\n",
       "        }    #T_b5af36b0_cff8_11ea_aa5a_180373a62a38row15_col0 {\n",
       "            font-size:  10pt;\n",
       "        }    #T_b5af36b0_cff8_11ea_aa5a_180373a62a38row15_col1 {\n",
       "            font-size:  10pt;\n",
       "        }    #T_b5af36b0_cff8_11ea_aa5a_180373a62a38row16_col0 {\n",
       "            font-size:  10pt;\n",
       "        }    #T_b5af36b0_cff8_11ea_aa5a_180373a62a38row16_col1 {\n",
       "            font-size:  10pt;\n",
       "        }    #T_b5af36b0_cff8_11ea_aa5a_180373a62a38row17_col0 {\n",
       "            font-size:  10pt;\n",
       "        }    #T_b5af36b0_cff8_11ea_aa5a_180373a62a38row17_col1 {\n",
       "            font-size:  10pt;\n",
       "        }</style><table id=\"T_b5af36b0_cff8_11ea_aa5a_180373a62a38\" ><thead>    <tr>        <th class=\"blank level0\" ></th>        <th class=\"col_heading level0 col0\" >Features</th>        <th class=\"col_heading level0 col1\" >Importance (%)</th>    </tr></thead><tbody>\n",
       "                <tr>\n",
       "                        <th id=\"T_b5af36b0_cff8_11ea_aa5a_180373a62a38level0_row0\" class=\"row_heading level0 row0\" >0</th>\n",
       "                        <td id=\"T_b5af36b0_cff8_11ea_aa5a_180373a62a38row0_col0\" class=\"data row0 col0\" >Product_ID_75PercPrice</td>\n",
       "                        <td id=\"T_b5af36b0_cff8_11ea_aa5a_180373a62a38row0_col1\" class=\"data row0 col1\" >77.45</td>\n",
       "            </tr>\n",
       "            <tr>\n",
       "                        <th id=\"T_b5af36b0_cff8_11ea_aa5a_180373a62a38level0_row1\" class=\"row_heading level0 row1\" >1</th>\n",
       "                        <td id=\"T_b5af36b0_cff8_11ea_aa5a_180373a62a38row1_col0\" class=\"data row1 col0\" >Product_ID_25PercPrice</td>\n",
       "                        <td id=\"T_b5af36b0_cff8_11ea_aa5a_180373a62a38row1_col1\" class=\"data row1 col1\" >16.2</td>\n",
       "            </tr>\n",
       "            <tr>\n",
       "                        <th id=\"T_b5af36b0_cff8_11ea_aa5a_180373a62a38level0_row2\" class=\"row_heading level0 row2\" >2</th>\n",
       "                        <td id=\"T_b5af36b0_cff8_11ea_aa5a_180373a62a38row2_col0\" class=\"data row2 col0\" >User_ID_75PercPrice</td>\n",
       "                        <td id=\"T_b5af36b0_cff8_11ea_aa5a_180373a62a38row2_col1\" class=\"data row2 col1\" >2.53</td>\n",
       "            </tr>\n",
       "            <tr>\n",
       "                        <th id=\"T_b5af36b0_cff8_11ea_aa5a_180373a62a38level0_row3\" class=\"row_heading level0 row3\" >3</th>\n",
       "                        <td id=\"T_b5af36b0_cff8_11ea_aa5a_180373a62a38row3_col0\" class=\"data row3 col0\" >User_ID_25PercPrice</td>\n",
       "                        <td id=\"T_b5af36b0_cff8_11ea_aa5a_180373a62a38row3_col1\" class=\"data row3 col1\" >2.22</td>\n",
       "            </tr>\n",
       "            <tr>\n",
       "                        <th id=\"T_b5af36b0_cff8_11ea_aa5a_180373a62a38level0_row4\" class=\"row_heading level0 row4\" >4</th>\n",
       "                        <td id=\"T_b5af36b0_cff8_11ea_aa5a_180373a62a38row4_col0\" class=\"data row4 col0\" >User_ID_Count</td>\n",
       "                        <td id=\"T_b5af36b0_cff8_11ea_aa5a_180373a62a38row4_col1\" class=\"data row4 col1\" >0.54</td>\n",
       "            </tr>\n",
       "            <tr>\n",
       "                        <th id=\"T_b5af36b0_cff8_11ea_aa5a_180373a62a38level0_row5\" class=\"row_heading level0 row5\" >5</th>\n",
       "                        <td id=\"T_b5af36b0_cff8_11ea_aa5a_180373a62a38row5_col0\" class=\"data row5 col0\" >Product_Category_1</td>\n",
       "                        <td id=\"T_b5af36b0_cff8_11ea_aa5a_180373a62a38row5_col1\" class=\"data row5 col1\" >0.18</td>\n",
       "            </tr>\n",
       "            <tr>\n",
       "                        <th id=\"T_b5af36b0_cff8_11ea_aa5a_180373a62a38level0_row6\" class=\"row_heading level0 row6\" >6</th>\n",
       "                        <td id=\"T_b5af36b0_cff8_11ea_aa5a_180373a62a38row6_col0\" class=\"data row6 col0\" >Product_ID_Count</td>\n",
       "                        <td id=\"T_b5af36b0_cff8_11ea_aa5a_180373a62a38row6_col1\" class=\"data row6 col1\" >0.18</td>\n",
       "            </tr>\n",
       "            <tr>\n",
       "                        <th id=\"T_b5af36b0_cff8_11ea_aa5a_180373a62a38level0_row7\" class=\"row_heading level0 row7\" >7</th>\n",
       "                        <td id=\"T_b5af36b0_cff8_11ea_aa5a_180373a62a38row7_col0\" class=\"data row7 col0\" >Age</td>\n",
       "                        <td id=\"T_b5af36b0_cff8_11ea_aa5a_180373a62a38row7_col1\" class=\"data row7 col1\" >0.14</td>\n",
       "            </tr>\n",
       "            <tr>\n",
       "                        <th id=\"T_b5af36b0_cff8_11ea_aa5a_180373a62a38level0_row8\" class=\"row_heading level0 row8\" >8</th>\n",
       "                        <td id=\"T_b5af36b0_cff8_11ea_aa5a_180373a62a38row8_col0\" class=\"data row8 col0\" >Occupation</td>\n",
       "                        <td id=\"T_b5af36b0_cff8_11ea_aa5a_180373a62a38row8_col1\" class=\"data row8 col1\" >0.12</td>\n",
       "            </tr>\n",
       "            <tr>\n",
       "                        <th id=\"T_b5af36b0_cff8_11ea_aa5a_180373a62a38level0_row9\" class=\"row_heading level0 row9\" >9</th>\n",
       "                        <td id=\"T_b5af36b0_cff8_11ea_aa5a_180373a62a38row9_col0\" class=\"data row9 col0\" >Gender</td>\n",
       "                        <td id=\"T_b5af36b0_cff8_11ea_aa5a_180373a62a38row9_col1\" class=\"data row9 col1\" >0.09</td>\n",
       "            </tr>\n",
       "            <tr>\n",
       "                        <th id=\"T_b5af36b0_cff8_11ea_aa5a_180373a62a38level0_row10\" class=\"row_heading level0 row10\" >10</th>\n",
       "                        <td id=\"T_b5af36b0_cff8_11ea_aa5a_180373a62a38row10_col0\" class=\"data row10 col0\" >Product_Category_1_Count</td>\n",
       "                        <td id=\"T_b5af36b0_cff8_11ea_aa5a_180373a62a38row10_col1\" class=\"data row10 col1\" >0.07</td>\n",
       "            </tr>\n",
       "            <tr>\n",
       "                        <th id=\"T_b5af36b0_cff8_11ea_aa5a_180373a62a38level0_row11\" class=\"row_heading level0 row11\" >11</th>\n",
       "                        <td id=\"T_b5af36b0_cff8_11ea_aa5a_180373a62a38row11_col0\" class=\"data row11 col0\" >City_Category</td>\n",
       "                        <td id=\"T_b5af36b0_cff8_11ea_aa5a_180373a62a38row11_col1\" class=\"data row11 col1\" >0.06</td>\n",
       "            </tr>\n",
       "            <tr>\n",
       "                        <th id=\"T_b5af36b0_cff8_11ea_aa5a_180373a62a38level0_row12\" class=\"row_heading level0 row12\" >12</th>\n",
       "                        <td id=\"T_b5af36b0_cff8_11ea_aa5a_180373a62a38row12_col0\" class=\"data row12 col0\" >Product_Category_2</td>\n",
       "                        <td id=\"T_b5af36b0_cff8_11ea_aa5a_180373a62a38row12_col1\" class=\"data row12 col1\" >0.05</td>\n",
       "            </tr>\n",
       "            <tr>\n",
       "                        <th id=\"T_b5af36b0_cff8_11ea_aa5a_180373a62a38level0_row13\" class=\"row_heading level0 row13\" >13</th>\n",
       "                        <td id=\"T_b5af36b0_cff8_11ea_aa5a_180373a62a38row13_col0\" class=\"data row13 col0\" >Stay_In_Current_City_Years</td>\n",
       "                        <td id=\"T_b5af36b0_cff8_11ea_aa5a_180373a62a38row13_col1\" class=\"data row13 col1\" >0.05</td>\n",
       "            </tr>\n",
       "            <tr>\n",
       "                        <th id=\"T_b5af36b0_cff8_11ea_aa5a_180373a62a38level0_row14\" class=\"row_heading level0 row14\" >14</th>\n",
       "                        <td id=\"T_b5af36b0_cff8_11ea_aa5a_180373a62a38row14_col0\" class=\"data row14 col0\" >Product_Category_2_Count</td>\n",
       "                        <td id=\"T_b5af36b0_cff8_11ea_aa5a_180373a62a38row14_col1\" class=\"data row14 col1\" >0.05</td>\n",
       "            </tr>\n",
       "            <tr>\n",
       "                        <th id=\"T_b5af36b0_cff8_11ea_aa5a_180373a62a38level0_row15\" class=\"row_heading level0 row15\" >15</th>\n",
       "                        <td id=\"T_b5af36b0_cff8_11ea_aa5a_180373a62a38row15_col0\" class=\"data row15 col0\" >Product_Category_3</td>\n",
       "                        <td id=\"T_b5af36b0_cff8_11ea_aa5a_180373a62a38row15_col1\" class=\"data row15 col1\" >0.03</td>\n",
       "            </tr>\n",
       "            <tr>\n",
       "                        <th id=\"T_b5af36b0_cff8_11ea_aa5a_180373a62a38level0_row16\" class=\"row_heading level0 row16\" >16</th>\n",
       "                        <td id=\"T_b5af36b0_cff8_11ea_aa5a_180373a62a38row16_col0\" class=\"data row16 col0\" >Product_Category_3_Count</td>\n",
       "                        <td id=\"T_b5af36b0_cff8_11ea_aa5a_180373a62a38row16_col1\" class=\"data row16 col1\" >0.02</td>\n",
       "            </tr>\n",
       "            <tr>\n",
       "                        <th id=\"T_b5af36b0_cff8_11ea_aa5a_180373a62a38level0_row17\" class=\"row_heading level0 row17\" >17</th>\n",
       "                        <td id=\"T_b5af36b0_cff8_11ea_aa5a_180373a62a38row17_col0\" class=\"data row17 col0\" >Marital_Status</td>\n",
       "                        <td id=\"T_b5af36b0_cff8_11ea_aa5a_180373a62a38row17_col1\" class=\"data row17 col1\" >0.01</td>\n",
       "            </tr>\n",
       "    </tbody></table>"
      ],
      "text/plain": [
       "<pandas.io.formats.style.Styler at 0x1aad9c18>"
      ]
     },
     "execution_count": 737,
     "metadata": {},
     "output_type": "execute_result"
    }
   ],
   "source": [
    "# feature_important \n",
    "\n",
    "feature_important = pd.DataFrame({'Features':X_train.columns,'Importance':mod_2.feature_importances_})\n",
    "\n",
    "keys = list(X_train.columns)\n",
    "values = list(mod_2.feature_importances_)\n",
    "total = sum(values)\n",
    "new = [value * 100. / total for value in values]\n",
    "new = np.round(new,2)\n",
    "\n",
    "feature_importances = pd.DataFrame()\n",
    "feature_importances['Features'] = keys\n",
    "feature_importances['Importance (%)'] = new\n",
    "\n",
    "\n",
    "feature_importances = feature_importances.sort_values(['Importance (%)'],ascending=False).reset_index(drop=True)\n",
    "feature_importances\n",
    "feature_importances.style.set_properties(**{'font-size':'10pt'})"
   ]
  },
  {
   "cell_type": "code",
   "execution_count": 738,
   "metadata": {},
   "outputs": [
    {
     "data": {
      "text/plain": [
       "Text(0, 0.5, 'Features')"
      ]
     },
     "execution_count": 738,
     "metadata": {},
     "output_type": "execute_result"
    },
    {
     "data": {
      "image/png": "[encoded data removed]",
      "text/plain": [
       "<Figure size 1440x576 with 1 Axes>"
      ]
     },
     "metadata": {
      "needs_background": "light"
     },
     "output_type": "display_data"
    }
   ],
   "source": [
    "plt.figure(figsize=(20, 8))\n",
    "sns.barplot(data=feature_importances, x='Importance (%)', y='Features');\n",
    "plt.title('Feature importance',fontsize=24)\n",
    "plt.xlabel('Importance (%)',fontsize=20)\n",
    "plt.yticks(fontsize=15)\n",
    "plt.xticks(fontsize=15)\n",
    "plt.ylabel('Features',fontsize=20)"
   ]
  },
  {
   "cell_type": "code",
   "execution_count": 739,
   "metadata": {},
   "outputs": [],
   "source": [
    "#prediction2\n",
    "pred_lgbm_m2 = mod_2.predict(test2)\n",
    "sub=pd.concat([test_cpy['User_ID'],test_cpy['Product_ID'],pd.DataFrame(pred_lgbm_m2,columns=['Purchase'])],1)\n",
    "sub.to_csv('lgbm_mod2.csv',index=False)"
   ]
  },
  {
   "cell_type": "code",
   "execution_count": 740,
   "metadata": {},
   "outputs": [],
   "source": [
    "## Weighted average of above two models"
   ]
  },
  {
   "cell_type": "code",
   "execution_count": 741,
   "metadata": {},
   "outputs": [],
   "source": [
    "sub['Purchase'] = 0.5*pred_lgbm_m1 + 0.5*pred_lgbm_m2\n",
    "sub.to_csv('final.csv',index=False)"
   ]
  },
  {
   "cell_type": "code",
   "execution_count": null,
   "metadata": {},
   "outputs": [],
   "source": []
  },
  {
   "cell_type": "code",
   "execution_count": null,
   "metadata": {},
   "outputs": [],
   "source": []
  }
 ],
 "metadata": {
  "kernelspec": {
   "display_name": "Python 3",
   "language": "python",
   "name": "python3"
  },
  "language_info": {
   "codemirror_mode": {
    "name": "ipython",
    "version": 3
   },
   "file_extension": ".py",
   "mimetype": "text/x-python",
   "name": "python",
   "nbconvert_exporter": "python",
   "pygments_lexer": "ipython3",
   "version": "3.7.3"
  }
 },
 "nbformat": 4,
 "nbformat_minor": 2
}
